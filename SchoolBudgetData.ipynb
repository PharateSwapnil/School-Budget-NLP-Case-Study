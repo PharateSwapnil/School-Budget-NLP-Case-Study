{
  "cells": [
    {
      "cell_type": "markdown",
      "metadata": {
        "id": "gkhiF1dGV-dJ"
      },
      "source": [
        "# Labeling school budget data\n",
        "\n",
        "Goal: Perform NLP on school budget data to predict accurate labels for the expenditure category using multiclass classification models from scikit learn. \n",
        "\n",
        "We will build a human-in-the-loop system by assigning a probability of labels to each line item.  \n",
        "\n",
        "Author: Sushant N. More\n",
        "\n",
        "Data from [DrivenData](https://www.drivendata.org/competitions/46/box-plots-for-education-reboot/data/) \n",
        "\n",
        "Ref: Datacamp"
      ]
    },
    {
      "cell_type": "code",
      "execution_count": 6,
      "metadata": {
        "collapsed": true,
        "id": "G-t0FjXSV-dM"
      },
      "outputs": [],
      "source": [
        "import pandas as pd\n",
        "import matplotlib.pyplot as plt\n",
        "%matplotlib inline\n",
        "import numpy as np\n",
        "from sklearn.linear_model import LogisticRegression\n",
        "from sklearn.multiclass import OneVsRestClassifier\n",
        "from sklearn.feature_extraction.text import CountVectorizer\n",
        "from sklearn.preprocessing import FunctionTransformer\n",
        "from sklearn.pipeline import FeatureUnion\n",
        "from sklearn.pipeline import Pipeline\n",
        "from sklearn.impute import SimpleImputer\n",
        "from sklearn.ensemble import RandomForestClassifier"
      ]
    },
    {
      "cell_type": "code",
      "execution_count": 7,
      "metadata": {
        "collapsed": true,
        "id": "cHPVqQLDV-dN"
      },
      "outputs": [],
      "source": [
        "df_train = pd.read_csv(r'C:\\Users\\KrishnaBalram\\Desktop\\School Budget\\School Budget TrainingData.csv', index_col=0)"
      ]
    },
    {
      "cell_type": "code",
      "execution_count": 8,
      "metadata": {
        "colab": {
          "base_uri": "https://localhost:8080/",
          "height": 490
        },
        "id": "w2XtlvlTV-dN",
        "outputId": "f05ba177-c892-46e7-d503-af68c1fd10d2"
      },
      "outputs": [
        {
          "data": {
            "text/html": [
              "<div>\n",
              "<style scoped>\n",
              "    .dataframe tbody tr th:only-of-type {\n",
              "        vertical-align: middle;\n",
              "    }\n",
              "\n",
              "    .dataframe tbody tr th {\n",
              "        vertical-align: top;\n",
              "    }\n",
              "\n",
              "    .dataframe thead th {\n",
              "        text-align: right;\n",
              "    }\n",
              "</style>\n",
              "<table border=\"1\" class=\"dataframe\">\n",
              "  <thead>\n",
              "    <tr style=\"text-align: right;\">\n",
              "      <th></th>\n",
              "      <th>Function</th>\n",
              "      <th>Use</th>\n",
              "      <th>Sharing</th>\n",
              "      <th>Reporting</th>\n",
              "      <th>Student_Type</th>\n",
              "      <th>Position_Type</th>\n",
              "      <th>Object_Type</th>\n",
              "      <th>Pre_K</th>\n",
              "      <th>Operating_Status</th>\n",
              "      <th>Object_Description</th>\n",
              "      <th>...</th>\n",
              "      <th>Sub_Object_Description</th>\n",
              "      <th>Location_Description</th>\n",
              "      <th>FTE</th>\n",
              "      <th>Function_Description</th>\n",
              "      <th>Facility_or_Department</th>\n",
              "      <th>Position_Extra</th>\n",
              "      <th>Total</th>\n",
              "      <th>Program_Description</th>\n",
              "      <th>Fund_Description</th>\n",
              "      <th>Text_1</th>\n",
              "    </tr>\n",
              "  </thead>\n",
              "  <tbody>\n",
              "    <tr>\n",
              "      <th>198</th>\n",
              "      <td>NO_LABEL</td>\n",
              "      <td>NO_LABEL</td>\n",
              "      <td>NO_LABEL</td>\n",
              "      <td>NO_LABEL</td>\n",
              "      <td>NO_LABEL</td>\n",
              "      <td>NO_LABEL</td>\n",
              "      <td>NO_LABEL</td>\n",
              "      <td>NO_LABEL</td>\n",
              "      <td>Non-Operating</td>\n",
              "      <td>Supplemental *</td>\n",
              "      <td>...</td>\n",
              "      <td>Non-Certificated Salaries And Wages</td>\n",
              "      <td>NaN</td>\n",
              "      <td>NaN</td>\n",
              "      <td>Care and Upkeep of Building Services</td>\n",
              "      <td>NaN</td>\n",
              "      <td>NaN</td>\n",
              "      <td>-8291.86</td>\n",
              "      <td>NaN</td>\n",
              "      <td>Title I - Disadvantaged Children/Targeted Assi...</td>\n",
              "      <td>TITLE I CARRYOVER</td>\n",
              "    </tr>\n",
              "    <tr>\n",
              "      <th>209</th>\n",
              "      <td>Student Transportation</td>\n",
              "      <td>NO_LABEL</td>\n",
              "      <td>Shared Services</td>\n",
              "      <td>Non-School</td>\n",
              "      <td>NO_LABEL</td>\n",
              "      <td>NO_LABEL</td>\n",
              "      <td>Other Non-Compensation</td>\n",
              "      <td>NO_LABEL</td>\n",
              "      <td>PreK-12 Operating</td>\n",
              "      <td>REPAIR AND MAINTENANCE SERVICES</td>\n",
              "      <td>...</td>\n",
              "      <td>NaN</td>\n",
              "      <td>ADMIN. SERVICES</td>\n",
              "      <td>NaN</td>\n",
              "      <td>STUDENT TRANSPORT SERVICE</td>\n",
              "      <td>NaN</td>\n",
              "      <td>NaN</td>\n",
              "      <td>618.29</td>\n",
              "      <td>PUPIL TRANSPORTATION</td>\n",
              "      <td>General Fund</td>\n",
              "      <td>NaN</td>\n",
              "    </tr>\n",
              "    <tr>\n",
              "      <th>750</th>\n",
              "      <td>Teacher Compensation</td>\n",
              "      <td>Instruction</td>\n",
              "      <td>School Reported</td>\n",
              "      <td>School</td>\n",
              "      <td>Unspecified</td>\n",
              "      <td>Teacher</td>\n",
              "      <td>Base Salary/Compensation</td>\n",
              "      <td>Non PreK</td>\n",
              "      <td>PreK-12 Operating</td>\n",
              "      <td>Personal Services - Teachers</td>\n",
              "      <td>...</td>\n",
              "      <td>NaN</td>\n",
              "      <td>NaN</td>\n",
              "      <td>1.0</td>\n",
              "      <td>NaN</td>\n",
              "      <td>NaN</td>\n",
              "      <td>TEACHER</td>\n",
              "      <td>49768.82</td>\n",
              "      <td>Instruction - Regular</td>\n",
              "      <td>General Purpose School</td>\n",
              "      <td>NaN</td>\n",
              "    </tr>\n",
              "    <tr>\n",
              "      <th>931</th>\n",
              "      <td>NO_LABEL</td>\n",
              "      <td>NO_LABEL</td>\n",
              "      <td>NO_LABEL</td>\n",
              "      <td>NO_LABEL</td>\n",
              "      <td>NO_LABEL</td>\n",
              "      <td>NO_LABEL</td>\n",
              "      <td>NO_LABEL</td>\n",
              "      <td>NO_LABEL</td>\n",
              "      <td>Non-Operating</td>\n",
              "      <td>General Supplies</td>\n",
              "      <td>...</td>\n",
              "      <td>General Supplies</td>\n",
              "      <td>NaN</td>\n",
              "      <td>NaN</td>\n",
              "      <td>Instruction</td>\n",
              "      <td>Instruction And Curriculum</td>\n",
              "      <td>NaN</td>\n",
              "      <td>-1.02</td>\n",
              "      <td>\"Title I, Part A Schoolwide Activities Related...</td>\n",
              "      <td>General Operating Fund</td>\n",
              "      <td>NaN</td>\n",
              "    </tr>\n",
              "    <tr>\n",
              "      <th>1524</th>\n",
              "      <td>NO_LABEL</td>\n",
              "      <td>NO_LABEL</td>\n",
              "      <td>NO_LABEL</td>\n",
              "      <td>NO_LABEL</td>\n",
              "      <td>NO_LABEL</td>\n",
              "      <td>NO_LABEL</td>\n",
              "      <td>NO_LABEL</td>\n",
              "      <td>NO_LABEL</td>\n",
              "      <td>Non-Operating</td>\n",
              "      <td>Supplies and Materials</td>\n",
              "      <td>...</td>\n",
              "      <td>Supplies And Materials</td>\n",
              "      <td>NaN</td>\n",
              "      <td>NaN</td>\n",
              "      <td>Other Community Services *</td>\n",
              "      <td>NaN</td>\n",
              "      <td>NaN</td>\n",
              "      <td>2304.43</td>\n",
              "      <td>NaN</td>\n",
              "      <td>Title I - Disadvantaged Children/Targeted Assi...</td>\n",
              "      <td>TITLE I PI+HOMELESS</td>\n",
              "    </tr>\n",
              "  </tbody>\n",
              "</table>\n",
              "<p>5 rows × 25 columns</p>\n",
              "</div>"
            ],
            "text/plain": [
              "                    Function          Use          Sharing   Reporting  \\\n",
              "198                 NO_LABEL     NO_LABEL         NO_LABEL    NO_LABEL   \n",
              "209   Student Transportation     NO_LABEL  Shared Services  Non-School   \n",
              "750     Teacher Compensation  Instruction  School Reported      School   \n",
              "931                 NO_LABEL     NO_LABEL         NO_LABEL    NO_LABEL   \n",
              "1524                NO_LABEL     NO_LABEL         NO_LABEL    NO_LABEL   \n",
              "\n",
              "     Student_Type Position_Type               Object_Type     Pre_K  \\\n",
              "198      NO_LABEL      NO_LABEL                  NO_LABEL  NO_LABEL   \n",
              "209      NO_LABEL      NO_LABEL    Other Non-Compensation  NO_LABEL   \n",
              "750   Unspecified       Teacher  Base Salary/Compensation  Non PreK   \n",
              "931      NO_LABEL      NO_LABEL                  NO_LABEL  NO_LABEL   \n",
              "1524     NO_LABEL      NO_LABEL                  NO_LABEL  NO_LABEL   \n",
              "\n",
              "       Operating_Status               Object_Description  ...  \\\n",
              "198       Non-Operating                   Supplemental *  ...   \n",
              "209   PreK-12 Operating  REPAIR AND MAINTENANCE SERVICES  ...   \n",
              "750   PreK-12 Operating     Personal Services - Teachers  ...   \n",
              "931       Non-Operating                 General Supplies  ...   \n",
              "1524      Non-Operating           Supplies and Materials  ...   \n",
              "\n",
              "                   Sub_Object_Description Location_Description  FTE  \\\n",
              "198   Non-Certificated Salaries And Wages                  NaN  NaN   \n",
              "209                                   NaN      ADMIN. SERVICES  NaN   \n",
              "750                                   NaN                  NaN  1.0   \n",
              "931                      General Supplies                  NaN  NaN   \n",
              "1524               Supplies And Materials                  NaN  NaN   \n",
              "\n",
              "                      Function_Description      Facility_or_Department  \\\n",
              "198   Care and Upkeep of Building Services                         NaN   \n",
              "209              STUDENT TRANSPORT SERVICE                         NaN   \n",
              "750                                    NaN                         NaN   \n",
              "931                            Instruction  Instruction And Curriculum   \n",
              "1524            Other Community Services *                         NaN   \n",
              "\n",
              "     Position_Extra     Total  \\\n",
              "198             NaN  -8291.86   \n",
              "209             NaN    618.29   \n",
              "750         TEACHER  49768.82   \n",
              "931             NaN     -1.02   \n",
              "1524            NaN   2304.43   \n",
              "\n",
              "                                    Program_Description  \\\n",
              "198                                                 NaN   \n",
              "209                                PUPIL TRANSPORTATION   \n",
              "750                               Instruction - Regular   \n",
              "931   \"Title I, Part A Schoolwide Activities Related...   \n",
              "1524                                                NaN   \n",
              "\n",
              "                                       Fund_Description                Text_1  \n",
              "198   Title I - Disadvantaged Children/Targeted Assi...    TITLE I CARRYOVER   \n",
              "209                                        General Fund                   NaN  \n",
              "750                              General Purpose School                   NaN  \n",
              "931                              General Operating Fund                   NaN  \n",
              "1524  Title I - Disadvantaged Children/Targeted Assi...   TITLE I PI+HOMELESS  \n",
              "\n",
              "[5 rows x 25 columns]"
            ]
          },
          "execution_count": 8,
          "metadata": {},
          "output_type": "execute_result"
        }
      ],
      "source": [
        "df_train.head()"
      ]
    },
    {
      "cell_type": "code",
      "execution_count": 9,
      "metadata": {
        "colab": {
          "base_uri": "https://localhost:8080/"
        },
        "id": "GuffMUGkV-dP",
        "outputId": "b2deeaff-a97e-4118-91f1-12a99fe851cd"
      },
      "outputs": [
        {
          "name": "stdout",
          "output_type": "stream",
          "text": [
            "<class 'pandas.core.frame.DataFrame'>\n",
            "Int64Index: 1560 entries, 198 to 101861\n",
            "Data columns (total 25 columns):\n",
            " #   Column                  Non-Null Count  Dtype  \n",
            "---  ------                  --------------  -----  \n",
            " 0   Function                1560 non-null   object \n",
            " 1   Use                     1560 non-null   object \n",
            " 2   Sharing                 1560 non-null   object \n",
            " 3   Reporting               1560 non-null   object \n",
            " 4   Student_Type            1560 non-null   object \n",
            " 5   Position_Type           1560 non-null   object \n",
            " 6   Object_Type             1560 non-null   object \n",
            " 7   Pre_K                   1560 non-null   object \n",
            " 8   Operating_Status        1560 non-null   object \n",
            " 9   Object_Description      1461 non-null   object \n",
            " 10  Text_2                  382 non-null    object \n",
            " 11  SubFund_Description     1183 non-null   object \n",
            " 12  Job_Title_Description   1131 non-null   object \n",
            " 13  Text_3                  296 non-null    object \n",
            " 14  Text_4                  193 non-null    object \n",
            " 15  Sub_Object_Description  364 non-null    object \n",
            " 16  Location_Description    874 non-null    object \n",
            " 17  FTE                     449 non-null    float64\n",
            " 18  Function_Description    1340 non-null   object \n",
            " 19  Facility_or_Department  252 non-null    object \n",
            " 20  Position_Extra          1026 non-null   object \n",
            " 21  Total                   1542 non-null   float64\n",
            " 22  Program_Description     1192 non-null   object \n",
            " 23  Fund_Description        819 non-null    object \n",
            " 24  Text_1                  1132 non-null   object \n",
            "dtypes: float64(2), object(23)\n",
            "memory usage: 316.9+ KB\n"
          ]
        }
      ],
      "source": [
        "df_train.info()"
      ]
    },
    {
      "cell_type": "code",
      "execution_count": 10,
      "metadata": {
        "colab": {
          "base_uri": "https://localhost:8080/",
          "height": 438
        },
        "id": "gTysEtPOV-dP",
        "outputId": "f21aeffb-d86c-4f0f-f524-35670af1e0a6"
      },
      "outputs": [
        {
          "data": {
            "text/html": [
              "<div>\n",
              "<style scoped>\n",
              "    .dataframe tbody tr th:only-of-type {\n",
              "        vertical-align: middle;\n",
              "    }\n",
              "\n",
              "    .dataframe tbody tr th {\n",
              "        vertical-align: top;\n",
              "    }\n",
              "\n",
              "    .dataframe thead th {\n",
              "        text-align: right;\n",
              "    }\n",
              "</style>\n",
              "<table border=\"1\" class=\"dataframe\">\n",
              "  <thead>\n",
              "    <tr style=\"text-align: right;\">\n",
              "      <th></th>\n",
              "      <th>Function</th>\n",
              "      <th>Use</th>\n",
              "      <th>Sharing</th>\n",
              "      <th>Reporting</th>\n",
              "      <th>Student_Type</th>\n",
              "      <th>Position_Type</th>\n",
              "      <th>Object_Type</th>\n",
              "      <th>Pre_K</th>\n",
              "      <th>Operating_Status</th>\n",
              "      <th>Object_Description</th>\n",
              "      <th>...</th>\n",
              "      <th>Sub_Object_Description</th>\n",
              "      <th>Location_Description</th>\n",
              "      <th>FTE</th>\n",
              "      <th>Function_Description</th>\n",
              "      <th>Facility_or_Department</th>\n",
              "      <th>Position_Extra</th>\n",
              "      <th>Total</th>\n",
              "      <th>Program_Description</th>\n",
              "      <th>Fund_Description</th>\n",
              "      <th>Text_1</th>\n",
              "    </tr>\n",
              "  </thead>\n",
              "  <tbody>\n",
              "    <tr>\n",
              "      <th>344986</th>\n",
              "      <td>Substitute Compensation</td>\n",
              "      <td>Instruction</td>\n",
              "      <td>School Reported</td>\n",
              "      <td>School</td>\n",
              "      <td>Unspecified</td>\n",
              "      <td>Substitute</td>\n",
              "      <td>Benefits</td>\n",
              "      <td>NO_LABEL</td>\n",
              "      <td>PreK-12 Operating</td>\n",
              "      <td>EMPLOYEE BENEFITS</td>\n",
              "      <td>...</td>\n",
              "      <td>NaN</td>\n",
              "      <td>NaN</td>\n",
              "      <td>NaN</td>\n",
              "      <td>UNALLOC BUDGETS/SCHOOLS</td>\n",
              "      <td>NaN</td>\n",
              "      <td>PROFESSIONAL-INSTRUCTIONAL</td>\n",
              "      <td>27.04000</td>\n",
              "      <td>GENERAL HIGH SCHOOL EDUCATION</td>\n",
              "      <td>NaN</td>\n",
              "      <td>REGULAR INSTRUCTION</td>\n",
              "    </tr>\n",
              "    <tr>\n",
              "      <th>384803</th>\n",
              "      <td>NO_LABEL</td>\n",
              "      <td>NO_LABEL</td>\n",
              "      <td>NO_LABEL</td>\n",
              "      <td>NO_LABEL</td>\n",
              "      <td>NO_LABEL</td>\n",
              "      <td>NO_LABEL</td>\n",
              "      <td>NO_LABEL</td>\n",
              "      <td>NO_LABEL</td>\n",
              "      <td>Non-Operating</td>\n",
              "      <td>EMPLOYEE BENEFITS</td>\n",
              "      <td>...</td>\n",
              "      <td>NaN</td>\n",
              "      <td>PERSONNEL-PAID LEAVE</td>\n",
              "      <td>NaN</td>\n",
              "      <td>NON-PROJECT</td>\n",
              "      <td>NaN</td>\n",
              "      <td>PROFESSIONAL-INSTRUCTIONAL</td>\n",
              "      <td>NaN</td>\n",
              "      <td>STAFF SERVICES</td>\n",
              "      <td>NaN</td>\n",
              "      <td>CENTRAL</td>\n",
              "    </tr>\n",
              "    <tr>\n",
              "      <th>224382</th>\n",
              "      <td>Substitute Compensation</td>\n",
              "      <td>Instruction</td>\n",
              "      <td>School Reported</td>\n",
              "      <td>School</td>\n",
              "      <td>Special Education</td>\n",
              "      <td>Substitute</td>\n",
              "      <td>Substitute Compensation</td>\n",
              "      <td>NO_LABEL</td>\n",
              "      <td>PreK-12 Operating</td>\n",
              "      <td>OTHER PERSONAL SERVICES</td>\n",
              "      <td>...</td>\n",
              "      <td>NaN</td>\n",
              "      <td>School</td>\n",
              "      <td>0.0</td>\n",
              "      <td>EXCEPTIONAL</td>\n",
              "      <td>NaN</td>\n",
              "      <td>NaN</td>\n",
              "      <td>200.39000</td>\n",
              "      <td>NaN</td>\n",
              "      <td>GENERAL FUND</td>\n",
              "      <td>NaN</td>\n",
              "    </tr>\n",
              "    <tr>\n",
              "      <th>305347</th>\n",
              "      <td>Facilities &amp; Maintenance</td>\n",
              "      <td>O&amp;M</td>\n",
              "      <td>Leadership &amp; Management</td>\n",
              "      <td>Non-School</td>\n",
              "      <td>Gifted</td>\n",
              "      <td>Custodian</td>\n",
              "      <td>Other Compensation/Stipend</td>\n",
              "      <td>Non PreK</td>\n",
              "      <td>PreK-12 Operating</td>\n",
              "      <td>Extra Duty Pay/Overtime For Support Personnel</td>\n",
              "      <td>...</td>\n",
              "      <td>Extra Duty Pay/Overtime For Support Personnel</td>\n",
              "      <td>Unallocated</td>\n",
              "      <td>NaN</td>\n",
              "      <td>Facilities Maintenance And Operations</td>\n",
              "      <td>Gifted And Talented</td>\n",
              "      <td>ANY CUS WHO IS NOT A SUPER</td>\n",
              "      <td>5.29000</td>\n",
              "      <td>Gifted And Talented</td>\n",
              "      <td>General Operating Fund</td>\n",
              "      <td>ADDL REGULAR PAY-NOT SMOOTHED</td>\n",
              "    </tr>\n",
              "    <tr>\n",
              "      <th>101861</th>\n",
              "      <td>Teacher Compensation</td>\n",
              "      <td>Instruction</td>\n",
              "      <td>School Reported</td>\n",
              "      <td>School</td>\n",
              "      <td>Poverty</td>\n",
              "      <td>Teacher</td>\n",
              "      <td>Base Salary/Compensation</td>\n",
              "      <td>NO_LABEL</td>\n",
              "      <td>PreK-12 Operating</td>\n",
              "      <td>SALARIES OF REGULAR EMPLOYEES</td>\n",
              "      <td>...</td>\n",
              "      <td>NaN</td>\n",
              "      <td>NaN</td>\n",
              "      <td>NaN</td>\n",
              "      <td>TITLE I</td>\n",
              "      <td>NaN</td>\n",
              "      <td>PROFESSIONAL-INSTRUCTIONAL</td>\n",
              "      <td>1575.03504</td>\n",
              "      <td>GENERAL ELEMENTARY EDUCATION</td>\n",
              "      <td>NaN</td>\n",
              "      <td>REGULAR INSTRUCTION</td>\n",
              "    </tr>\n",
              "  </tbody>\n",
              "</table>\n",
              "<p>5 rows × 25 columns</p>\n",
              "</div>"
            ],
            "text/plain": [
              "                        Function          Use                  Sharing  \\\n",
              "344986   Substitute Compensation  Instruction          School Reported   \n",
              "384803                  NO_LABEL     NO_LABEL                 NO_LABEL   \n",
              "224382   Substitute Compensation  Instruction          School Reported   \n",
              "305347  Facilities & Maintenance          O&M  Leadership & Management   \n",
              "101861      Teacher Compensation  Instruction          School Reported   \n",
              "\n",
              "         Reporting       Student_Type Position_Type  \\\n",
              "344986      School        Unspecified    Substitute   \n",
              "384803    NO_LABEL           NO_LABEL      NO_LABEL   \n",
              "224382      School  Special Education    Substitute   \n",
              "305347  Non-School             Gifted     Custodian   \n",
              "101861      School            Poverty       Teacher   \n",
              "\n",
              "                       Object_Type     Pre_K   Operating_Status  \\\n",
              "344986                    Benefits  NO_LABEL  PreK-12 Operating   \n",
              "384803                    NO_LABEL  NO_LABEL      Non-Operating   \n",
              "224382     Substitute Compensation  NO_LABEL  PreK-12 Operating   \n",
              "305347  Other Compensation/Stipend  Non PreK  PreK-12 Operating   \n",
              "101861    Base Salary/Compensation  NO_LABEL  PreK-12 Operating   \n",
              "\n",
              "                                   Object_Description  ...  \\\n",
              "344986                              EMPLOYEE BENEFITS  ...   \n",
              "384803                              EMPLOYEE BENEFITS  ...   \n",
              "224382                 OTHER PERSONAL SERVICES         ...   \n",
              "305347  Extra Duty Pay/Overtime For Support Personnel  ...   \n",
              "101861                  SALARIES OF REGULAR EMPLOYEES  ...   \n",
              "\n",
              "                               Sub_Object_Description  Location_Description  \\\n",
              "344986                                            NaN                   NaN   \n",
              "384803                                            NaN  PERSONNEL-PAID LEAVE   \n",
              "224382                                            NaN               School    \n",
              "305347  Extra Duty Pay/Overtime For Support Personnel           Unallocated   \n",
              "101861                                            NaN                   NaN   \n",
              "\n",
              "        FTE                   Function_Description Facility_or_Department  \\\n",
              "344986  NaN                UNALLOC BUDGETS/SCHOOLS                    NaN   \n",
              "384803  NaN                            NON-PROJECT                    NaN   \n",
              "224382  0.0         EXCEPTIONAL                                       NaN   \n",
              "305347  NaN  Facilities Maintenance And Operations    Gifted And Talented   \n",
              "101861  NaN                                TITLE I                    NaN   \n",
              "\n",
              "                     Position_Extra       Total  \\\n",
              "344986   PROFESSIONAL-INSTRUCTIONAL    27.04000   \n",
              "384803   PROFESSIONAL-INSTRUCTIONAL         NaN   \n",
              "224382                          NaN   200.39000   \n",
              "305347  ANY CUS WHO IS NOT A SUPER      5.29000   \n",
              "101861   PROFESSIONAL-INSTRUCTIONAL  1575.03504   \n",
              "\n",
              "                  Program_Description                Fund_Description  \\\n",
              "344986  GENERAL HIGH SCHOOL EDUCATION                             NaN   \n",
              "384803                 STAFF SERVICES                             NaN   \n",
              "224382                            NaN  GENERAL FUND                     \n",
              "305347            Gifted And Talented          General Operating Fund   \n",
              "101861   GENERAL ELEMENTARY EDUCATION                             NaN   \n",
              "\n",
              "                               Text_1  \n",
              "344986            REGULAR INSTRUCTION  \n",
              "384803                        CENTRAL  \n",
              "224382                            NaN  \n",
              "305347  ADDL REGULAR PAY-NOT SMOOTHED  \n",
              "101861            REGULAR INSTRUCTION  \n",
              "\n",
              "[5 rows x 25 columns]"
            ]
          },
          "execution_count": 10,
          "metadata": {},
          "output_type": "execute_result"
        }
      ],
      "source": [
        "df_train.tail()"
      ]
    },
    {
      "cell_type": "code",
      "execution_count": 11,
      "metadata": {
        "colab": {
          "base_uri": "https://localhost:8080/"
        },
        "id": "QDe4uE3KV-dP",
        "outputId": "e8ffe240-f08e-4175-f8a5-540d5da77159"
      },
      "outputs": [
        {
          "data": {
            "text/plain": [
              "Index(['Function', 'Use', 'Sharing', 'Reporting', 'Student_Type',\n",
              "       'Position_Type', 'Object_Type', 'Pre_K', 'Operating_Status',\n",
              "       'Object_Description', 'Text_2', 'SubFund_Description',\n",
              "       'Job_Title_Description', 'Text_3', 'Text_4', 'Sub_Object_Description',\n",
              "       'Location_Description', 'FTE', 'Function_Description',\n",
              "       'Facility_or_Department', 'Position_Extra', 'Total',\n",
              "       'Program_Description', 'Fund_Description', 'Text_1'],\n",
              "      dtype='object')"
            ]
          },
          "execution_count": 11,
          "metadata": {},
          "output_type": "execute_result"
        }
      ],
      "source": [
        "df_train.columns"
      ]
    },
    {
      "cell_type": "code",
      "execution_count": 12,
      "metadata": {
        "colab": {
          "base_uri": "https://localhost:8080/",
          "height": 300
        },
        "id": "IR1rqUx7V-dQ",
        "outputId": "94c494b3-fb70-41bb-90b1-39473082f5d4"
      },
      "outputs": [
        {
          "data": {
            "text/html": [
              "<div>\n",
              "<style scoped>\n",
              "    .dataframe tbody tr th:only-of-type {\n",
              "        vertical-align: middle;\n",
              "    }\n",
              "\n",
              "    .dataframe tbody tr th {\n",
              "        vertical-align: top;\n",
              "    }\n",
              "\n",
              "    .dataframe thead th {\n",
              "        text-align: right;\n",
              "    }\n",
              "</style>\n",
              "<table border=\"1\" class=\"dataframe\">\n",
              "  <thead>\n",
              "    <tr style=\"text-align: right;\">\n",
              "      <th></th>\n",
              "      <th>FTE</th>\n",
              "      <th>Total</th>\n",
              "    </tr>\n",
              "  </thead>\n",
              "  <tbody>\n",
              "    <tr>\n",
              "      <th>count</th>\n",
              "      <td>449.000000</td>\n",
              "      <td>1.542000e+03</td>\n",
              "    </tr>\n",
              "    <tr>\n",
              "      <th>mean</th>\n",
              "      <td>0.493532</td>\n",
              "      <td>1.446867e+04</td>\n",
              "    </tr>\n",
              "    <tr>\n",
              "      <th>std</th>\n",
              "      <td>0.452844</td>\n",
              "      <td>7.916752e+04</td>\n",
              "    </tr>\n",
              "    <tr>\n",
              "      <th>min</th>\n",
              "      <td>-0.002369</td>\n",
              "      <td>-1.044084e+06</td>\n",
              "    </tr>\n",
              "    <tr>\n",
              "      <th>25%</th>\n",
              "      <td>0.004310</td>\n",
              "      <td>1.108111e+02</td>\n",
              "    </tr>\n",
              "    <tr>\n",
              "      <th>50%</th>\n",
              "      <td>0.440000</td>\n",
              "      <td>7.060299e+02</td>\n",
              "    </tr>\n",
              "    <tr>\n",
              "      <th>75%</th>\n",
              "      <td>1.000000</td>\n",
              "      <td>5.347760e+03</td>\n",
              "    </tr>\n",
              "    <tr>\n",
              "      <th>max</th>\n",
              "      <td>1.047222</td>\n",
              "      <td>1.367500e+06</td>\n",
              "    </tr>\n",
              "  </tbody>\n",
              "</table>\n",
              "</div>"
            ],
            "text/plain": [
              "              FTE         Total\n",
              "count  449.000000  1.542000e+03\n",
              "mean     0.493532  1.446867e+04\n",
              "std      0.452844  7.916752e+04\n",
              "min     -0.002369 -1.044084e+06\n",
              "25%      0.004310  1.108111e+02\n",
              "50%      0.440000  7.060299e+02\n",
              "75%      1.000000  5.347760e+03\n",
              "max      1.047222  1.367500e+06"
            ]
          },
          "execution_count": 12,
          "metadata": {},
          "output_type": "execute_result"
        }
      ],
      "source": [
        "df_train.describe()"
      ]
    },
    {
      "cell_type": "markdown",
      "metadata": {
        "id": "GfwLhzxEV-dQ"
      },
      "source": [
        "FTE: Stands for \"full-time equivalent\". If the budget item is associated to an employee, this number tells us the percentage of full-time that the employee works. A value of 1 means the associated employee works for the school full-time. A value close to 0 means the item is associated to a part-time or contracted employee.\n",
        "\n",
        "Total: Stands for the total cost of the expenditure. This number tells us how much the budget item cost.\n",
        "\n",
        "The variance in expenditure is high. Makes sense---some purchases are cheap, some are expensive. "
      ]
    },
    {
      "cell_type": "code",
      "execution_count": 13,
      "metadata": {
        "colab": {
          "base_uri": "https://localhost:8080/",
          "height": 449
        },
        "id": "SnRX2iVWV-dQ",
        "outputId": "fc5bdad3-620b-4e19-f626-0466ecf03885"
      },
      "outputs": [
        {
          "data": {
            "image/png": "[encoded data removed]",
            "text/plain": [
              "<Figure size 640x480 with 1 Axes>"
            ]
          },
          "metadata": {},
          "output_type": "display_data"
        }
      ],
      "source": [
        "df_train['FTE'].dropna().plot(kind = 'hist', xlim = [0, 1], bins = 500);\n",
        "plt.xlabel('% of full-time');"
      ]
    },
    {
      "cell_type": "markdown",
      "metadata": {
        "id": "NzV4AruyV-dQ"
      },
      "source": [
        "Bi-modal distribution! "
      ]
    },
    {
      "cell_type": "markdown",
      "metadata": {
        "id": "MCYRB6EHV-dR"
      },
      "source": [
        "Making variables categorical.\n",
        "\n",
        "First let's look at object variables. "
      ]
    },
    {
      "cell_type": "code",
      "execution_count": 14,
      "metadata": {
        "colab": {
          "base_uri": "https://localhost:8080/"
        },
        "id": "SXiBts95V-dR",
        "outputId": "855ed623-afe8-4e60-bc6f-c1753556b1c7"
      },
      "outputs": [
        {
          "data": {
            "text/plain": [
              "Function                   object\n",
              "Use                        object\n",
              "Sharing                    object\n",
              "Reporting                  object\n",
              "Student_Type               object\n",
              "Position_Type              object\n",
              "Object_Type                object\n",
              "Pre_K                      object\n",
              "Operating_Status           object\n",
              "Object_Description         object\n",
              "Text_2                     object\n",
              "SubFund_Description        object\n",
              "Job_Title_Description      object\n",
              "Text_3                     object\n",
              "Text_4                     object\n",
              "Sub_Object_Description     object\n",
              "Location_Description       object\n",
              "FTE                       float64\n",
              "Function_Description       object\n",
              "Facility_or_Department     object\n",
              "Position_Extra             object\n",
              "Total                     float64\n",
              "Program_Description        object\n",
              "Fund_Description           object\n",
              "Text_1                     object\n",
              "dtype: object"
            ]
          },
          "execution_count": 14,
          "metadata": {},
          "output_type": "execute_result"
        }
      ],
      "source": [
        "df_train.dtypes"
      ]
    },
    {
      "cell_type": "code",
      "execution_count": 15,
      "metadata": {
        "colab": {
          "base_uri": "https://localhost:8080/"
        },
        "id": "jHyt8WQsV-dR",
        "outputId": "5d23df5f-6c67-4439-f0c2-4192ce4ad6ac"
      },
      "outputs": [
        {
          "data": {
            "text/plain": [
              "object     23\n",
              "float64     2\n",
              "dtype: int64"
            ]
          },
          "execution_count": 15,
          "metadata": {},
          "output_type": "execute_result"
        }
      ],
      "source": [
        "df_train.dtypes.value_counts()"
      ]
    },
    {
      "cell_type": "markdown",
      "metadata": {
        "id": "uxZLoEpSV-dR"
      },
      "source": [
        "The object types are slow and don't work well with ML algorithms.\n",
        "\n",
        "For each of these rows, ERS attaches one label from each of 9 different categories as explained [here.](https://www.drivendata.org/competitions/46/box-plots-for-education-reboot/page/86/#labels_list)\n",
        "\n",
        "Next we convert these labels into categories type."
      ]
    },
    {
      "cell_type": "code",
      "execution_count": 16,
      "metadata": {
        "collapsed": true,
        "id": "1_ObDS2mV-dS"
      },
      "outputs": [],
      "source": [
        "labels = ['Function',\n",
        " 'Use',\n",
        " 'Sharing',\n",
        " 'Reporting',\n",
        " 'Student_Type',\n",
        " 'Position_Type',\n",
        " 'Object_Type',\n",
        " 'Pre_K',\n",
        " 'Operating_Status']"
      ]
    },
    {
      "cell_type": "code",
      "execution_count": 17,
      "metadata": {
        "colab": {
          "base_uri": "https://localhost:8080/",
          "height": 206
        },
        "id": "HIcJuQtoV-dS",
        "outputId": "2a1baa36-9cd0-4cd9-aeca-518cd30b2bcd"
      },
      "outputs": [
        {
          "data": {
            "text/html": [
              "<div>\n",
              "<style scoped>\n",
              "    .dataframe tbody tr th:only-of-type {\n",
              "        vertical-align: middle;\n",
              "    }\n",
              "\n",
              "    .dataframe tbody tr th {\n",
              "        vertical-align: top;\n",
              "    }\n",
              "\n",
              "    .dataframe thead th {\n",
              "        text-align: right;\n",
              "    }\n",
              "</style>\n",
              "<table border=\"1\" class=\"dataframe\">\n",
              "  <thead>\n",
              "    <tr style=\"text-align: right;\">\n",
              "      <th></th>\n",
              "      <th>Function</th>\n",
              "      <th>Use</th>\n",
              "      <th>Sharing</th>\n",
              "      <th>Reporting</th>\n",
              "      <th>Student_Type</th>\n",
              "      <th>Position_Type</th>\n",
              "      <th>Object_Type</th>\n",
              "      <th>Pre_K</th>\n",
              "      <th>Operating_Status</th>\n",
              "    </tr>\n",
              "  </thead>\n",
              "  <tbody>\n",
              "    <tr>\n",
              "      <th>198</th>\n",
              "      <td>NO_LABEL</td>\n",
              "      <td>NO_LABEL</td>\n",
              "      <td>NO_LABEL</td>\n",
              "      <td>NO_LABEL</td>\n",
              "      <td>NO_LABEL</td>\n",
              "      <td>NO_LABEL</td>\n",
              "      <td>NO_LABEL</td>\n",
              "      <td>NO_LABEL</td>\n",
              "      <td>Non-Operating</td>\n",
              "    </tr>\n",
              "    <tr>\n",
              "      <th>209</th>\n",
              "      <td>Student Transportation</td>\n",
              "      <td>NO_LABEL</td>\n",
              "      <td>Shared Services</td>\n",
              "      <td>Non-School</td>\n",
              "      <td>NO_LABEL</td>\n",
              "      <td>NO_LABEL</td>\n",
              "      <td>Other Non-Compensation</td>\n",
              "      <td>NO_LABEL</td>\n",
              "      <td>PreK-12 Operating</td>\n",
              "    </tr>\n",
              "    <tr>\n",
              "      <th>750</th>\n",
              "      <td>Teacher Compensation</td>\n",
              "      <td>Instruction</td>\n",
              "      <td>School Reported</td>\n",
              "      <td>School</td>\n",
              "      <td>Unspecified</td>\n",
              "      <td>Teacher</td>\n",
              "      <td>Base Salary/Compensation</td>\n",
              "      <td>Non PreK</td>\n",
              "      <td>PreK-12 Operating</td>\n",
              "    </tr>\n",
              "    <tr>\n",
              "      <th>931</th>\n",
              "      <td>NO_LABEL</td>\n",
              "      <td>NO_LABEL</td>\n",
              "      <td>NO_LABEL</td>\n",
              "      <td>NO_LABEL</td>\n",
              "      <td>NO_LABEL</td>\n",
              "      <td>NO_LABEL</td>\n",
              "      <td>NO_LABEL</td>\n",
              "      <td>NO_LABEL</td>\n",
              "      <td>Non-Operating</td>\n",
              "    </tr>\n",
              "    <tr>\n",
              "      <th>1524</th>\n",
              "      <td>NO_LABEL</td>\n",
              "      <td>NO_LABEL</td>\n",
              "      <td>NO_LABEL</td>\n",
              "      <td>NO_LABEL</td>\n",
              "      <td>NO_LABEL</td>\n",
              "      <td>NO_LABEL</td>\n",
              "      <td>NO_LABEL</td>\n",
              "      <td>NO_LABEL</td>\n",
              "      <td>Non-Operating</td>\n",
              "    </tr>\n",
              "  </tbody>\n",
              "</table>\n",
              "</div>"
            ],
            "text/plain": [
              "                    Function          Use          Sharing   Reporting  \\\n",
              "198                 NO_LABEL     NO_LABEL         NO_LABEL    NO_LABEL   \n",
              "209   Student Transportation     NO_LABEL  Shared Services  Non-School   \n",
              "750     Teacher Compensation  Instruction  School Reported      School   \n",
              "931                 NO_LABEL     NO_LABEL         NO_LABEL    NO_LABEL   \n",
              "1524                NO_LABEL     NO_LABEL         NO_LABEL    NO_LABEL   \n",
              "\n",
              "     Student_Type Position_Type               Object_Type     Pre_K  \\\n",
              "198      NO_LABEL      NO_LABEL                  NO_LABEL  NO_LABEL   \n",
              "209      NO_LABEL      NO_LABEL    Other Non-Compensation  NO_LABEL   \n",
              "750   Unspecified       Teacher  Base Salary/Compensation  Non PreK   \n",
              "931      NO_LABEL      NO_LABEL                  NO_LABEL  NO_LABEL   \n",
              "1524     NO_LABEL      NO_LABEL                  NO_LABEL  NO_LABEL   \n",
              "\n",
              "       Operating_Status  \n",
              "198       Non-Operating  \n",
              "209   PreK-12 Operating  \n",
              "750   PreK-12 Operating  \n",
              "931       Non-Operating  \n",
              "1524      Non-Operating  "
            ]
          },
          "execution_count": 17,
          "metadata": {},
          "output_type": "execute_result"
        }
      ],
      "source": [
        "df_train[labels].head()"
      ]
    },
    {
      "cell_type": "code",
      "execution_count": 18,
      "metadata": {
        "colab": {
          "base_uri": "https://localhost:8080/"
        },
        "id": "QGVAGRynV-dS",
        "outputId": "21837bf9-8dba-41b2-e4e4-90208c9e8540"
      },
      "outputs": [
        {
          "data": {
            "text/plain": [
              "(1560, 9)"
            ]
          },
          "execution_count": 18,
          "metadata": {},
          "output_type": "execute_result"
        }
      ],
      "source": [
        "df_train[labels].shape"
      ]
    },
    {
      "cell_type": "code",
      "execution_count": 19,
      "metadata": {
        "colab": {
          "base_uri": "https://localhost:8080/"
        },
        "id": "-2ir7ZNmV-dT",
        "outputId": "d3812b19-c57e-4f79-a85a-2e457565cd56"
      },
      "outputs": [
        {
          "data": {
            "text/plain": [
              "{'FTE',\n",
              " 'Facility_or_Department',\n",
              " 'Function_Description',\n",
              " 'Fund_Description',\n",
              " 'Job_Title_Description',\n",
              " 'Location_Description',\n",
              " 'Object_Description',\n",
              " 'Position_Extra',\n",
              " 'Program_Description',\n",
              " 'SubFund_Description',\n",
              " 'Sub_Object_Description',\n",
              " 'Text_1',\n",
              " 'Text_2',\n",
              " 'Text_3',\n",
              " 'Text_4',\n",
              " 'Total'}"
            ]
          },
          "execution_count": 19,
          "metadata": {},
          "output_type": "execute_result"
        }
      ],
      "source": [
        "set(df_train.columns) - set(labels)"
      ]
    },
    {
      "cell_type": "code",
      "execution_count": 20,
      "metadata": {
        "collapsed": true,
        "id": "Olz_3oD_V-dT"
      },
      "outputs": [],
      "source": [
        "categorize_label = lambda lab: lab.astype('category')"
      ]
    },
    {
      "cell_type": "code",
      "execution_count": 21,
      "metadata": {
        "id": "MMInxdFBV-dU"
      },
      "outputs": [],
      "source": [
        "df_train[labels] = df_train[labels].apply(categorize_label, axis = 'rows')"
      ]
    },
    {
      "cell_type": "code",
      "execution_count": 22,
      "metadata": {
        "colab": {
          "base_uri": "https://localhost:8080/",
          "height": 206
        },
        "id": "xY4n581TV-dU",
        "outputId": "2cd1b207-1a85-4ff7-de1f-b04c34793b39"
      },
      "outputs": [
        {
          "data": {
            "text/html": [
              "<div>\n",
              "<style scoped>\n",
              "    .dataframe tbody tr th:only-of-type {\n",
              "        vertical-align: middle;\n",
              "    }\n",
              "\n",
              "    .dataframe tbody tr th {\n",
              "        vertical-align: top;\n",
              "    }\n",
              "\n",
              "    .dataframe thead th {\n",
              "        text-align: right;\n",
              "    }\n",
              "</style>\n",
              "<table border=\"1\" class=\"dataframe\">\n",
              "  <thead>\n",
              "    <tr style=\"text-align: right;\">\n",
              "      <th></th>\n",
              "      <th>Function</th>\n",
              "      <th>Use</th>\n",
              "      <th>Sharing</th>\n",
              "      <th>Reporting</th>\n",
              "      <th>Student_Type</th>\n",
              "      <th>Position_Type</th>\n",
              "      <th>Object_Type</th>\n",
              "      <th>Pre_K</th>\n",
              "      <th>Operating_Status</th>\n",
              "    </tr>\n",
              "  </thead>\n",
              "  <tbody>\n",
              "    <tr>\n",
              "      <th>198</th>\n",
              "      <td>NO_LABEL</td>\n",
              "      <td>NO_LABEL</td>\n",
              "      <td>NO_LABEL</td>\n",
              "      <td>NO_LABEL</td>\n",
              "      <td>NO_LABEL</td>\n",
              "      <td>NO_LABEL</td>\n",
              "      <td>NO_LABEL</td>\n",
              "      <td>NO_LABEL</td>\n",
              "      <td>Non-Operating</td>\n",
              "    </tr>\n",
              "    <tr>\n",
              "      <th>209</th>\n",
              "      <td>Student Transportation</td>\n",
              "      <td>NO_LABEL</td>\n",
              "      <td>Shared Services</td>\n",
              "      <td>Non-School</td>\n",
              "      <td>NO_LABEL</td>\n",
              "      <td>NO_LABEL</td>\n",
              "      <td>Other Non-Compensation</td>\n",
              "      <td>NO_LABEL</td>\n",
              "      <td>PreK-12 Operating</td>\n",
              "    </tr>\n",
              "    <tr>\n",
              "      <th>750</th>\n",
              "      <td>Teacher Compensation</td>\n",
              "      <td>Instruction</td>\n",
              "      <td>School Reported</td>\n",
              "      <td>School</td>\n",
              "      <td>Unspecified</td>\n",
              "      <td>Teacher</td>\n",
              "      <td>Base Salary/Compensation</td>\n",
              "      <td>Non PreK</td>\n",
              "      <td>PreK-12 Operating</td>\n",
              "    </tr>\n",
              "    <tr>\n",
              "      <th>931</th>\n",
              "      <td>NO_LABEL</td>\n",
              "      <td>NO_LABEL</td>\n",
              "      <td>NO_LABEL</td>\n",
              "      <td>NO_LABEL</td>\n",
              "      <td>NO_LABEL</td>\n",
              "      <td>NO_LABEL</td>\n",
              "      <td>NO_LABEL</td>\n",
              "      <td>NO_LABEL</td>\n",
              "      <td>Non-Operating</td>\n",
              "    </tr>\n",
              "    <tr>\n",
              "      <th>1524</th>\n",
              "      <td>NO_LABEL</td>\n",
              "      <td>NO_LABEL</td>\n",
              "      <td>NO_LABEL</td>\n",
              "      <td>NO_LABEL</td>\n",
              "      <td>NO_LABEL</td>\n",
              "      <td>NO_LABEL</td>\n",
              "      <td>NO_LABEL</td>\n",
              "      <td>NO_LABEL</td>\n",
              "      <td>Non-Operating</td>\n",
              "    </tr>\n",
              "  </tbody>\n",
              "</table>\n",
              "</div>"
            ],
            "text/plain": [
              "                    Function          Use          Sharing   Reporting  \\\n",
              "198                 NO_LABEL     NO_LABEL         NO_LABEL    NO_LABEL   \n",
              "209   Student Transportation     NO_LABEL  Shared Services  Non-School   \n",
              "750     Teacher Compensation  Instruction  School Reported      School   \n",
              "931                 NO_LABEL     NO_LABEL         NO_LABEL    NO_LABEL   \n",
              "1524                NO_LABEL     NO_LABEL         NO_LABEL    NO_LABEL   \n",
              "\n",
              "     Student_Type Position_Type               Object_Type     Pre_K  \\\n",
              "198      NO_LABEL      NO_LABEL                  NO_LABEL  NO_LABEL   \n",
              "209      NO_LABEL      NO_LABEL    Other Non-Compensation  NO_LABEL   \n",
              "750   Unspecified       Teacher  Base Salary/Compensation  Non PreK   \n",
              "931      NO_LABEL      NO_LABEL                  NO_LABEL  NO_LABEL   \n",
              "1524     NO_LABEL      NO_LABEL                  NO_LABEL  NO_LABEL   \n",
              "\n",
              "       Operating_Status  \n",
              "198       Non-Operating  \n",
              "209   PreK-12 Operating  \n",
              "750   PreK-12 Operating  \n",
              "931       Non-Operating  \n",
              "1524      Non-Operating  "
            ]
          },
          "execution_count": 22,
          "metadata": {},
          "output_type": "execute_result"
        }
      ],
      "source": [
        "df_train[labels].head()"
      ]
    },
    {
      "cell_type": "code",
      "execution_count": 23,
      "metadata": {
        "colab": {
          "base_uri": "https://localhost:8080/"
        },
        "id": "NI8LY9paV-dU",
        "outputId": "62b4f093-0f78-4aea-f8a3-86c3a29601ff"
      },
      "outputs": [
        {
          "data": {
            "text/plain": [
              "Function            category\n",
              "Use                 category\n",
              "Sharing             category\n",
              "Reporting           category\n",
              "Student_Type        category\n",
              "Position_Type       category\n",
              "Object_Type         category\n",
              "Pre_K               category\n",
              "Operating_Status    category\n",
              "dtype: object"
            ]
          },
          "execution_count": 23,
          "metadata": {},
          "output_type": "execute_result"
        }
      ],
      "source": [
        "df_train[labels].dtypes"
      ]
    },
    {
      "cell_type": "code",
      "execution_count": 24,
      "metadata": {
        "colab": {
          "base_uri": "https://localhost:8080/"
        },
        "id": "d5e8N9bFV-dU",
        "outputId": "66aea620-52eb-46f8-c254-35deb4bb4d65"
      },
      "outputs": [
        {
          "name": "stdout",
          "output_type": "stream",
          "text": [
            "<class 'pandas.core.frame.DataFrame'>\n",
            "Int64Index: 1560 entries, 198 to 101861\n",
            "Data columns (total 9 columns):\n",
            " #   Column            Non-Null Count  Dtype   \n",
            "---  ------            --------------  -----   \n",
            " 0   Function          1560 non-null   category\n",
            " 1   Use               1560 non-null   category\n",
            " 2   Sharing           1560 non-null   category\n",
            " 3   Reporting         1560 non-null   category\n",
            " 4   Student_Type      1560 non-null   category\n",
            " 5   Position_Type     1560 non-null   category\n",
            " 6   Object_Type       1560 non-null   category\n",
            " 7   Pre_K             1560 non-null   category\n",
            " 8   Operating_Status  1560 non-null   category\n",
            "dtypes: category(9)\n",
            "memory usage: 29.7 KB\n"
          ]
        }
      ],
      "source": [
        "df_train[labels].info()"
      ]
    },
    {
      "cell_type": "markdown",
      "metadata": {
        "id": "PG8jCjL2V-dU"
      },
      "source": [
        "Counting unique labels"
      ]
    },
    {
      "cell_type": "code",
      "execution_count": 25,
      "metadata": {
        "colab": {
          "base_uri": "https://localhost:8080/"
        },
        "id": "sKFjXic5V-dV",
        "outputId": "f374028c-e79b-4f1c-ae28-4f8f7d9700d8"
      },
      "outputs": [
        {
          "data": {
            "text/plain": [
              "Function            37\n",
              "Use                  8\n",
              "Sharing              5\n",
              "Reporting            3\n",
              "Student_Type         9\n",
              "Position_Type       25\n",
              "Object_Type         11\n",
              "Pre_K                3\n",
              "Operating_Status     3\n",
              "dtype: int64"
            ]
          },
          "execution_count": 25,
          "metadata": {},
          "output_type": "execute_result"
        }
      ],
      "source": [
        "df_train[labels].nunique()"
      ]
    },
    {
      "cell_type": "code",
      "execution_count": 26,
      "metadata": {
        "colab": {
          "base_uri": "https://localhost:8080/"
        },
        "id": "ce1o4c4zV-dV",
        "outputId": "bba76b76-aec2-429a-8a7d-16100be771fa"
      },
      "outputs": [
        {
          "data": {
            "text/plain": [
              "pandas.core.series.Series"
            ]
          },
          "execution_count": 26,
          "metadata": {},
          "output_type": "execute_result"
        }
      ],
      "source": [
        "type(df_train[labels].nunique())"
      ]
    },
    {
      "cell_type": "code",
      "execution_count": 27,
      "metadata": {
        "colab": {
          "base_uri": "https://localhost:8080/",
          "height": 537
        },
        "id": "O9HIVx2CV-dV",
        "outputId": "cfe405e0-fa30-49e9-c2cd-48c9a8d0c26c"
      },
      "outputs": [
        {
          "data": {
            "image/png": "[encoded data removed]",
            "text/plain": [
              "<Figure size 640x480 with 1 Axes>"
            ]
          },
          "metadata": {},
          "output_type": "display_data"
        }
      ],
      "source": [
        "df_train[labels].nunique().plot(kind = 'bar');\n",
        "plt.ylabel('number of unique values');"
      ]
    },
    {
      "cell_type": "markdown",
      "metadata": {
        "id": "iB7IxBjDV-dV"
      },
      "source": [
        "**Model building**\n",
        "\n",
        "As a first pass build a simple model using just the numeric columns."
      ]
    },
    {
      "cell_type": "code",
      "execution_count": 28,
      "metadata": {
        "collapsed": true,
        "id": "wuQZROLLV-dV"
      },
      "outputs": [],
      "source": [
        "numeric_data = df_train.select_dtypes(include = [float]).fillna(-1000)\n",
        "# filling NaNs with a large negative number"
      ]
    },
    {
      "cell_type": "code",
      "execution_count": 29,
      "metadata": {
        "collapsed": true,
        "id": "J4dYoxquV-dV"
      },
      "outputs": [],
      "source": [
        "numeric_columns = list(df_train.select_dtypes(include = [float]).columns.values)"
      ]
    },
    {
      "cell_type": "code",
      "execution_count": 30,
      "metadata": {
        "colab": {
          "base_uri": "https://localhost:8080/"
        },
        "id": "MsJtz2DcV-dW",
        "outputId": "2c6604cf-a0fb-42b7-9168-09f74120a778"
      },
      "outputs": [
        {
          "data": {
            "text/plain": [
              "['FTE', 'Total']"
            ]
          },
          "execution_count": 30,
          "metadata": {},
          "output_type": "execute_result"
        }
      ],
      "source": [
        "numeric_columns"
      ]
    },
    {
      "cell_type": "code",
      "execution_count": 31,
      "metadata": {
        "colab": {
          "base_uri": "https://localhost:8080/",
          "height": 206
        },
        "id": "q2slz5oMV-dW",
        "outputId": "7020363a-9c92-450b-a7c7-faf6b6e62cc8"
      },
      "outputs": [
        {
          "data": {
            "text/html": [
              "<div>\n",
              "<style scoped>\n",
              "    .dataframe tbody tr th:only-of-type {\n",
              "        vertical-align: middle;\n",
              "    }\n",
              "\n",
              "    .dataframe tbody tr th {\n",
              "        vertical-align: top;\n",
              "    }\n",
              "\n",
              "    .dataframe thead th {\n",
              "        text-align: right;\n",
              "    }\n",
              "</style>\n",
              "<table border=\"1\" class=\"dataframe\">\n",
              "  <thead>\n",
              "    <tr style=\"text-align: right;\">\n",
              "      <th></th>\n",
              "      <th>FTE</th>\n",
              "      <th>Total</th>\n",
              "    </tr>\n",
              "  </thead>\n",
              "  <tbody>\n",
              "    <tr>\n",
              "      <th>198</th>\n",
              "      <td>-1000.0</td>\n",
              "      <td>-8291.86</td>\n",
              "    </tr>\n",
              "    <tr>\n",
              "      <th>209</th>\n",
              "      <td>-1000.0</td>\n",
              "      <td>618.29</td>\n",
              "    </tr>\n",
              "    <tr>\n",
              "      <th>750</th>\n",
              "      <td>1.0</td>\n",
              "      <td>49768.82</td>\n",
              "    </tr>\n",
              "    <tr>\n",
              "      <th>931</th>\n",
              "      <td>-1000.0</td>\n",
              "      <td>-1.02</td>\n",
              "    </tr>\n",
              "    <tr>\n",
              "      <th>1524</th>\n",
              "      <td>-1000.0</td>\n",
              "      <td>2304.43</td>\n",
              "    </tr>\n",
              "  </tbody>\n",
              "</table>\n",
              "</div>"
            ],
            "text/plain": [
              "         FTE     Total\n",
              "198  -1000.0  -8291.86\n",
              "209  -1000.0    618.29\n",
              "750      1.0  49768.82\n",
              "931  -1000.0     -1.02\n",
              "1524 -1000.0   2304.43"
            ]
          },
          "execution_count": 31,
          "metadata": {},
          "output_type": "execute_result"
        }
      ],
      "source": [
        "numeric_data.head()"
      ]
    },
    {
      "cell_type": "code",
      "execution_count": 32,
      "metadata": {
        "colab": {
          "base_uri": "https://localhost:8080/"
        },
        "id": "MNTz0GxJV-dW",
        "outputId": "46cd0c65-5798-4d0a-a981-88dc299313cf"
      },
      "outputs": [
        {
          "data": {
            "text/plain": [
              "['FTE', 'Total']"
            ]
          },
          "execution_count": 32,
          "metadata": {},
          "output_type": "execute_result"
        }
      ],
      "source": [
        "numeric_columns"
      ]
    },
    {
      "cell_type": "code",
      "execution_count": 33,
      "metadata": {
        "colab": {
          "base_uri": "https://localhost:8080/",
          "height": 206
        },
        "id": "hWDonR0KV-dW",
        "outputId": "23162aef-1ef8-4f50-9a61-eb1157e9dca3"
      },
      "outputs": [
        {
          "data": {
            "text/html": [
              "<div>\n",
              "<style scoped>\n",
              "    .dataframe tbody tr th:only-of-type {\n",
              "        vertical-align: middle;\n",
              "    }\n",
              "\n",
              "    .dataframe tbody tr th {\n",
              "        vertical-align: top;\n",
              "    }\n",
              "\n",
              "    .dataframe thead th {\n",
              "        text-align: right;\n",
              "    }\n",
              "</style>\n",
              "<table border=\"1\" class=\"dataframe\">\n",
              "  <thead>\n",
              "    <tr style=\"text-align: right;\">\n",
              "      <th></th>\n",
              "      <th>FTE</th>\n",
              "      <th>Total</th>\n",
              "    </tr>\n",
              "  </thead>\n",
              "  <tbody>\n",
              "    <tr>\n",
              "      <th>198</th>\n",
              "      <td>NaN</td>\n",
              "      <td>-8291.86</td>\n",
              "    </tr>\n",
              "    <tr>\n",
              "      <th>209</th>\n",
              "      <td>NaN</td>\n",
              "      <td>618.29</td>\n",
              "    </tr>\n",
              "    <tr>\n",
              "      <th>750</th>\n",
              "      <td>1.0</td>\n",
              "      <td>49768.82</td>\n",
              "    </tr>\n",
              "    <tr>\n",
              "      <th>931</th>\n",
              "      <td>NaN</td>\n",
              "      <td>-1.02</td>\n",
              "    </tr>\n",
              "    <tr>\n",
              "      <th>1524</th>\n",
              "      <td>NaN</td>\n",
              "      <td>2304.43</td>\n",
              "    </tr>\n",
              "  </tbody>\n",
              "</table>\n",
              "</div>"
            ],
            "text/plain": [
              "      FTE     Total\n",
              "198   NaN  -8291.86\n",
              "209   NaN    618.29\n",
              "750   1.0  49768.82\n",
              "931   NaN     -1.02\n",
              "1524  NaN   2304.43"
            ]
          },
          "execution_count": 33,
          "metadata": {},
          "output_type": "execute_result"
        }
      ],
      "source": [
        "df_train[numeric_columns].head()"
      ]
    },
    {
      "cell_type": "code",
      "execution_count": 34,
      "metadata": {
        "collapsed": true,
        "id": "00fjUJ1sV-dX"
      },
      "outputs": [],
      "source": [
        "df_label_dummies = pd.get_dummies(df_train[labels])"
      ]
    },
    {
      "cell_type": "code",
      "execution_count": 35,
      "metadata": {
        "colab": {
          "base_uri": "https://localhost:8080/",
          "height": 351
        },
        "id": "ZsxJwNobV-dX",
        "outputId": "9e71d9bf-1007-4799-e6dd-d125c59ffdbc"
      },
      "outputs": [
        {
          "data": {
            "text/html": [
              "<div>\n",
              "<style scoped>\n",
              "    .dataframe tbody tr th:only-of-type {\n",
              "        vertical-align: middle;\n",
              "    }\n",
              "\n",
              "    .dataframe tbody tr th {\n",
              "        vertical-align: top;\n",
              "    }\n",
              "\n",
              "    .dataframe thead th {\n",
              "        text-align: right;\n",
              "    }\n",
              "</style>\n",
              "<table border=\"1\" class=\"dataframe\">\n",
              "  <thead>\n",
              "    <tr style=\"text-align: right;\">\n",
              "      <th></th>\n",
              "      <th>Function_Aides Compensation</th>\n",
              "      <th>Function_Career &amp; Academic Counseling</th>\n",
              "      <th>Function_Communications</th>\n",
              "      <th>Function_Curriculum Development</th>\n",
              "      <th>Function_Data Processing &amp; Information Services</th>\n",
              "      <th>Function_Development &amp; Fundraising</th>\n",
              "      <th>Function_Enrichment</th>\n",
              "      <th>Function_Extended Time &amp; Tutoring</th>\n",
              "      <th>Function_Facilities &amp; Maintenance</th>\n",
              "      <th>Function_Facilities Planning</th>\n",
              "      <th>...</th>\n",
              "      <th>Object_Type_Rent/Utilities</th>\n",
              "      <th>Object_Type_Substitute Compensation</th>\n",
              "      <th>Object_Type_Supplies/Materials</th>\n",
              "      <th>Object_Type_Travel &amp; Conferences</th>\n",
              "      <th>Pre_K_NO_LABEL</th>\n",
              "      <th>Pre_K_Non PreK</th>\n",
              "      <th>Pre_K_PreK</th>\n",
              "      <th>Operating_Status_Non-Operating</th>\n",
              "      <th>Operating_Status_Operating, Not PreK-12</th>\n",
              "      <th>Operating_Status_PreK-12 Operating</th>\n",
              "    </tr>\n",
              "  </thead>\n",
              "  <tbody>\n",
              "    <tr>\n",
              "      <th>198</th>\n",
              "      <td>0</td>\n",
              "      <td>0</td>\n",
              "      <td>0</td>\n",
              "      <td>0</td>\n",
              "      <td>0</td>\n",
              "      <td>0</td>\n",
              "      <td>0</td>\n",
              "      <td>0</td>\n",
              "      <td>0</td>\n",
              "      <td>0</td>\n",
              "      <td>...</td>\n",
              "      <td>0</td>\n",
              "      <td>0</td>\n",
              "      <td>0</td>\n",
              "      <td>0</td>\n",
              "      <td>1</td>\n",
              "      <td>0</td>\n",
              "      <td>0</td>\n",
              "      <td>1</td>\n",
              "      <td>0</td>\n",
              "      <td>0</td>\n",
              "    </tr>\n",
              "    <tr>\n",
              "      <th>209</th>\n",
              "      <td>0</td>\n",
              "      <td>0</td>\n",
              "      <td>0</td>\n",
              "      <td>0</td>\n",
              "      <td>0</td>\n",
              "      <td>0</td>\n",
              "      <td>0</td>\n",
              "      <td>0</td>\n",
              "      <td>0</td>\n",
              "      <td>0</td>\n",
              "      <td>...</td>\n",
              "      <td>0</td>\n",
              "      <td>0</td>\n",
              "      <td>0</td>\n",
              "      <td>0</td>\n",
              "      <td>1</td>\n",
              "      <td>0</td>\n",
              "      <td>0</td>\n",
              "      <td>0</td>\n",
              "      <td>0</td>\n",
              "      <td>1</td>\n",
              "    </tr>\n",
              "    <tr>\n",
              "      <th>750</th>\n",
              "      <td>0</td>\n",
              "      <td>0</td>\n",
              "      <td>0</td>\n",
              "      <td>0</td>\n",
              "      <td>0</td>\n",
              "      <td>0</td>\n",
              "      <td>0</td>\n",
              "      <td>0</td>\n",
              "      <td>0</td>\n",
              "      <td>0</td>\n",
              "      <td>...</td>\n",
              "      <td>0</td>\n",
              "      <td>0</td>\n",
              "      <td>0</td>\n",
              "      <td>0</td>\n",
              "      <td>0</td>\n",
              "      <td>1</td>\n",
              "      <td>0</td>\n",
              "      <td>0</td>\n",
              "      <td>0</td>\n",
              "      <td>1</td>\n",
              "    </tr>\n",
              "    <tr>\n",
              "      <th>931</th>\n",
              "      <td>0</td>\n",
              "      <td>0</td>\n",
              "      <td>0</td>\n",
              "      <td>0</td>\n",
              "      <td>0</td>\n",
              "      <td>0</td>\n",
              "      <td>0</td>\n",
              "      <td>0</td>\n",
              "      <td>0</td>\n",
              "      <td>0</td>\n",
              "      <td>...</td>\n",
              "      <td>0</td>\n",
              "      <td>0</td>\n",
              "      <td>0</td>\n",
              "      <td>0</td>\n",
              "      <td>1</td>\n",
              "      <td>0</td>\n",
              "      <td>0</td>\n",
              "      <td>1</td>\n",
              "      <td>0</td>\n",
              "      <td>0</td>\n",
              "    </tr>\n",
              "    <tr>\n",
              "      <th>1524</th>\n",
              "      <td>0</td>\n",
              "      <td>0</td>\n",
              "      <td>0</td>\n",
              "      <td>0</td>\n",
              "      <td>0</td>\n",
              "      <td>0</td>\n",
              "      <td>0</td>\n",
              "      <td>0</td>\n",
              "      <td>0</td>\n",
              "      <td>0</td>\n",
              "      <td>...</td>\n",
              "      <td>0</td>\n",
              "      <td>0</td>\n",
              "      <td>0</td>\n",
              "      <td>0</td>\n",
              "      <td>1</td>\n",
              "      <td>0</td>\n",
              "      <td>0</td>\n",
              "      <td>1</td>\n",
              "      <td>0</td>\n",
              "      <td>0</td>\n",
              "    </tr>\n",
              "  </tbody>\n",
              "</table>\n",
              "<p>5 rows × 104 columns</p>\n",
              "</div>"
            ],
            "text/plain": [
              "      Function_Aides Compensation  Function_Career & Academic Counseling  \\\n",
              "198                             0                                      0   \n",
              "209                             0                                      0   \n",
              "750                             0                                      0   \n",
              "931                             0                                      0   \n",
              "1524                            0                                      0   \n",
              "\n",
              "      Function_Communications  Function_Curriculum Development  \\\n",
              "198                         0                                0   \n",
              "209                         0                                0   \n",
              "750                         0                                0   \n",
              "931                         0                                0   \n",
              "1524                        0                                0   \n",
              "\n",
              "      Function_Data Processing & Information Services  \\\n",
              "198                                                 0   \n",
              "209                                                 0   \n",
              "750                                                 0   \n",
              "931                                                 0   \n",
              "1524                                                0   \n",
              "\n",
              "      Function_Development & Fundraising  Function_Enrichment  \\\n",
              "198                                    0                    0   \n",
              "209                                    0                    0   \n",
              "750                                    0                    0   \n",
              "931                                    0                    0   \n",
              "1524                                   0                    0   \n",
              "\n",
              "      Function_Extended Time & Tutoring  Function_Facilities & Maintenance  \\\n",
              "198                                   0                                  0   \n",
              "209                                   0                                  0   \n",
              "750                                   0                                  0   \n",
              "931                                   0                                  0   \n",
              "1524                                  0                                  0   \n",
              "\n",
              "      Function_Facilities Planning  ...  Object_Type_Rent/Utilities  \\\n",
              "198                              0  ...                           0   \n",
              "209                              0  ...                           0   \n",
              "750                              0  ...                           0   \n",
              "931                              0  ...                           0   \n",
              "1524                             0  ...                           0   \n",
              "\n",
              "      Object_Type_Substitute Compensation  Object_Type_Supplies/Materials  \\\n",
              "198                                     0                               0   \n",
              "209                                     0                               0   \n",
              "750                                     0                               0   \n",
              "931                                     0                               0   \n",
              "1524                                    0                               0   \n",
              "\n",
              "      Object_Type_Travel & Conferences  Pre_K_NO_LABEL  Pre_K_Non PreK  \\\n",
              "198                                  0               1               0   \n",
              "209                                  0               1               0   \n",
              "750                                  0               0               1   \n",
              "931                                  0               1               0   \n",
              "1524                                 0               1               0   \n",
              "\n",
              "      Pre_K_PreK  Operating_Status_Non-Operating  \\\n",
              "198            0                               1   \n",
              "209            0                               0   \n",
              "750            0                               0   \n",
              "931            0                               1   \n",
              "1524           0                               1   \n",
              "\n",
              "      Operating_Status_Operating, Not PreK-12  \\\n",
              "198                                         0   \n",
              "209                                         0   \n",
              "750                                         0   \n",
              "931                                         0   \n",
              "1524                                        0   \n",
              "\n",
              "      Operating_Status_PreK-12 Operating  \n",
              "198                                    0  \n",
              "209                                    1  \n",
              "750                                    1  \n",
              "931                                    0  \n",
              "1524                                   0  \n",
              "\n",
              "[5 rows x 104 columns]"
            ]
          },
          "execution_count": 35,
          "metadata": {},
          "output_type": "execute_result"
        }
      ],
      "source": [
        "df_label_dummies.head()"
      ]
    },
    {
      "cell_type": "code",
      "execution_count": 36,
      "metadata": {
        "colab": {
          "base_uri": "https://localhost:8080/"
        },
        "id": "UJfH9znEV-dX",
        "outputId": "15bbec8d-e1ed-489b-e393-098c779259cd"
      },
      "outputs": [
        {
          "data": {
            "text/plain": [
              "(1560, 104)"
            ]
          },
          "execution_count": 36,
          "metadata": {},
          "output_type": "execute_result"
        }
      ],
      "source": [
        "df_label_dummies.shape"
      ]
    },
    {
      "cell_type": "code",
      "execution_count": 37,
      "metadata": {
        "colab": {
          "base_uri": "https://localhost:8080/"
        },
        "id": "Adg0sqVhV-dX",
        "outputId": "da5e2076-460c-4fe5-d025-6491b20e2ec5"
      },
      "outputs": [
        {
          "data": {
            "text/plain": [
              "(1560, 9)"
            ]
          },
          "execution_count": 37,
          "metadata": {},
          "output_type": "execute_result"
        }
      ],
      "source": [
        "df_train[labels].shape"
      ]
    },
    {
      "cell_type": "markdown",
      "metadata": {
        "id": "ZWNr8XGFV-dX"
      },
      "source": [
        "** Doing the test-train split **\n",
        "\n",
        "Some labels don't occur very often, but we want to make sure that they appear in both the training and the test sets. A way to do this is using StratifiedShuffleSplit. However scikit-learn's StratifiedShuffleSplit works only for one target variable. Here we have 104 of them! \n",
        "\n",
        "To accomplish the stratified shuffle split for multiple target variable, I use the function written by [Peter Bull.](https://github.com/drivendataorg/box-plots-sklearn/blob/master/src/data/multilabel.py)"
      ]
    },
    {
      "cell_type": "code",
      "execution_count": 38,
      "metadata": {
        "collapsed": true,
        "id": "iN-j6LYmV-dY"
      },
      "outputs": [],
      "source": [
        "def multilabel_sample(y, size=1000, min_count=5, seed=None):\n",
        "    \"\"\" Takes a matrix of binary labels `y` and returns\n",
        "        the indices for a sample of size `size` if\n",
        "        `size` > 1 or `size` * len(y) if size =< 1.\n",
        "        The sample is guaranteed to have > `min_count` of\n",
        "        each label.\n",
        "    \"\"\"\n",
        "    try:\n",
        "        if (np.unique(y).astype(int) != np.array([0, 1])).all():\n",
        "            raise ValueError()\n",
        "    except (TypeError, ValueError):\n",
        "        raise ValueError('multilabel_sample only works with binary indicator matrices')\n",
        "\n",
        "    if (y.sum(axis=0) < min_count).any():\n",
        "        raise ValueError('Some classes do not have enough examples. Change min_count if necessary.')\n",
        "\n",
        "    if size <= 1:\n",
        "        size = np.floor(y.shape[0] * size)\n",
        "\n",
        "    if y.shape[1] * min_count > size:\n",
        "        msg = \"Size less than number of columns * min_count, returning {} items instead of {}.\"\n",
        "        warn(msg.format(y.shape[1] * min_count, size))\n",
        "        size = y.shape[1] * min_count\n",
        "\n",
        "    rng = np.random.RandomState(seed if seed is not None else np.random.randint(1))\n",
        "\n",
        "    if isinstance(y, pd.DataFrame):\n",
        "        choices = y.index\n",
        "        y = y.values\n",
        "    else:\n",
        "        choices = np.arange(y.shape[0])\n",
        "\n",
        "    sample_idxs = np.array([], dtype=choices.dtype)\n",
        "\n",
        "    # first, guarantee > min_count of each label\n",
        "    for j in range(y.shape[1]):\n",
        "        label_choices = choices[y[:, j] == 1]\n",
        "        label_idxs_sampled = rng.choice(label_choices, size=min_count, replace=False)\n",
        "        sample_idxs = np.concatenate([label_idxs_sampled, sample_idxs])\n",
        "\n",
        "    sample_idxs = np.unique(sample_idxs)\n",
        "\n",
        "    # now that we have at least min_count of each, we can just random sample\n",
        "    sample_count = int(size - sample_idxs.shape[0])\n",
        "\n",
        "    # get sample_count indices from remaining choices\n",
        "    remaining_choices = np.setdiff1d(choices, sample_idxs)\n",
        "    remaining_sampled = rng.choice(remaining_choices,\n",
        "                                   size=sample_count,\n",
        "                                   replace=False)\n",
        "\n",
        "    return np.concatenate([sample_idxs, remaining_sampled])\n",
        "\n",
        "\n",
        "def multilabel_sample_dataframe(df, labels, size, min_count=5, seed=None):\n",
        "    \"\"\" Takes a dataframe `df` and returns a sample of size `size` where all\n",
        "        classes in the binary matrix `labels` are represented at\n",
        "        least `min_count` times.\n",
        "    \"\"\"\n",
        "    idxs = multilabel_sample(labels, size=size, min_count=min_count, seed=seed)\n",
        "    return df.loc[idxs]\n",
        "\n",
        "\n",
        "def multilabel_train_test_split(X, Y, size, min_count=5, seed=None):\n",
        "    \"\"\" Takes a features matrix `X` and a label matrix `Y` and\n",
        "        returns (X_train, X_test, Y_train, Y_test) where all\n",
        "        classes in Y are represented at least `min_count` times.\n",
        "    \"\"\"\n",
        "    index = Y.index if isinstance(Y, pd.DataFrame) else np.arange(Y.shape[0])\n",
        "\n",
        "    test_set_idxs = multilabel_sample(Y, size=size, min_count=min_count, seed=seed)\n",
        "    train_set_idxs = np.setdiff1d(index, test_set_idxs)\n",
        "\n",
        "    test_set_mask = index.isin(test_set_idxs)\n",
        "    train_set_mask = ~test_set_mask\n",
        "\n",
        "    return (X[train_set_mask], X[test_set_mask], Y[train_set_mask], Y[test_set_mask])"
      ]
    },
    {
      "cell_type": "markdown",
      "metadata": {
        "id": "yX-mwZgMV-dY"
      },
      "source": [
        "The function multilabel_train_test_split() makes sure that at least min_count examples appear in each split. "
      ]
    },
    {
      "cell_type": "code",
      "execution_count": 39,
      "metadata": {
        "id": "ODk3ec4rW74J"
      },
      "outputs": [],
      "source": [
        "from warnings import warn"
      ]
    },
    {
      "cell_type": "code",
      "execution_count": 40,
      "metadata": {
        "colab": {
          "base_uri": "https://localhost:8080/"
        },
        "collapsed": true,
        "id": "M_IukqWPV-dY",
        "outputId": "bce3f0f4-541d-4e1a-acfd-69ae48d23de6"
      },
      "outputs": [
        {
          "name": "stderr",
          "output_type": "stream",
          "text": [
            "C:\\Users\\KrishnaBalram\\AppData\\Local\\Temp\\ipykernel_13912\\1498689033.py:22: UserWarning: Size less than number of columns * min_count, returning 520 items instead of 312.0.\n",
            "  warn(msg.format(y.shape[1] * min_count, size))\n"
          ]
        }
      ],
      "source": [
        "X_train, X_test, y_train, y_test = multilabel_train_test_split(numeric_data,\n",
        "                                                               df_label_dummies,\n",
        "                                                               size=0.2, \n",
        "                                                               seed=123)"
      ]
    },
    {
      "cell_type": "code",
      "execution_count": 41,
      "metadata": {
        "colab": {
          "base_uri": "https://localhost:8080/"
        },
        "id": "YV2QGNngV-dY",
        "outputId": "147e62f6-b9f1-4fba-f568-95072e53a410"
      },
      "outputs": [
        {
          "name": "stdout",
          "output_type": "stream",
          "text": [
            "<class 'pandas.core.frame.DataFrame'>\n",
            "Int64Index: 1040 entries, 198 to 101861\n",
            "Data columns (total 2 columns):\n",
            " #   Column  Non-Null Count  Dtype  \n",
            "---  ------  --------------  -----  \n",
            " 0   FTE     1040 non-null   float64\n",
            " 1   Total   1040 non-null   float64\n",
            "dtypes: float64(2)\n",
            "memory usage: 24.4 KB\n"
          ]
        }
      ],
      "source": [
        "X_train.info()"
      ]
    },
    {
      "cell_type": "code",
      "execution_count": 42,
      "metadata": {
        "colab": {
          "base_uri": "https://localhost:8080/"
        },
        "id": "F446VY1RV-dZ",
        "outputId": "b77a26b2-4a7e-4f1b-e144-476136b2645f"
      },
      "outputs": [
        {
          "name": "stdout",
          "output_type": "stream",
          "text": [
            "<class 'pandas.core.frame.DataFrame'>\n",
            "Int64Index: 520 entries, 209 to 448628\n",
            "Data columns (total 2 columns):\n",
            " #   Column  Non-Null Count  Dtype  \n",
            "---  ------  --------------  -----  \n",
            " 0   FTE     520 non-null    float64\n",
            " 1   Total   520 non-null    float64\n",
            "dtypes: float64(2)\n",
            "memory usage: 12.2 KB\n"
          ]
        }
      ],
      "source": [
        "X_test.info()"
      ]
    },
    {
      "cell_type": "code",
      "execution_count": 43,
      "metadata": {
        "colab": {
          "base_uri": "https://localhost:8080/"
        },
        "id": "5n1oSqcHV-dZ",
        "outputId": "e1b232c1-5967-4f8d-c26d-f70cc98dbac7"
      },
      "outputs": [
        {
          "name": "stdout",
          "output_type": "stream",
          "text": [
            "<class 'pandas.core.frame.DataFrame'>\n",
            "Int64Index: 1040 entries, 198 to 101861\n",
            "Columns: 104 entries, Function_Aides Compensation to Operating_Status_PreK-12 Operating\n",
            "dtypes: uint8(104)\n",
            "memory usage: 113.8 KB\n"
          ]
        }
      ],
      "source": [
        "y_train.info()"
      ]
    },
    {
      "cell_type": "code",
      "execution_count": 44,
      "metadata": {
        "colab": {
          "base_uri": "https://localhost:8080/",
          "height": 351
        },
        "id": "eKXs6SjqV-dZ",
        "outputId": "55afc880-570d-416f-85ca-dee03abebd87"
      },
      "outputs": [
        {
          "data": {
            "text/html": [
              "<div>\n",
              "<style scoped>\n",
              "    .dataframe tbody tr th:only-of-type {\n",
              "        vertical-align: middle;\n",
              "    }\n",
              "\n",
              "    .dataframe tbody tr th {\n",
              "        vertical-align: top;\n",
              "    }\n",
              "\n",
              "    .dataframe thead th {\n",
              "        text-align: right;\n",
              "    }\n",
              "</style>\n",
              "<table border=\"1\" class=\"dataframe\">\n",
              "  <thead>\n",
              "    <tr style=\"text-align: right;\">\n",
              "      <th></th>\n",
              "      <th>Function_Aides Compensation</th>\n",
              "      <th>Function_Career &amp; Academic Counseling</th>\n",
              "      <th>Function_Communications</th>\n",
              "      <th>Function_Curriculum Development</th>\n",
              "      <th>Function_Data Processing &amp; Information Services</th>\n",
              "      <th>Function_Development &amp; Fundraising</th>\n",
              "      <th>Function_Enrichment</th>\n",
              "      <th>Function_Extended Time &amp; Tutoring</th>\n",
              "      <th>Function_Facilities &amp; Maintenance</th>\n",
              "      <th>Function_Facilities Planning</th>\n",
              "      <th>...</th>\n",
              "      <th>Object_Type_Rent/Utilities</th>\n",
              "      <th>Object_Type_Substitute Compensation</th>\n",
              "      <th>Object_Type_Supplies/Materials</th>\n",
              "      <th>Object_Type_Travel &amp; Conferences</th>\n",
              "      <th>Pre_K_NO_LABEL</th>\n",
              "      <th>Pre_K_Non PreK</th>\n",
              "      <th>Pre_K_PreK</th>\n",
              "      <th>Operating_Status_Non-Operating</th>\n",
              "      <th>Operating_Status_Operating, Not PreK-12</th>\n",
              "      <th>Operating_Status_PreK-12 Operating</th>\n",
              "    </tr>\n",
              "  </thead>\n",
              "  <tbody>\n",
              "    <tr>\n",
              "      <th>198</th>\n",
              "      <td>0</td>\n",
              "      <td>0</td>\n",
              "      <td>0</td>\n",
              "      <td>0</td>\n",
              "      <td>0</td>\n",
              "      <td>0</td>\n",
              "      <td>0</td>\n",
              "      <td>0</td>\n",
              "      <td>0</td>\n",
              "      <td>0</td>\n",
              "      <td>...</td>\n",
              "      <td>0</td>\n",
              "      <td>0</td>\n",
              "      <td>0</td>\n",
              "      <td>0</td>\n",
              "      <td>1</td>\n",
              "      <td>0</td>\n",
              "      <td>0</td>\n",
              "      <td>1</td>\n",
              "      <td>0</td>\n",
              "      <td>0</td>\n",
              "    </tr>\n",
              "    <tr>\n",
              "      <th>750</th>\n",
              "      <td>0</td>\n",
              "      <td>0</td>\n",
              "      <td>0</td>\n",
              "      <td>0</td>\n",
              "      <td>0</td>\n",
              "      <td>0</td>\n",
              "      <td>0</td>\n",
              "      <td>0</td>\n",
              "      <td>0</td>\n",
              "      <td>0</td>\n",
              "      <td>...</td>\n",
              "      <td>0</td>\n",
              "      <td>0</td>\n",
              "      <td>0</td>\n",
              "      <td>0</td>\n",
              "      <td>0</td>\n",
              "      <td>1</td>\n",
              "      <td>0</td>\n",
              "      <td>0</td>\n",
              "      <td>0</td>\n",
              "      <td>1</td>\n",
              "    </tr>\n",
              "    <tr>\n",
              "      <th>1524</th>\n",
              "      <td>0</td>\n",
              "      <td>0</td>\n",
              "      <td>0</td>\n",
              "      <td>0</td>\n",
              "      <td>0</td>\n",
              "      <td>0</td>\n",
              "      <td>0</td>\n",
              "      <td>0</td>\n",
              "      <td>0</td>\n",
              "      <td>0</td>\n",
              "      <td>...</td>\n",
              "      <td>0</td>\n",
              "      <td>0</td>\n",
              "      <td>0</td>\n",
              "      <td>0</td>\n",
              "      <td>1</td>\n",
              "      <td>0</td>\n",
              "      <td>0</td>\n",
              "      <td>1</td>\n",
              "      <td>0</td>\n",
              "      <td>0</td>\n",
              "    </tr>\n",
              "    <tr>\n",
              "      <th>1770</th>\n",
              "      <td>0</td>\n",
              "      <td>0</td>\n",
              "      <td>0</td>\n",
              "      <td>0</td>\n",
              "      <td>0</td>\n",
              "      <td>0</td>\n",
              "      <td>1</td>\n",
              "      <td>0</td>\n",
              "      <td>0</td>\n",
              "      <td>0</td>\n",
              "      <td>...</td>\n",
              "      <td>0</td>\n",
              "      <td>0</td>\n",
              "      <td>0</td>\n",
              "      <td>0</td>\n",
              "      <td>1</td>\n",
              "      <td>0</td>\n",
              "      <td>0</td>\n",
              "      <td>0</td>\n",
              "      <td>0</td>\n",
              "      <td>1</td>\n",
              "    </tr>\n",
              "    <tr>\n",
              "      <th>1951</th>\n",
              "      <td>0</td>\n",
              "      <td>0</td>\n",
              "      <td>0</td>\n",
              "      <td>0</td>\n",
              "      <td>0</td>\n",
              "      <td>0</td>\n",
              "      <td>0</td>\n",
              "      <td>0</td>\n",
              "      <td>0</td>\n",
              "      <td>0</td>\n",
              "      <td>...</td>\n",
              "      <td>0</td>\n",
              "      <td>0</td>\n",
              "      <td>0</td>\n",
              "      <td>1</td>\n",
              "      <td>1</td>\n",
              "      <td>0</td>\n",
              "      <td>0</td>\n",
              "      <td>0</td>\n",
              "      <td>0</td>\n",
              "      <td>1</td>\n",
              "    </tr>\n",
              "  </tbody>\n",
              "</table>\n",
              "<p>5 rows × 104 columns</p>\n",
              "</div>"
            ],
            "text/plain": [
              "      Function_Aides Compensation  Function_Career & Academic Counseling  \\\n",
              "198                             0                                      0   \n",
              "750                             0                                      0   \n",
              "1524                            0                                      0   \n",
              "1770                            0                                      0   \n",
              "1951                            0                                      0   \n",
              "\n",
              "      Function_Communications  Function_Curriculum Development  \\\n",
              "198                         0                                0   \n",
              "750                         0                                0   \n",
              "1524                        0                                0   \n",
              "1770                        0                                0   \n",
              "1951                        0                                0   \n",
              "\n",
              "      Function_Data Processing & Information Services  \\\n",
              "198                                                 0   \n",
              "750                                                 0   \n",
              "1524                                                0   \n",
              "1770                                                0   \n",
              "1951                                                0   \n",
              "\n",
              "      Function_Development & Fundraising  Function_Enrichment  \\\n",
              "198                                    0                    0   \n",
              "750                                    0                    0   \n",
              "1524                                   0                    0   \n",
              "1770                                   0                    1   \n",
              "1951                                   0                    0   \n",
              "\n",
              "      Function_Extended Time & Tutoring  Function_Facilities & Maintenance  \\\n",
              "198                                   0                                  0   \n",
              "750                                   0                                  0   \n",
              "1524                                  0                                  0   \n",
              "1770                                  0                                  0   \n",
              "1951                                  0                                  0   \n",
              "\n",
              "      Function_Facilities Planning  ...  Object_Type_Rent/Utilities  \\\n",
              "198                              0  ...                           0   \n",
              "750                              0  ...                           0   \n",
              "1524                             0  ...                           0   \n",
              "1770                             0  ...                           0   \n",
              "1951                             0  ...                           0   \n",
              "\n",
              "      Object_Type_Substitute Compensation  Object_Type_Supplies/Materials  \\\n",
              "198                                     0                               0   \n",
              "750                                     0                               0   \n",
              "1524                                    0                               0   \n",
              "1770                                    0                               0   \n",
              "1951                                    0                               0   \n",
              "\n",
              "      Object_Type_Travel & Conferences  Pre_K_NO_LABEL  Pre_K_Non PreK  \\\n",
              "198                                  0               1               0   \n",
              "750                                  0               0               1   \n",
              "1524                                 0               1               0   \n",
              "1770                                 0               1               0   \n",
              "1951                                 1               1               0   \n",
              "\n",
              "      Pre_K_PreK  Operating_Status_Non-Operating  \\\n",
              "198            0                               1   \n",
              "750            0                               0   \n",
              "1524           0                               1   \n",
              "1770           0                               0   \n",
              "1951           0                               0   \n",
              "\n",
              "      Operating_Status_Operating, Not PreK-12  \\\n",
              "198                                         0   \n",
              "750                                         0   \n",
              "1524                                        0   \n",
              "1770                                        0   \n",
              "1951                                        0   \n",
              "\n",
              "      Operating_Status_PreK-12 Operating  \n",
              "198                                    0  \n",
              "750                                    1  \n",
              "1524                                   0  \n",
              "1770                                   1  \n",
              "1951                                   1  \n",
              "\n",
              "[5 rows x 104 columns]"
            ]
          },
          "execution_count": 44,
          "metadata": {},
          "output_type": "execute_result"
        }
      ],
      "source": [
        "y_train.head()"
      ]
    },
    {
      "cell_type": "code",
      "execution_count": 45,
      "metadata": {
        "colab": {
          "base_uri": "https://localhost:8080/"
        },
        "id": "SZGU5jSxV-dZ",
        "outputId": "b7241525-9439-4149-9264-938b1a8bff19"
      },
      "outputs": [
        {
          "name": "stdout",
          "output_type": "stream",
          "text": [
            "<class 'pandas.core.frame.DataFrame'>\n",
            "Int64Index: 520 entries, 209 to 448628\n",
            "Columns: 104 entries, Function_Aides Compensation to Operating_Status_PreK-12 Operating\n",
            "dtypes: uint8(104)\n",
            "memory usage: 56.9 KB\n"
          ]
        }
      ],
      "source": [
        "y_test.info()"
      ]
    },
    {
      "cell_type": "markdown",
      "metadata": {
        "id": "I8HRiOGTV-dZ"
      },
      "source": [
        "Training Model"
      ]
    },
    {
      "cell_type": "code",
      "execution_count": 46,
      "metadata": {
        "colab": {
          "base_uri": "https://localhost:8080/",
          "height": 115
        },
        "id": "yonbYLMPV-dZ",
        "outputId": "4c8a580d-40e8-4e0a-c256-8596ec8387c3"
      },
      "outputs": [
        {
          "data": {
            "text/html": [
              "<style>#sk-container-id-1 {color: black;background-color: white;}#sk-container-id-1 pre{padding: 0;}#sk-container-id-1 div.sk-toggleable {background-color: white;}#sk-container-id-1 label.sk-toggleable__label {cursor: pointer;display: block;width: 100%;margin-bottom: 0;padding: 0.3em;box-sizing: border-box;text-align: center;}#sk-container-id-1 label.sk-toggleable__label-arrow:before {content: \"▸\";float: left;margin-right: 0.25em;color: #696969;}#sk-container-id-1 label.sk-toggleable__label-arrow:hover:before {color: black;}#sk-container-id-1 div.sk-estimator:hover label.sk-toggleable__label-arrow:before {color: black;}#sk-container-id-1 div.sk-toggleable__content {max-height: 0;max-width: 0;overflow: hidden;text-align: left;background-color: #f0f8ff;}#sk-container-id-1 div.sk-toggleable__content pre {margin: 0.2em;color: black;border-radius: 0.25em;background-color: #f0f8ff;}#sk-container-id-1 input.sk-toggleable__control:checked~div.sk-toggleable__content {max-height: 200px;max-width: 100%;overflow: auto;}#sk-container-id-1 input.sk-toggleable__control:checked~label.sk-toggleable__label-arrow:before {content: \"▾\";}#sk-container-id-1 div.sk-estimator input.sk-toggleable__control:checked~label.sk-toggleable__label {background-color: #d4ebff;}#sk-container-id-1 div.sk-label input.sk-toggleable__control:checked~label.sk-toggleable__label {background-color: #d4ebff;}#sk-container-id-1 input.sk-hidden--visually {border: 0;clip: rect(1px 1px 1px 1px);clip: rect(1px, 1px, 1px, 1px);height: 1px;margin: -1px;overflow: hidden;padding: 0;position: absolute;width: 1px;}#sk-container-id-1 div.sk-estimator {font-family: monospace;background-color: #f0f8ff;border: 1px dotted black;border-radius: 0.25em;box-sizing: border-box;margin-bottom: 0.5em;}#sk-container-id-1 div.sk-estimator:hover {background-color: #d4ebff;}#sk-container-id-1 div.sk-parallel-item::after {content: \"\";width: 100%;border-bottom: 1px solid gray;flex-grow: 1;}#sk-container-id-1 div.sk-label:hover label.sk-toggleable__label {background-color: #d4ebff;}#sk-container-id-1 div.sk-serial::before {content: \"\";position: absolute;border-left: 1px solid gray;box-sizing: border-box;top: 0;bottom: 0;left: 50%;z-index: 0;}#sk-container-id-1 div.sk-serial {display: flex;flex-direction: column;align-items: center;background-color: white;padding-right: 0.2em;padding-left: 0.2em;position: relative;}#sk-container-id-1 div.sk-item {position: relative;z-index: 1;}#sk-container-id-1 div.sk-parallel {display: flex;align-items: stretch;justify-content: center;background-color: white;position: relative;}#sk-container-id-1 div.sk-item::before, #sk-container-id-1 div.sk-parallel-item::before {content: \"\";position: absolute;border-left: 1px solid gray;box-sizing: border-box;top: 0;bottom: 0;left: 50%;z-index: -1;}#sk-container-id-1 div.sk-parallel-item {display: flex;flex-direction: column;z-index: 1;position: relative;background-color: white;}#sk-container-id-1 div.sk-parallel-item:first-child::after {align-self: flex-end;width: 50%;}#sk-container-id-1 div.sk-parallel-item:last-child::after {align-self: flex-start;width: 50%;}#sk-container-id-1 div.sk-parallel-item:only-child::after {width: 0;}#sk-container-id-1 div.sk-dashed-wrapped {border: 1px dashed gray;margin: 0 0.4em 0.5em 0.4em;box-sizing: border-box;padding-bottom: 0.4em;background-color: white;}#sk-container-id-1 div.sk-label label {font-family: monospace;font-weight: bold;display: inline-block;line-height: 1.2em;}#sk-container-id-1 div.sk-label-container {text-align: center;}#sk-container-id-1 div.sk-container {/* jupyter's `normalize.less` sets `[hidden] { display: none; }` but bootstrap.min.css set `[hidden] { display: none !important; }` so we also need the `!important` here to be able to override the default hidden behavior on the sphinx rendered scikit-learn.org. See: https://github.com/scikit-learn/scikit-learn/issues/21755 */display: inline-block !important;position: relative;}#sk-container-id-1 div.sk-text-repr-fallback {display: none;}</style><div id=\"sk-container-id-1\" class=\"sk-top-container\"><div class=\"sk-text-repr-fallback\"><pre>OneVsRestClassifier(estimator=LogisticRegression())</pre><b>In a Jupyter environment, please rerun this cell to show the HTML representation or trust the notebook. <br />On GitHub, the HTML representation is unable to render, please try loading this page with nbviewer.org.</b></div><div class=\"sk-container\" hidden><div class=\"sk-item sk-dashed-wrapped\"><div class=\"sk-label-container\"><div class=\"sk-label sk-toggleable\"><input class=\"sk-toggleable__control sk-hidden--visually\" id=\"sk-estimator-id-1\" type=\"checkbox\" ><label for=\"sk-estimator-id-1\" class=\"sk-toggleable__label sk-toggleable__label-arrow\">OneVsRestClassifier</label><div class=\"sk-toggleable__content\"><pre>OneVsRestClassifier(estimator=LogisticRegression())</pre></div></div></div><div class=\"sk-parallel\"><div class=\"sk-parallel-item\"><div class=\"sk-item\"><div class=\"sk-label-container\"><div class=\"sk-label sk-toggleable\"><input class=\"sk-toggleable__control sk-hidden--visually\" id=\"sk-estimator-id-2\" type=\"checkbox\" ><label for=\"sk-estimator-id-2\" class=\"sk-toggleable__label sk-toggleable__label-arrow\">estimator: LogisticRegression</label><div class=\"sk-toggleable__content\"><pre>LogisticRegression()</pre></div></div></div><div class=\"sk-serial\"><div class=\"sk-item\"><div class=\"sk-estimator sk-toggleable\"><input class=\"sk-toggleable__control sk-hidden--visually\" id=\"sk-estimator-id-3\" type=\"checkbox\" ><label for=\"sk-estimator-id-3\" class=\"sk-toggleable__label sk-toggleable__label-arrow\">LogisticRegression</label><div class=\"sk-toggleable__content\"><pre>LogisticRegression()</pre></div></div></div></div></div></div></div></div></div></div>"
            ],
            "text/plain": [
              "OneVsRestClassifier(estimator=LogisticRegression())"
            ]
          },
          "execution_count": 46,
          "metadata": {},
          "output_type": "execute_result"
        }
      ],
      "source": [
        "clf = OneVsRestClassifier(LogisticRegression())\n",
        "clf.fit(X_train, y_train)"
      ]
    },
    {
      "cell_type": "markdown",
      "metadata": {
        "id": "_RnHXaXWV-da"
      },
      "source": [
        "OneVsRestClassifier treats each columns of y independently. Essentially, it fits a separate classifier for each of the columns. "
      ]
    },
    {
      "cell_type": "code",
      "execution_count": 47,
      "metadata": {
        "colab": {
          "base_uri": "https://localhost:8080/"
        },
        "id": "7zZpe0W1V-da",
        "outputId": "da7f435d-2088-441b-f0a4-6b2656ce5992"
      },
      "outputs": [
        {
          "data": {
            "text/plain": [
              "0.0"
            ]
          },
          "execution_count": 47,
          "metadata": {},
          "output_type": "execute_result"
        }
      ],
      "source": [
        "clf.score(X_test, y_test)"
      ]
    },
    {
      "cell_type": "markdown",
      "metadata": {
        "id": "zeg9fbiwV-da"
      },
      "source": [
        "Pretty dismal score. But not very surprising given that we threw out most of our data. Let's go ahead and test the predictions on the holdout test data. Note that because we are developing 'human-in-the-loop' system, we wanna output the probabilities. "
      ]
    },
    {
      "cell_type": "code",
      "execution_count": 51,
      "metadata": {
        "id": "5B3zpYnHV-da"
      },
      "outputs": [],
      "source": [
        "holdout = pd.read_csv(r'C:\\Users\\KrishnaBalram\\Desktop\\School Budget\\HoldoutData.csv', index_col=0)"
      ]
    },
    {
      "cell_type": "code",
      "execution_count": 52,
      "metadata": {
        "colab": {
          "base_uri": "https://localhost:8080/",
          "height": 409
        },
        "id": "fnp9PyiiV-da",
        "outputId": "124405c6-0e95-40c4-b3b8-cdb73fde8fac"
      },
      "outputs": [
        {
          "data": {
            "text/html": [
              "<div>\n",
              "<style scoped>\n",
              "    .dataframe tbody tr th:only-of-type {\n",
              "        vertical-align: middle;\n",
              "    }\n",
              "\n",
              "    .dataframe tbody tr th {\n",
              "        vertical-align: top;\n",
              "    }\n",
              "\n",
              "    .dataframe thead th {\n",
              "        text-align: right;\n",
              "    }\n",
              "</style>\n",
              "<table border=\"1\" class=\"dataframe\">\n",
              "  <thead>\n",
              "    <tr style=\"text-align: right;\">\n",
              "      <th></th>\n",
              "      <th>Object_Description</th>\n",
              "      <th>Program_Description</th>\n",
              "      <th>SubFund_Description</th>\n",
              "      <th>Job_Title_Description</th>\n",
              "      <th>Facility_or_Department</th>\n",
              "      <th>Sub_Object_Description</th>\n",
              "      <th>Location_Description</th>\n",
              "      <th>FTE</th>\n",
              "      <th>Function_Description</th>\n",
              "      <th>Position_Extra</th>\n",
              "      <th>Text_4</th>\n",
              "      <th>Total</th>\n",
              "      <th>Text_2</th>\n",
              "      <th>Text_3</th>\n",
              "      <th>Fund_Description</th>\n",
              "      <th>Text_1</th>\n",
              "    </tr>\n",
              "  </thead>\n",
              "  <tbody>\n",
              "    <tr>\n",
              "      <th>237</th>\n",
              "      <td>Personal Services - Teachers</td>\n",
              "      <td>Instruction - Regular</td>\n",
              "      <td>NaN</td>\n",
              "      <td>NaN</td>\n",
              "      <td>NaN</td>\n",
              "      <td>NaN</td>\n",
              "      <td>NaN</td>\n",
              "      <td>0.0</td>\n",
              "      <td>NaN</td>\n",
              "      <td>TIME CARD CERTIFIEDAddl</td>\n",
              "      <td>Alternative Schools Instruction</td>\n",
              "      <td>175.350000</td>\n",
              "      <td>NaN</td>\n",
              "      <td>NaN</td>\n",
              "      <td>General Purpose School</td>\n",
              "      <td>NaN</td>\n",
              "    </tr>\n",
              "    <tr>\n",
              "      <th>466</th>\n",
              "      <td>Extra Duty/Signing Bonus Pay</td>\n",
              "      <td>Basic Educational Services</td>\n",
              "      <td>NaN</td>\n",
              "      <td>NaN</td>\n",
              "      <td>NaN</td>\n",
              "      <td>General</td>\n",
              "      <td>School</td>\n",
              "      <td>NaN</td>\n",
              "      <td>Instruction</td>\n",
              "      <td>NaN</td>\n",
              "      <td>NaN</td>\n",
              "      <td>43424.905849</td>\n",
              "      <td>NaN</td>\n",
              "      <td>NaN</td>\n",
              "      <td>General Fund</td>\n",
              "      <td>NaN</td>\n",
              "    </tr>\n",
              "    <tr>\n",
              "      <th>784</th>\n",
              "      <td>OTHER PERSONAL SERVICES</td>\n",
              "      <td>NaN</td>\n",
              "      <td>NaN</td>\n",
              "      <td>SUB TEACHER ALL</td>\n",
              "      <td>NaN</td>\n",
              "      <td>NaN</td>\n",
              "      <td>STAFF DEV AND INSTR MEDIA</td>\n",
              "      <td>0.0</td>\n",
              "      <td>INST STAFF TRAINING SVCS</td>\n",
              "      <td>NaN</td>\n",
              "      <td>NaN</td>\n",
              "      <td>75.090000</td>\n",
              "      <td>NaN</td>\n",
              "      <td>NaN</td>\n",
              "      <td>GENERAL FUND</td>\n",
              "      <td>TEACHER TRAINING</td>\n",
              "    </tr>\n",
              "    <tr>\n",
              "      <th>1786</th>\n",
              "      <td>TERMINAL LEAVE VACATION</td>\n",
              "      <td>NaN</td>\n",
              "      <td>NaN</td>\n",
              "      <td>INSPECTOR &amp; SERVICE TECHNICIAN</td>\n",
              "      <td>NaN</td>\n",
              "      <td>NaN</td>\n",
              "      <td>TRANSPORTATION</td>\n",
              "      <td>0.0</td>\n",
              "      <td>PUPIL TRANSPORTATION SERVICES</td>\n",
              "      <td>NaN</td>\n",
              "      <td>NaN</td>\n",
              "      <td>5274.805500</td>\n",
              "      <td>NaN</td>\n",
              "      <td>NaN</td>\n",
              "      <td>GENERAL FUND</td>\n",
              "      <td>TERMINAL LEAVE</td>\n",
              "    </tr>\n",
              "    <tr>\n",
              "      <th>2643</th>\n",
              "      <td>Extra Duty/Signing Bonus Pay</td>\n",
              "      <td>Undistributed</td>\n",
              "      <td>NaN</td>\n",
              "      <td>NaN</td>\n",
              "      <td>NaN</td>\n",
              "      <td>Principal &amp; Asst. Principal Support</td>\n",
              "      <td>Educator Quality</td>\n",
              "      <td>NaN</td>\n",
              "      <td>Curriculum &amp; Instructional Staff Development</td>\n",
              "      <td>NaN</td>\n",
              "      <td>NaN</td>\n",
              "      <td>44789.326495</td>\n",
              "      <td>NaN</td>\n",
              "      <td>NaN</td>\n",
              "      <td>General Fund</td>\n",
              "      <td>NaN</td>\n",
              "    </tr>\n",
              "  </tbody>\n",
              "</table>\n",
              "</div>"
            ],
            "text/plain": [
              "                  Object_Description         Program_Description  \\\n",
              "237     Personal Services - Teachers       Instruction - Regular   \n",
              "466     Extra Duty/Signing Bonus Pay  Basic Educational Services   \n",
              "784   OTHER PERSONAL SERVICES                                NaN   \n",
              "1786  TERMINAL LEAVE VACATION                                NaN   \n",
              "2643    Extra Duty/Signing Bonus Pay               Undistributed   \n",
              "\n",
              "     SubFund_Description           Job_Title_Description  \\\n",
              "237                  NaN                             NaN   \n",
              "466                  NaN                             NaN   \n",
              "784                  NaN  SUB TEACHER ALL                  \n",
              "1786                 NaN  INSPECTOR & SERVICE TECHNICIAN   \n",
              "2643                 NaN                             NaN   \n",
              "\n",
              "     Facility_or_Department               Sub_Object_Description  \\\n",
              "237                     NaN                                  NaN   \n",
              "466                     NaN                              General   \n",
              "784                     NaN                                  NaN   \n",
              "1786                    NaN                                  NaN   \n",
              "2643                    NaN  Principal & Asst. Principal Support   \n",
              "\n",
              "                Location_Description  FTE  \\\n",
              "237                              NaN  0.0   \n",
              "466                          School   NaN   \n",
              "784   STAFF DEV AND INSTR MEDIA       0.0   \n",
              "1786  TRANSPORTATION                  0.0   \n",
              "2643               Educator Quality   NaN   \n",
              "\n",
              "                              Function_Description           Position_Extra  \\\n",
              "237                                            NaN  TIME CARD CERTIFIEDAddl   \n",
              "466                                    Instruction                      NaN   \n",
              "784                 INST STAFF TRAINING SVCS                            NaN   \n",
              "1786                PUPIL TRANSPORTATION SERVICES                       NaN   \n",
              "2643  Curriculum & Instructional Staff Development                      NaN   \n",
              "\n",
              "                               Text_4         Total Text_2 Text_3  \\\n",
              "237   Alternative Schools Instruction    175.350000    NaN    NaN   \n",
              "466                               NaN  43424.905849    NaN    NaN   \n",
              "784                               NaN     75.090000    NaN    NaN   \n",
              "1786                              NaN   5274.805500    NaN    NaN   \n",
              "2643                              NaN  44789.326495    NaN    NaN   \n",
              "\n",
              "                    Fund_Description                          Text_1  \n",
              "237           General Purpose School                             NaN  \n",
              "466                     General Fund                             NaN  \n",
              "784   GENERAL FUND                    TEACHER TRAINING                \n",
              "1786  GENERAL FUND                    TERMINAL LEAVE                  \n",
              "2643                    General Fund                             NaN  "
            ]
          },
          "execution_count": 52,
          "metadata": {},
          "output_type": "execute_result"
        }
      ],
      "source": [
        "holdout.head()"
      ]
    },
    {
      "cell_type": "code",
      "execution_count": 53,
      "metadata": {
        "id": "v6OFnYNaV-da"
      },
      "outputs": [],
      "source": [
        "prediction = clf.predict_proba(holdout[numeric_columns].fillna(-1000))"
      ]
    },
    {
      "cell_type": "code",
      "execution_count": 54,
      "metadata": {
        "colab": {
          "base_uri": "https://localhost:8080/"
        },
        "id": "IKNXKCTGV-db",
        "outputId": "13405196-b3b4-4c83-885e-95de4c9c6bd5"
      },
      "outputs": [
        {
          "data": {
            "text/plain": [
              "array([[6.52295372e-02, 2.53472616e-02, 4.99263293e-01, ...,\n",
              "        5.43836066e-08, 1.81559426e-02, 5.00535064e-01],\n",
              "       [2.51118136e-02, 1.41085520e-02, 2.96272733e-03, ...,\n",
              "        8.57576609e-02, 1.15521435e-02, 9.39766790e-01],\n",
              "       [6.52405284e-02, 2.53447800e-02, 4.99683470e-01, ...,\n",
              "        5.43901375e-08, 1.81516744e-02, 5.00229586e-01],\n",
              "       ...,\n",
              "       [6.13567633e-02, 2.62921281e-02, 3.50758717e-01, ...,\n",
              "        5.12905522e-08, 1.98044753e-02, 6.10428299e-01],\n",
              "       [2.70955803e-02, 1.35159788e-02, 6.11598123e-03, ...,\n",
              "        8.99243298e-02, 1.04258999e-02, 9.01868695e-01],\n",
              "       [6.20609767e-02, 2.61191514e-02, 3.77001390e-01, ...,\n",
              "        5.17078418e-08, 1.94932302e-02, 5.90651897e-01]])"
            ]
          },
          "execution_count": 54,
          "metadata": {},
          "output_type": "execute_result"
        }
      ],
      "source": [
        "prediction"
      ]
    },
    {
      "cell_type": "code",
      "execution_count": 55,
      "metadata": {
        "colab": {
          "base_uri": "https://localhost:8080/"
        },
        "id": "zl4xOqHAV-db",
        "outputId": "036183d4-8c6e-4a33-9189-7f560a281eb0"
      },
      "outputs": [
        {
          "data": {
            "text/plain": [
              "(2000, 104)"
            ]
          },
          "execution_count": 55,
          "metadata": {},
          "output_type": "execute_result"
        }
      ],
      "source": [
        "prediction.shape"
      ]
    },
    {
      "cell_type": "code",
      "execution_count": 56,
      "metadata": {
        "colab": {
          "base_uri": "https://localhost:8080/"
        },
        "id": "yiKatQt5V-db",
        "outputId": "e73f48d2-807f-4b06-d9a4-796d647e45b9"
      },
      "outputs": [
        {
          "data": {
            "text/plain": [
              "(2000, 16)"
            ]
          },
          "execution_count": 56,
          "metadata": {},
          "output_type": "execute_result"
        }
      ],
      "source": [
        "holdout.shape"
      ]
    },
    {
      "cell_type": "code",
      "execution_count": 57,
      "metadata": {
        "colab": {
          "base_uri": "https://localhost:8080/"
        },
        "id": "EhoPqEyNV-db",
        "outputId": "7ae4b851-7de2-4c96-95ba-79821daff0a1"
      },
      "outputs": [
        {
          "data": {
            "text/plain": [
              "(1560, 25)"
            ]
          },
          "execution_count": 57,
          "metadata": {},
          "output_type": "execute_result"
        }
      ],
      "source": [
        "df_train.shape"
      ]
    },
    {
      "cell_type": "markdown",
      "metadata": {
        "id": "xul-tLMYV-db"
      },
      "source": [
        "Note 25 - 16 = 9. We have 9 taget variables (before applying the get_dummies)."
      ]
    },
    {
      "cell_type": "markdown",
      "metadata": {
        "id": "pdQbmpDWV-db"
      },
      "source": [
        "Let's write predictions to a dataframe"
      ]
    },
    {
      "cell_type": "code",
      "execution_count": 58,
      "metadata": {
        "collapsed": true,
        "id": "LdTgs0XeV-dc"
      },
      "outputs": [],
      "source": [
        "prediction_df = pd.DataFrame(data = prediction, columns=pd.get_dummies(df_train[labels]).columns, \\\n",
        "                            index = holdout.index)"
      ]
    },
    {
      "cell_type": "code",
      "execution_count": 59,
      "metadata": {
        "colab": {
          "base_uri": "https://localhost:8080/",
          "height": 351
        },
        "id": "AOACnxi-V-dc",
        "outputId": "e084e5fb-e2f6-4dba-ac23-6333c3c2d7a2"
      },
      "outputs": [
        {
          "data": {
            "text/html": [
              "<div>\n",
              "<style scoped>\n",
              "    .dataframe tbody tr th:only-of-type {\n",
              "        vertical-align: middle;\n",
              "    }\n",
              "\n",
              "    .dataframe tbody tr th {\n",
              "        vertical-align: top;\n",
              "    }\n",
              "\n",
              "    .dataframe thead th {\n",
              "        text-align: right;\n",
              "    }\n",
              "</style>\n",
              "<table border=\"1\" class=\"dataframe\">\n",
              "  <thead>\n",
              "    <tr style=\"text-align: right;\">\n",
              "      <th></th>\n",
              "      <th>Function_Aides Compensation</th>\n",
              "      <th>Function_Career &amp; Academic Counseling</th>\n",
              "      <th>Function_Communications</th>\n",
              "      <th>Function_Curriculum Development</th>\n",
              "      <th>Function_Data Processing &amp; Information Services</th>\n",
              "      <th>Function_Development &amp; Fundraising</th>\n",
              "      <th>Function_Enrichment</th>\n",
              "      <th>Function_Extended Time &amp; Tutoring</th>\n",
              "      <th>Function_Facilities &amp; Maintenance</th>\n",
              "      <th>Function_Facilities Planning</th>\n",
              "      <th>...</th>\n",
              "      <th>Object_Type_Rent/Utilities</th>\n",
              "      <th>Object_Type_Substitute Compensation</th>\n",
              "      <th>Object_Type_Supplies/Materials</th>\n",
              "      <th>Object_Type_Travel &amp; Conferences</th>\n",
              "      <th>Pre_K_NO_LABEL</th>\n",
              "      <th>Pre_K_Non PreK</th>\n",
              "      <th>Pre_K_PreK</th>\n",
              "      <th>Operating_Status_Non-Operating</th>\n",
              "      <th>Operating_Status_Operating, Not PreK-12</th>\n",
              "      <th>Operating_Status_PreK-12 Operating</th>\n",
              "    </tr>\n",
              "  </thead>\n",
              "  <tbody>\n",
              "    <tr>\n",
              "      <th>237</th>\n",
              "      <td>0.065230</td>\n",
              "      <td>0.025347</td>\n",
              "      <td>0.499263</td>\n",
              "      <td>0.013329</td>\n",
              "      <td>0.018965</td>\n",
              "      <td>0.009383</td>\n",
              "      <td>0.023369</td>\n",
              "      <td>0.013562</td>\n",
              "      <td>0.048954</td>\n",
              "      <td>0.006267</td>\n",
              "      <td>...</td>\n",
              "      <td>0.009385</td>\n",
              "      <td>0.499304</td>\n",
              "      <td>0.499444</td>\n",
              "      <td>0.006638</td>\n",
              "      <td>0.500027</td>\n",
              "      <td>0.499972</td>\n",
              "      <td>0.030563</td>\n",
              "      <td>5.438361e-08</td>\n",
              "      <td>0.018156</td>\n",
              "      <td>0.500535</td>\n",
              "    </tr>\n",
              "    <tr>\n",
              "      <th>466</th>\n",
              "      <td>0.025112</td>\n",
              "      <td>0.014109</td>\n",
              "      <td>0.002963</td>\n",
              "      <td>0.038501</td>\n",
              "      <td>0.014139</td>\n",
              "      <td>0.005702</td>\n",
              "      <td>0.037037</td>\n",
              "      <td>0.020637</td>\n",
              "      <td>0.043679</td>\n",
              "      <td>0.005695</td>\n",
              "      <td>...</td>\n",
              "      <td>0.025662</td>\n",
              "      <td>0.010424</td>\n",
              "      <td>0.071322</td>\n",
              "      <td>0.041397</td>\n",
              "      <td>0.776877</td>\n",
              "      <td>0.182703</td>\n",
              "      <td>0.038604</td>\n",
              "      <td>8.575766e-02</td>\n",
              "      <td>0.011552</td>\n",
              "      <td>0.939767</td>\n",
              "    </tr>\n",
              "    <tr>\n",
              "      <th>784</th>\n",
              "      <td>0.065241</td>\n",
              "      <td>0.025345</td>\n",
              "      <td>0.499683</td>\n",
              "      <td>0.013329</td>\n",
              "      <td>0.018963</td>\n",
              "      <td>0.009382</td>\n",
              "      <td>0.023371</td>\n",
              "      <td>0.013564</td>\n",
              "      <td>0.048954</td>\n",
              "      <td>0.006266</td>\n",
              "      <td>...</td>\n",
              "      <td>0.009384</td>\n",
              "      <td>0.499701</td>\n",
              "      <td>0.499761</td>\n",
              "      <td>0.006639</td>\n",
              "      <td>0.500012</td>\n",
              "      <td>0.499988</td>\n",
              "      <td>0.030567</td>\n",
              "      <td>5.439014e-08</td>\n",
              "      <td>0.018152</td>\n",
              "      <td>0.500230</td>\n",
              "    </tr>\n",
              "    <tr>\n",
              "      <th>1786</th>\n",
              "      <td>0.064673</td>\n",
              "      <td>0.025474</td>\n",
              "      <td>0.477906</td>\n",
              "      <td>0.013286</td>\n",
              "      <td>0.019067</td>\n",
              "      <td>0.009449</td>\n",
              "      <td>0.023285</td>\n",
              "      <td>0.013476</td>\n",
              "      <td>0.048966</td>\n",
              "      <td>0.006310</td>\n",
              "      <td>...</td>\n",
              "      <td>0.009451</td>\n",
              "      <td>0.479124</td>\n",
              "      <td>0.483298</td>\n",
              "      <td>0.006621</td>\n",
              "      <td>0.500813</td>\n",
              "      <td>0.499159</td>\n",
              "      <td>0.030361</td>\n",
              "      <td>5.405246e-08</td>\n",
              "      <td>0.018374</td>\n",
              "      <td>0.516067</td>\n",
              "    </tr>\n",
              "    <tr>\n",
              "      <th>2643</th>\n",
              "      <td>0.025052</td>\n",
              "      <td>0.014128</td>\n",
              "      <td>0.002896</td>\n",
              "      <td>0.038469</td>\n",
              "      <td>0.014159</td>\n",
              "      <td>0.005713</td>\n",
              "      <td>0.037001</td>\n",
              "      <td>0.020602</td>\n",
              "      <td>0.043682</td>\n",
              "      <td>0.005706</td>\n",
              "      <td>...</td>\n",
              "      <td>0.025709</td>\n",
              "      <td>0.010203</td>\n",
              "      <td>0.070186</td>\n",
              "      <td>0.041370</td>\n",
              "      <td>0.777023</td>\n",
              "      <td>0.182573</td>\n",
              "      <td>0.038537</td>\n",
              "      <td>8.562962e-02</td>\n",
              "      <td>0.011589</td>\n",
              "      <td>0.940701</td>\n",
              "    </tr>\n",
              "  </tbody>\n",
              "</table>\n",
              "<p>5 rows × 104 columns</p>\n",
              "</div>"
            ],
            "text/plain": [
              "      Function_Aides Compensation  Function_Career & Academic Counseling  \\\n",
              "237                      0.065230                               0.025347   \n",
              "466                      0.025112                               0.014109   \n",
              "784                      0.065241                               0.025345   \n",
              "1786                     0.064673                               0.025474   \n",
              "2643                     0.025052                               0.014128   \n",
              "\n",
              "      Function_Communications  Function_Curriculum Development  \\\n",
              "237                  0.499263                         0.013329   \n",
              "466                  0.002963                         0.038501   \n",
              "784                  0.499683                         0.013329   \n",
              "1786                 0.477906                         0.013286   \n",
              "2643                 0.002896                         0.038469   \n",
              "\n",
              "      Function_Data Processing & Information Services  \\\n",
              "237                                          0.018965   \n",
              "466                                          0.014139   \n",
              "784                                          0.018963   \n",
              "1786                                         0.019067   \n",
              "2643                                         0.014159   \n",
              "\n",
              "      Function_Development & Fundraising  Function_Enrichment  \\\n",
              "237                             0.009383             0.023369   \n",
              "466                             0.005702             0.037037   \n",
              "784                             0.009382             0.023371   \n",
              "1786                            0.009449             0.023285   \n",
              "2643                            0.005713             0.037001   \n",
              "\n",
              "      Function_Extended Time & Tutoring  Function_Facilities & Maintenance  \\\n",
              "237                            0.013562                           0.048954   \n",
              "466                            0.020637                           0.043679   \n",
              "784                            0.013564                           0.048954   \n",
              "1786                           0.013476                           0.048966   \n",
              "2643                           0.020602                           0.043682   \n",
              "\n",
              "      Function_Facilities Planning  ...  Object_Type_Rent/Utilities  \\\n",
              "237                       0.006267  ...                    0.009385   \n",
              "466                       0.005695  ...                    0.025662   \n",
              "784                       0.006266  ...                    0.009384   \n",
              "1786                      0.006310  ...                    0.009451   \n",
              "2643                      0.005706  ...                    0.025709   \n",
              "\n",
              "      Object_Type_Substitute Compensation  Object_Type_Supplies/Materials  \\\n",
              "237                              0.499304                        0.499444   \n",
              "466                              0.010424                        0.071322   \n",
              "784                              0.499701                        0.499761   \n",
              "1786                             0.479124                        0.483298   \n",
              "2643                             0.010203                        0.070186   \n",
              "\n",
              "      Object_Type_Travel & Conferences  Pre_K_NO_LABEL  Pre_K_Non PreK  \\\n",
              "237                           0.006638        0.500027        0.499972   \n",
              "466                           0.041397        0.776877        0.182703   \n",
              "784                           0.006639        0.500012        0.499988   \n",
              "1786                          0.006621        0.500813        0.499159   \n",
              "2643                          0.041370        0.777023        0.182573   \n",
              "\n",
              "      Pre_K_PreK  Operating_Status_Non-Operating  \\\n",
              "237     0.030563                    5.438361e-08   \n",
              "466     0.038604                    8.575766e-02   \n",
              "784     0.030567                    5.439014e-08   \n",
              "1786    0.030361                    5.405246e-08   \n",
              "2643    0.038537                    8.562962e-02   \n",
              "\n",
              "      Operating_Status_Operating, Not PreK-12  \\\n",
              "237                                  0.018156   \n",
              "466                                  0.011552   \n",
              "784                                  0.018152   \n",
              "1786                                 0.018374   \n",
              "2643                                 0.011589   \n",
              "\n",
              "      Operating_Status_PreK-12 Operating  \n",
              "237                             0.500535  \n",
              "466                             0.939767  \n",
              "784                             0.500230  \n",
              "1786                            0.516067  \n",
              "2643                            0.940701  \n",
              "\n",
              "[5 rows x 104 columns]"
            ]
          },
          "execution_count": 59,
          "metadata": {},
          "output_type": "execute_result"
        }
      ],
      "source": [
        "prediction_df.head()"
      ]
    },
    {
      "cell_type": "markdown",
      "metadata": {
        "id": "vN6ZpK6TV-dc"
      },
      "source": [
        "Notice how we have probabilities for each column. "
      ]
    },
    {
      "cell_type": "code",
      "execution_count": 60,
      "metadata": {
        "colab": {
          "base_uri": "https://localhost:8080/",
          "height": 490
        },
        "id": "kkjwa0nKV-dc",
        "outputId": "8cc67574-99ef-486b-e387-b57dda24d738"
      },
      "outputs": [
        {
          "data": {
            "text/html": [
              "<div>\n",
              "<style scoped>\n",
              "    .dataframe tbody tr th:only-of-type {\n",
              "        vertical-align: middle;\n",
              "    }\n",
              "\n",
              "    .dataframe tbody tr th {\n",
              "        vertical-align: top;\n",
              "    }\n",
              "\n",
              "    .dataframe thead th {\n",
              "        text-align: right;\n",
              "    }\n",
              "</style>\n",
              "<table border=\"1\" class=\"dataframe\">\n",
              "  <thead>\n",
              "    <tr style=\"text-align: right;\">\n",
              "      <th></th>\n",
              "      <th>Function</th>\n",
              "      <th>Use</th>\n",
              "      <th>Sharing</th>\n",
              "      <th>Reporting</th>\n",
              "      <th>Student_Type</th>\n",
              "      <th>Position_Type</th>\n",
              "      <th>Object_Type</th>\n",
              "      <th>Pre_K</th>\n",
              "      <th>Operating_Status</th>\n",
              "      <th>Object_Description</th>\n",
              "      <th>...</th>\n",
              "      <th>Sub_Object_Description</th>\n",
              "      <th>Location_Description</th>\n",
              "      <th>FTE</th>\n",
              "      <th>Function_Description</th>\n",
              "      <th>Facility_or_Department</th>\n",
              "      <th>Position_Extra</th>\n",
              "      <th>Total</th>\n",
              "      <th>Program_Description</th>\n",
              "      <th>Fund_Description</th>\n",
              "      <th>Text_1</th>\n",
              "    </tr>\n",
              "  </thead>\n",
              "  <tbody>\n",
              "    <tr>\n",
              "      <th>198</th>\n",
              "      <td>NO_LABEL</td>\n",
              "      <td>NO_LABEL</td>\n",
              "      <td>NO_LABEL</td>\n",
              "      <td>NO_LABEL</td>\n",
              "      <td>NO_LABEL</td>\n",
              "      <td>NO_LABEL</td>\n",
              "      <td>NO_LABEL</td>\n",
              "      <td>NO_LABEL</td>\n",
              "      <td>Non-Operating</td>\n",
              "      <td>Supplemental *</td>\n",
              "      <td>...</td>\n",
              "      <td>Non-Certificated Salaries And Wages</td>\n",
              "      <td>NaN</td>\n",
              "      <td>NaN</td>\n",
              "      <td>Care and Upkeep of Building Services</td>\n",
              "      <td>NaN</td>\n",
              "      <td>NaN</td>\n",
              "      <td>-8291.86</td>\n",
              "      <td>NaN</td>\n",
              "      <td>Title I - Disadvantaged Children/Targeted Assi...</td>\n",
              "      <td>TITLE I CARRYOVER</td>\n",
              "    </tr>\n",
              "    <tr>\n",
              "      <th>209</th>\n",
              "      <td>Student Transportation</td>\n",
              "      <td>NO_LABEL</td>\n",
              "      <td>Shared Services</td>\n",
              "      <td>Non-School</td>\n",
              "      <td>NO_LABEL</td>\n",
              "      <td>NO_LABEL</td>\n",
              "      <td>Other Non-Compensation</td>\n",
              "      <td>NO_LABEL</td>\n",
              "      <td>PreK-12 Operating</td>\n",
              "      <td>REPAIR AND MAINTENANCE SERVICES</td>\n",
              "      <td>...</td>\n",
              "      <td>NaN</td>\n",
              "      <td>ADMIN. SERVICES</td>\n",
              "      <td>NaN</td>\n",
              "      <td>STUDENT TRANSPORT SERVICE</td>\n",
              "      <td>NaN</td>\n",
              "      <td>NaN</td>\n",
              "      <td>618.29</td>\n",
              "      <td>PUPIL TRANSPORTATION</td>\n",
              "      <td>General Fund</td>\n",
              "      <td>NaN</td>\n",
              "    </tr>\n",
              "    <tr>\n",
              "      <th>750</th>\n",
              "      <td>Teacher Compensation</td>\n",
              "      <td>Instruction</td>\n",
              "      <td>School Reported</td>\n",
              "      <td>School</td>\n",
              "      <td>Unspecified</td>\n",
              "      <td>Teacher</td>\n",
              "      <td>Base Salary/Compensation</td>\n",
              "      <td>Non PreK</td>\n",
              "      <td>PreK-12 Operating</td>\n",
              "      <td>Personal Services - Teachers</td>\n",
              "      <td>...</td>\n",
              "      <td>NaN</td>\n",
              "      <td>NaN</td>\n",
              "      <td>1.0</td>\n",
              "      <td>NaN</td>\n",
              "      <td>NaN</td>\n",
              "      <td>TEACHER</td>\n",
              "      <td>49768.82</td>\n",
              "      <td>Instruction - Regular</td>\n",
              "      <td>General Purpose School</td>\n",
              "      <td>NaN</td>\n",
              "    </tr>\n",
              "    <tr>\n",
              "      <th>931</th>\n",
              "      <td>NO_LABEL</td>\n",
              "      <td>NO_LABEL</td>\n",
              "      <td>NO_LABEL</td>\n",
              "      <td>NO_LABEL</td>\n",
              "      <td>NO_LABEL</td>\n",
              "      <td>NO_LABEL</td>\n",
              "      <td>NO_LABEL</td>\n",
              "      <td>NO_LABEL</td>\n",
              "      <td>Non-Operating</td>\n",
              "      <td>General Supplies</td>\n",
              "      <td>...</td>\n",
              "      <td>General Supplies</td>\n",
              "      <td>NaN</td>\n",
              "      <td>NaN</td>\n",
              "      <td>Instruction</td>\n",
              "      <td>Instruction And Curriculum</td>\n",
              "      <td>NaN</td>\n",
              "      <td>-1.02</td>\n",
              "      <td>\"Title I, Part A Schoolwide Activities Related...</td>\n",
              "      <td>General Operating Fund</td>\n",
              "      <td>NaN</td>\n",
              "    </tr>\n",
              "    <tr>\n",
              "      <th>1524</th>\n",
              "      <td>NO_LABEL</td>\n",
              "      <td>NO_LABEL</td>\n",
              "      <td>NO_LABEL</td>\n",
              "      <td>NO_LABEL</td>\n",
              "      <td>NO_LABEL</td>\n",
              "      <td>NO_LABEL</td>\n",
              "      <td>NO_LABEL</td>\n",
              "      <td>NO_LABEL</td>\n",
              "      <td>Non-Operating</td>\n",
              "      <td>Supplies and Materials</td>\n",
              "      <td>...</td>\n",
              "      <td>Supplies And Materials</td>\n",
              "      <td>NaN</td>\n",
              "      <td>NaN</td>\n",
              "      <td>Other Community Services *</td>\n",
              "      <td>NaN</td>\n",
              "      <td>NaN</td>\n",
              "      <td>2304.43</td>\n",
              "      <td>NaN</td>\n",
              "      <td>Title I - Disadvantaged Children/Targeted Assi...</td>\n",
              "      <td>TITLE I PI+HOMELESS</td>\n",
              "    </tr>\n",
              "  </tbody>\n",
              "</table>\n",
              "<p>5 rows × 25 columns</p>\n",
              "</div>"
            ],
            "text/plain": [
              "                    Function          Use          Sharing   Reporting  \\\n",
              "198                 NO_LABEL     NO_LABEL         NO_LABEL    NO_LABEL   \n",
              "209   Student Transportation     NO_LABEL  Shared Services  Non-School   \n",
              "750     Teacher Compensation  Instruction  School Reported      School   \n",
              "931                 NO_LABEL     NO_LABEL         NO_LABEL    NO_LABEL   \n",
              "1524                NO_LABEL     NO_LABEL         NO_LABEL    NO_LABEL   \n",
              "\n",
              "     Student_Type Position_Type               Object_Type     Pre_K  \\\n",
              "198      NO_LABEL      NO_LABEL                  NO_LABEL  NO_LABEL   \n",
              "209      NO_LABEL      NO_LABEL    Other Non-Compensation  NO_LABEL   \n",
              "750   Unspecified       Teacher  Base Salary/Compensation  Non PreK   \n",
              "931      NO_LABEL      NO_LABEL                  NO_LABEL  NO_LABEL   \n",
              "1524     NO_LABEL      NO_LABEL                  NO_LABEL  NO_LABEL   \n",
              "\n",
              "       Operating_Status               Object_Description  ...  \\\n",
              "198       Non-Operating                   Supplemental *  ...   \n",
              "209   PreK-12 Operating  REPAIR AND MAINTENANCE SERVICES  ...   \n",
              "750   PreK-12 Operating     Personal Services - Teachers  ...   \n",
              "931       Non-Operating                 General Supplies  ...   \n",
              "1524      Non-Operating           Supplies and Materials  ...   \n",
              "\n",
              "                   Sub_Object_Description Location_Description  FTE  \\\n",
              "198   Non-Certificated Salaries And Wages                  NaN  NaN   \n",
              "209                                   NaN      ADMIN. SERVICES  NaN   \n",
              "750                                   NaN                  NaN  1.0   \n",
              "931                      General Supplies                  NaN  NaN   \n",
              "1524               Supplies And Materials                  NaN  NaN   \n",
              "\n",
              "                      Function_Description      Facility_or_Department  \\\n",
              "198   Care and Upkeep of Building Services                         NaN   \n",
              "209              STUDENT TRANSPORT SERVICE                         NaN   \n",
              "750                                    NaN                         NaN   \n",
              "931                            Instruction  Instruction And Curriculum   \n",
              "1524            Other Community Services *                         NaN   \n",
              "\n",
              "     Position_Extra     Total  \\\n",
              "198             NaN  -8291.86   \n",
              "209             NaN    618.29   \n",
              "750         TEACHER  49768.82   \n",
              "931             NaN     -1.02   \n",
              "1524            NaN   2304.43   \n",
              "\n",
              "                                    Program_Description  \\\n",
              "198                                                 NaN   \n",
              "209                                PUPIL TRANSPORTATION   \n",
              "750                               Instruction - Regular   \n",
              "931   \"Title I, Part A Schoolwide Activities Related...   \n",
              "1524                                                NaN   \n",
              "\n",
              "                                       Fund_Description                Text_1  \n",
              "198   Title I - Disadvantaged Children/Targeted Assi...    TITLE I CARRYOVER   \n",
              "209                                        General Fund                   NaN  \n",
              "750                              General Purpose School                   NaN  \n",
              "931                              General Operating Fund                   NaN  \n",
              "1524  Title I - Disadvantaged Children/Targeted Assi...   TITLE I PI+HOMELESS  \n",
              "\n",
              "[5 rows x 25 columns]"
            ]
          },
          "execution_count": 60,
          "metadata": {},
          "output_type": "execute_result"
        }
      ],
      "source": [
        "df_train.head()"
      ]
    },
    {
      "cell_type": "code",
      "execution_count": 61,
      "metadata": {
        "colab": {
          "base_uri": "https://localhost:8080/"
        },
        "id": "xIgisr7cV-dd",
        "outputId": "5f00b1c7-c0c6-45cb-fd44-315adde909de"
      },
      "outputs": [
        {
          "data": {
            "text/plain": [
              "198                               NaN\n",
              "209                               NaN\n",
              "750                           TEACHER\n",
              "931                               NaN\n",
              "1524                              NaN\n",
              "                     ...             \n",
              "344986     PROFESSIONAL-INSTRUCTIONAL\n",
              "384803     PROFESSIONAL-INSTRUCTIONAL\n",
              "224382                            NaN\n",
              "305347    ANY CUS WHO IS NOT A SUPER \n",
              "101861     PROFESSIONAL-INSTRUCTIONAL\n",
              "Name: Position_Extra, Length: 1560, dtype: object"
            ]
          },
          "execution_count": 61,
          "metadata": {},
          "output_type": "execute_result"
        }
      ],
      "source": [
        "df_train['Position_Extra']"
      ]
    },
    {
      "cell_type": "markdown",
      "metadata": {
        "id": "xqjwVriDV-dd"
      },
      "source": [
        "### Getting started on NLP\n",
        "\n",
        "#### The first thing to do is create a bag of words\n",
        "\n",
        "Let's start by creating bag of words for just one feature 'Position_Extra'. We split the token on alpha numerics. Before doing that we fill the NaNs with empy strings."
      ]
    },
    {
      "cell_type": "code",
      "execution_count": 62,
      "metadata": {
        "collapsed": true,
        "id": "O4QDVL7WV-de"
      },
      "outputs": [],
      "source": [
        "df_train['Position_Extra'].fillna('', inplace = True)"
      ]
    },
    {
      "cell_type": "code",
      "execution_count": 63,
      "metadata": {
        "collapsed": true,
        "id": "46CxTV8HV-de"
      },
      "outputs": [],
      "source": [
        "TOKEN_ALPHANUMERIC = '[A-Za-z0-9]+(?=\\\\s+)'"
      ]
    },
    {
      "cell_type": "code",
      "execution_count": 64,
      "metadata": {
        "collapsed": true,
        "id": "cXLvKOniV-de"
      },
      "outputs": [],
      "source": [
        "from nltk import word_tokenize          \n",
        "from nltk.stem import WordNetLemmatizer \n",
        "class LemmaTokenizer(object):\n",
        "    def __init__(self):\n",
        "         self.wnl = WordNetLemmatizer()\n",
        "    def __call__(self, doc):\n",
        "        return [self.wnl.lemmatize(t) for t in word_tokenize(doc)]"
      ]
    },
    {
      "cell_type": "code",
      "execution_count": 65,
      "metadata": {
        "id": "I6DDLmTtV-de"
      },
      "outputs": [],
      "source": [
        "# Instantiate the CountVectorizer: vec_alphanumeric\n",
        "vec_alphanumeric = CountVectorizer(token_pattern = TOKEN_ALPHANUMERIC, stop_words='english', tokenizer=LemmaTokenizer())"
      ]
    },
    {
      "cell_type": "code",
      "execution_count": 66,
      "metadata": {
        "colab": {
          "base_uri": "https://localhost:8080/"
        },
        "id": "_K_rAD13YYpK",
        "outputId": "bfd1ff3a-467b-413a-934e-e8e7b239b7a8"
      },
      "outputs": [
        {
          "name": "stderr",
          "output_type": "stream",
          "text": [
            "[nltk_data] Downloading package punkt to\n",
            "[nltk_data]     C:\\Users\\KrishnaBalram\\AppData\\Roaming\\nltk_data...\n",
            "[nltk_data]   Unzipping tokenizers\\punkt.zip.\n"
          ]
        },
        {
          "data": {
            "text/plain": [
              "True"
            ]
          },
          "execution_count": 66,
          "metadata": {},
          "output_type": "execute_result"
        }
      ],
      "source": [
        "import nltk\n",
        "nltk.download('punkt')"
      ]
    },
    {
      "cell_type": "code",
      "execution_count": 67,
      "metadata": {
        "colab": {
          "base_uri": "https://localhost:8080/"
        },
        "id": "11xf5BknYmmX",
        "outputId": "fba7d3dd-3dc7-4846-9bef-830282210e04"
      },
      "outputs": [
        {
          "name": "stderr",
          "output_type": "stream",
          "text": [
            "[nltk_data] Downloading package wordnet to\n",
            "[nltk_data]     C:\\Users\\KrishnaBalram\\AppData\\Roaming\\nltk_data...\n"
          ]
        },
        {
          "data": {
            "text/plain": [
              "True"
            ]
          },
          "execution_count": 67,
          "metadata": {},
          "output_type": "execute_result"
        }
      ],
      "source": [
        "import nltk\n",
        "nltk.download('wordnet')"
      ]
    },
    {
      "cell_type": "code",
      "execution_count": 68,
      "metadata": {
        "colab": {
          "base_uri": "https://localhost:8080/",
          "height": 181
        },
        "id": "0iABiQP3V-de",
        "outputId": "12d19209-0a0a-4058-928c-7caea19b7970"
      },
      "outputs": [
        {
          "name": "stderr",
          "output_type": "stream",
          "text": [
            "C:\\Users\\KrishnaBalram\\AppData\\Roaming\\Python\\Python310\\site-packages\\sklearn\\feature_extraction\\text.py:528: UserWarning: The parameter 'token_pattern' will not be used since 'tokenizer' is not None'\n",
            "  warnings.warn(\n",
            "C:\\Users\\KrishnaBalram\\AppData\\Roaming\\Python\\Python310\\site-packages\\sklearn\\feature_extraction\\text.py:409: UserWarning: Your stop_words may be inconsistent with your preprocessing. Tokenizing the stop words generated tokens ['ha', 'le', 'u', 'wa'] not in stop_words.\n",
            "  warnings.warn(\n"
          ]
        },
        {
          "data": {
            "text/html": [
              "<style>#sk-container-id-2 {color: black;background-color: white;}#sk-container-id-2 pre{padding: 0;}#sk-container-id-2 div.sk-toggleable {background-color: white;}#sk-container-id-2 label.sk-toggleable__label {cursor: pointer;display: block;width: 100%;margin-bottom: 0;padding: 0.3em;box-sizing: border-box;text-align: center;}#sk-container-id-2 label.sk-toggleable__label-arrow:before {content: \"▸\";float: left;margin-right: 0.25em;color: #696969;}#sk-container-id-2 label.sk-toggleable__label-arrow:hover:before {color: black;}#sk-container-id-2 div.sk-estimator:hover label.sk-toggleable__label-arrow:before {color: black;}#sk-container-id-2 div.sk-toggleable__content {max-height: 0;max-width: 0;overflow: hidden;text-align: left;background-color: #f0f8ff;}#sk-container-id-2 div.sk-toggleable__content pre {margin: 0.2em;color: black;border-radius: 0.25em;background-color: #f0f8ff;}#sk-container-id-2 input.sk-toggleable__control:checked~div.sk-toggleable__content {max-height: 200px;max-width: 100%;overflow: auto;}#sk-container-id-2 input.sk-toggleable__control:checked~label.sk-toggleable__label-arrow:before {content: \"▾\";}#sk-container-id-2 div.sk-estimator input.sk-toggleable__control:checked~label.sk-toggleable__label {background-color: #d4ebff;}#sk-container-id-2 div.sk-label input.sk-toggleable__control:checked~label.sk-toggleable__label {background-color: #d4ebff;}#sk-container-id-2 input.sk-hidden--visually {border: 0;clip: rect(1px 1px 1px 1px);clip: rect(1px, 1px, 1px, 1px);height: 1px;margin: -1px;overflow: hidden;padding: 0;position: absolute;width: 1px;}#sk-container-id-2 div.sk-estimator {font-family: monospace;background-color: #f0f8ff;border: 1px dotted black;border-radius: 0.25em;box-sizing: border-box;margin-bottom: 0.5em;}#sk-container-id-2 div.sk-estimator:hover {background-color: #d4ebff;}#sk-container-id-2 div.sk-parallel-item::after {content: \"\";width: 100%;border-bottom: 1px solid gray;flex-grow: 1;}#sk-container-id-2 div.sk-label:hover label.sk-toggleable__label {background-color: #d4ebff;}#sk-container-id-2 div.sk-serial::before {content: \"\";position: absolute;border-left: 1px solid gray;box-sizing: border-box;top: 0;bottom: 0;left: 50%;z-index: 0;}#sk-container-id-2 div.sk-serial {display: flex;flex-direction: column;align-items: center;background-color: white;padding-right: 0.2em;padding-left: 0.2em;position: relative;}#sk-container-id-2 div.sk-item {position: relative;z-index: 1;}#sk-container-id-2 div.sk-parallel {display: flex;align-items: stretch;justify-content: center;background-color: white;position: relative;}#sk-container-id-2 div.sk-item::before, #sk-container-id-2 div.sk-parallel-item::before {content: \"\";position: absolute;border-left: 1px solid gray;box-sizing: border-box;top: 0;bottom: 0;left: 50%;z-index: -1;}#sk-container-id-2 div.sk-parallel-item {display: flex;flex-direction: column;z-index: 1;position: relative;background-color: white;}#sk-container-id-2 div.sk-parallel-item:first-child::after {align-self: flex-end;width: 50%;}#sk-container-id-2 div.sk-parallel-item:last-child::after {align-self: flex-start;width: 50%;}#sk-container-id-2 div.sk-parallel-item:only-child::after {width: 0;}#sk-container-id-2 div.sk-dashed-wrapped {border: 1px dashed gray;margin: 0 0.4em 0.5em 0.4em;box-sizing: border-box;padding-bottom: 0.4em;background-color: white;}#sk-container-id-2 div.sk-label label {font-family: monospace;font-weight: bold;display: inline-block;line-height: 1.2em;}#sk-container-id-2 div.sk-label-container {text-align: center;}#sk-container-id-2 div.sk-container {/* jupyter's `normalize.less` sets `[hidden] { display: none; }` but bootstrap.min.css set `[hidden] { display: none !important; }` so we also need the `!important` here to be able to override the default hidden behavior on the sphinx rendered scikit-learn.org. See: https://github.com/scikit-learn/scikit-learn/issues/21755 */display: inline-block !important;position: relative;}#sk-container-id-2 div.sk-text-repr-fallback {display: none;}</style><div id=\"sk-container-id-2\" class=\"sk-top-container\"><div class=\"sk-text-repr-fallback\"><pre>CountVectorizer(stop_words=&#x27;english&#x27;, token_pattern=&#x27;[A-Za-z0-9]+(?=\\\\s+)&#x27;,\n",
              "                tokenizer=&lt;__main__.LemmaTokenizer object at 0x000001EA7595EA70&gt;)</pre><b>In a Jupyter environment, please rerun this cell to show the HTML representation or trust the notebook. <br />On GitHub, the HTML representation is unable to render, please try loading this page with nbviewer.org.</b></div><div class=\"sk-container\" hidden><div class=\"sk-item\"><div class=\"sk-estimator sk-toggleable\"><input class=\"sk-toggleable__control sk-hidden--visually\" id=\"sk-estimator-id-4\" type=\"checkbox\" checked><label for=\"sk-estimator-id-4\" class=\"sk-toggleable__label sk-toggleable__label-arrow\">CountVectorizer</label><div class=\"sk-toggleable__content\"><pre>CountVectorizer(stop_words=&#x27;english&#x27;, token_pattern=&#x27;[A-Za-z0-9]+(?=\\\\s+)&#x27;,\n",
              "                tokenizer=&lt;__main__.LemmaTokenizer object at 0x000001EA7595EA70&gt;)</pre></div></div></div></div></div>"
            ],
            "text/plain": [
              "CountVectorizer(stop_words='english', token_pattern='[A-Za-z0-9]+(?=\\\\s+)',\n",
              "                tokenizer=<__main__.LemmaTokenizer object at 0x000001EA7595EA70>)"
            ]
          },
          "execution_count": 68,
          "metadata": {},
          "output_type": "execute_result"
        }
      ],
      "source": [
        "vec_alphanumeric.fit(df_train['Position_Extra'])"
      ]
    },
    {
      "cell_type": "code",
      "execution_count": 69,
      "metadata": {
        "id": "cvtHEme-aJ5B"
      },
      "outputs": [],
      "source": [
        "from sklearn.model_selection import train_test_split\n",
        "from sklearn.feature_extraction.text import CountVectorizer, TfidfVectorizer"
      ]
    },
    {
      "cell_type": "code",
      "execution_count": 70,
      "metadata": {
        "colab": {
          "base_uri": "https://localhost:8080/"
        },
        "id": "gefL39ypV-df",
        "outputId": "e02e8c61-91fb-4641-a7d8-f233dd9f637a"
      },
      "outputs": [
        {
          "data": {
            "text/plain": [
              "array(['&', '(', ')', ',', '-', '.', '1st', '2nd', '3rd', 'ab',\n",
              "       'additional', 'addl', 'adm', 'administrative', 'administrator',\n",
              "       'aide', 'allotment', 'art', 'assessment', 'asset', 'assistant',\n",
              "       'asst', 'athletic', 'audiologist', 'avg', 'bachelor', 'bilingual',\n",
              "       'board', 'building', 'bus', 'campbell', 'campus', 'card', 'career',\n",
              "       'ccoach', 'cert', 'certified', 'certifiedaddl', 'charge',\n",
              "       'classified', 'clerical', 'clerical/bookkeeper', 'clerk', 'clinic',\n",
              "       'co-tchr', 'coach', 'computer', 'consultant', 'cont', 'contained',\n",
              "       'contractual', 'counselor', 'craft', 'cu', 'custodian', 'data',\n",
              "       'day', 'degreed', 'director', 'driver', 'ed', 'education', 'elem',\n",
              "       'elem/inter', 'elem/interm', 'elementary', 'employee', 'engineer',\n",
              "       'equip', 'executive', 'food', 'gifted', 'grade', 'gross',\n",
              "       'guidance', 'h', 'head', 'high', 'i/ext', 'ii/ext', 'iii/ext',\n",
              "       'instruc', 'instructional', 'interrelated', 'intervention', 'intr',\n",
              "       'kdg', 'ladder', 'large', 'learning', 'literacy', 'man', 'master',\n",
              "       'material', 'mechanic', 'med', 'member', 'mgr', 'mid', 'middle',\n",
              "       'minor', 'mo', 'mon', 'monitor', 'n-faculty', 'network', 'non',\n",
              "       'nurse', 'occupational', 'occupational/physical',\n",
              "       'office/administrative', 'officer', 'optional', 'para',\n",
              "       'paraprofessional', 'patrol', 'pay', 'physical', 'police', 'prin',\n",
              "       'principal', 'professional', 'professional-instructional',\n",
              "       'professional-other', 'program', 'psychological', 'purchased',\n",
              "       'reg', 'registrar', 'rental', 'reqd', 'resource', 'retiree', 's.e',\n",
              "       'school', 'sec', 'secretary', 'security', 'self', 'service',\n",
              "       'size', 'social', 'special', 'specialist', 'speech', 'sub',\n",
              "       'subsidy', 'substitute', 'super', 'supervisor', 'supply',\n",
              "       'support', 'talented', 'tchracct', 'teacher', 'technician', 'temp',\n",
              "       'temporary', 'therapist', 'therp', 'time', 'timecard', 'trade',\n",
              "       'transfer', 'travel', 'undesignated', 'voc', 'warehouse', 'worke',\n",
              "       'worker'], dtype=object)"
            ]
          },
          "execution_count": 70,
          "metadata": {},
          "output_type": "execute_result"
        }
      ],
      "source": [
        "vec_alphanumeric.get_feature_names_out()"
      ]
    },
    {
      "cell_type": "code",
      "execution_count": 71,
      "metadata": {
        "colab": {
          "base_uri": "https://localhost:8080/"
        },
        "id": "uMi2rZnTV-df",
        "outputId": "bb9b7964-678b-4c81-f22f-c78ac6460289"
      },
      "outputs": [
        {
          "data": {
            "text/plain": [
              "170"
            ]
          },
          "execution_count": 71,
          "metadata": {},
          "output_type": "execute_result"
        }
      ],
      "source": [
        "len(vec_alphanumeric.get_feature_names_out()) # vanilla version CountTokenizer()"
      ]
    },
    {
      "cell_type": "code",
      "execution_count": 72,
      "metadata": {
        "colab": {
          "base_uri": "https://localhost:8080/"
        },
        "id": "9jsh-JKWV-df",
        "outputId": "ca1c9a3a-4740-417b-b06f-cef0afd793a6"
      },
      "outputs": [
        {
          "data": {
            "text/plain": [
              "170"
            ]
          },
          "execution_count": 72,
          "metadata": {},
          "output_type": "execute_result"
        }
      ],
      "source": [
        "len(vec_alphanumeric.get_feature_names_out()) # Using stop words"
      ]
    },
    {
      "cell_type": "code",
      "execution_count": 73,
      "metadata": {
        "colab": {
          "base_uri": "https://localhost:8080/"
        },
        "id": "kijrWM2hV-df",
        "outputId": "e01c9672-14c0-4359-cf7f-8107e7c62aaf"
      },
      "outputs": [
        {
          "data": {
            "text/plain": [
              "170"
            ]
          },
          "execution_count": 73,
          "metadata": {},
          "output_type": "execute_result"
        }
      ],
      "source": [
        "len(vec_alphanumeric.get_feature_names_out()) # Using LemmaTokenizer()"
      ]
    },
    {
      "cell_type": "code",
      "execution_count": 74,
      "metadata": {
        "colab": {
          "base_uri": "https://localhost:8080/"
        },
        "id": "sWneahfmV-dg",
        "outputId": "afa709b1-760b-4a86-8ff2-6a05c5e20136"
      },
      "outputs": [
        {
          "data": {
            "text/plain": [
              "numpy.ndarray"
            ]
          },
          "execution_count": 74,
          "metadata": {},
          "output_type": "execute_result"
        }
      ],
      "source": [
        "type(vec_alphanumeric.get_feature_names_out())"
      ]
    },
    {
      "cell_type": "code",
      "execution_count": 75,
      "metadata": {
        "collapsed": true,
        "id": "IxM-DbBOV-dg"
      },
      "outputs": [],
      "source": [
        "LABELS = labels\n",
        "NUMERIC_COLUMNS = numeric_columns"
      ]
    },
    {
      "cell_type": "markdown",
      "metadata": {
        "id": "dabYTuuHV-dg"
      },
      "source": [
        "In order to get a bag-of-words representation for all of the text data in our DataFrame, we must first convert the text data in each row of the DataFrame into a single string.\n",
        "\n",
        "We proceed to do so by grabbing all the data from columns which are not numeric or label data and then combine it into one string for each row to pass to the tokenizer. Note: above when we were looking at just one column 'Position_Extra', we automatically had one string per row. \n",
        "Now, we will create a bag of words for each row by joining the strings. \n",
        "\n",
        "We write a function for that."
      ]
    },
    {
      "cell_type": "code",
      "execution_count": 76,
      "metadata": {
        "colab": {
          "base_uri": "https://localhost:8080/"
        },
        "id": "W_y7eIKlV-dg",
        "outputId": "fb7508fb-ea2d-45ba-de95-68ad13d4876c"
      },
      "outputs": [
        {
          "data": {
            "text/plain": [
              "['Function',\n",
              " 'Use',\n",
              " 'Sharing',\n",
              " 'Reporting',\n",
              " 'Student_Type',\n",
              " 'Position_Type',\n",
              " 'Object_Type',\n",
              " 'Pre_K',\n",
              " 'Operating_Status']"
            ]
          },
          "execution_count": 76,
          "metadata": {},
          "output_type": "execute_result"
        }
      ],
      "source": [
        "LABELS"
      ]
    },
    {
      "cell_type": "code",
      "execution_count": 77,
      "metadata": {
        "colab": {
          "base_uri": "https://localhost:8080/"
        },
        "id": "yhbXvo3HV-dh",
        "outputId": "2e54424f-0cc7-432f-8913-a8035621cc58"
      },
      "outputs": [
        {
          "data": {
            "text/plain": [
              "['Function',\n",
              " 'Use',\n",
              " 'Sharing',\n",
              " 'Reporting',\n",
              " 'Student_Type',\n",
              " 'Position_Type',\n",
              " 'Object_Type',\n",
              " 'Pre_K',\n",
              " 'Operating_Status',\n",
              " 'Object_Description',\n",
              " 'Text_2',\n",
              " 'SubFund_Description',\n",
              " 'Job_Title_Description',\n",
              " 'Text_3',\n",
              " 'Text_4',\n",
              " 'Sub_Object_Description',\n",
              " 'Location_Description',\n",
              " 'FTE',\n",
              " 'Function_Description',\n",
              " 'Facility_or_Department',\n",
              " 'Position_Extra',\n",
              " 'Total',\n",
              " 'Program_Description',\n",
              " 'Fund_Description',\n",
              " 'Text_1']"
            ]
          },
          "execution_count": 77,
          "metadata": {},
          "output_type": "execute_result"
        }
      ],
      "source": [
        "df_train.columns.tolist()"
      ]
    },
    {
      "cell_type": "code",
      "execution_count": 78,
      "metadata": {
        "collapsed": true,
        "id": "UWKyO8mLV-dh"
      },
      "outputs": [],
      "source": [
        "to_drop = NUMERIC_COLUMNS + LABELS"
      ]
    },
    {
      "cell_type": "code",
      "execution_count": 79,
      "metadata": {
        "colab": {
          "base_uri": "https://localhost:8080/"
        },
        "id": "nv7L4mCPV-dh",
        "outputId": "608d8286-b674-46be-dd6f-2ff2144e5ea8"
      },
      "outputs": [
        {
          "data": {
            "text/plain": [
              "{'FTE',\n",
              " 'Function',\n",
              " 'Object_Type',\n",
              " 'Operating_Status',\n",
              " 'Position_Type',\n",
              " 'Pre_K',\n",
              " 'Reporting',\n",
              " 'Sharing',\n",
              " 'Student_Type',\n",
              " 'Total',\n",
              " 'Use'}"
            ]
          },
          "execution_count": 79,
          "metadata": {},
          "output_type": "execute_result"
        }
      ],
      "source": [
        "set(to_drop)"
      ]
    },
    {
      "cell_type": "code",
      "execution_count": 80,
      "metadata": {
        "colab": {
          "base_uri": "https://localhost:8080/"
        },
        "id": "mmn3vmE5V-dh",
        "outputId": "d1e65b73-2fb6-45ff-8f04-a899b9fc893d"
      },
      "outputs": [
        {
          "data": {
            "text/plain": [
              "{'FTE',\n",
              " 'Function',\n",
              " 'Object_Type',\n",
              " 'Operating_Status',\n",
              " 'Position_Type',\n",
              " 'Pre_K',\n",
              " 'Reporting',\n",
              " 'Sharing',\n",
              " 'Student_Type',\n",
              " 'Total',\n",
              " 'Use'}"
            ]
          },
          "execution_count": 80,
          "metadata": {},
          "output_type": "execute_result"
        }
      ],
      "source": [
        "set(to_drop) & set(df_train.columns.tolist())"
      ]
    },
    {
      "cell_type": "code",
      "execution_count": 81,
      "metadata": {
        "collapsed": true,
        "id": "XTHHSM9YV-dh"
      },
      "outputs": [],
      "source": [
        "def combine_text_columns(df, to_drop = NUMERIC_COLUMNS + LABELS):\n",
        "    \"\"\"converts all text in each row of data_frame df to a single vector\"\"\"\n",
        "    \n",
        "    #Drop non-text columns that are in df\n",
        "    to_drop = set(to_drop) & set(df.columns.tolist())\n",
        "    \n",
        "    text_data = df.drop(to_drop, axis = 1)\n",
        "    \n",
        "    # Replace nans with blanks\n",
        "    text_data.fillna('', inplace = True)\n",
        "    \n",
        "    # Join all text items in a row that have a space in between\n",
        "    \n",
        "    return text_data.apply(lambda x: ' '.join(x), axis = 1)"
      ]
    },
    {
      "cell_type": "markdown",
      "metadata": {
        "id": "rfN3wt7yV-di"
      },
      "source": [
        "Now you will use combine_text_columns() to convert all training text data in your DataFrame to a single vector that can be passed to the vectorizer object and made into a bag-of-words using the .fit_transform() method.\n",
        "\n",
        "We will use two ways of tokenizing. One using any non-whitespace characters as a token and other using only alphanumeric characters as token."
      ]
    },
    {
      "cell_type": "code",
      "execution_count": 82,
      "metadata": {
        "collapsed": true,
        "id": "AGnT6rIcV-di"
      },
      "outputs": [],
      "source": [
        "# Create the basic token pattern\n",
        "TOKENS_BASIC = '\\\\S+(?=\\\\s+)'\n",
        "\n",
        "# Create the alphanumeric token pattern\n",
        "TOKENS_ALPHANUMERIC = '[A-Za-z0-9]+(?=\\\\s+)'"
      ]
    },
    {
      "cell_type": "code",
      "execution_count": 83,
      "metadata": {
        "collapsed": true,
        "id": "axYCTyySV-di"
      },
      "outputs": [],
      "source": [
        "vec_basic = CountVectorizer(token_pattern=TOKENS_BASIC)\n",
        "vec_alphanumeric = CountVectorizer(token_pattern=TOKENS_ALPHANUMERIC)"
      ]
    },
    {
      "cell_type": "code",
      "execution_count": 84,
      "metadata": {
        "collapsed": true,
        "id": "OGvOIEPsV-di"
      },
      "outputs": [],
      "source": [
        "text_vector = combine_text_columns(df_train, to_drop = NUMERIC_COLUMNS + LABELS)"
      ]
    },
    {
      "cell_type": "code",
      "execution_count": 85,
      "metadata": {
        "colab": {
          "base_uri": "https://localhost:8080/"
        },
        "id": "sSG9zjnMV-di",
        "outputId": "d14189bf-72da-43f6-9624-a59c085ca2d8"
      },
      "outputs": [
        {
          "data": {
            "text/plain": [
              "pandas.core.series.Series"
            ]
          },
          "execution_count": 85,
          "metadata": {},
          "output_type": "execute_result"
        }
      ],
      "source": [
        "type(text_vector)"
      ]
    },
    {
      "cell_type": "code",
      "execution_count": 86,
      "metadata": {
        "colab": {
          "base_uri": "https://localhost:8080/"
        },
        "id": "kzWyIhJNV-dj",
        "outputId": "215380ca-6da3-4d85-a636-5709553d48f8"
      },
      "outputs": [
        {
          "data": {
            "text/plain": [
              "198     Supplemental *  Operation and Maintenance of P...\n",
              "209     REPAIR AND MAINTENANCE SERVICES  PUPIL TRANSPO...\n",
              "750     Personal Services - Teachers   TCHER 5TH GRADE...\n",
              "931     General Supplies      General Supplies  Instru...\n",
              "1524    Supplies and Materials  Community Services    ...\n",
              "dtype: object"
            ]
          },
          "execution_count": 86,
          "metadata": {},
          "output_type": "execute_result"
        }
      ],
      "source": [
        "text_vector.head()"
      ]
    },
    {
      "cell_type": "code",
      "execution_count": 87,
      "metadata": {
        "colab": {
          "base_uri": "https://localhost:8080/"
        },
        "id": "0NI-m0yFV-dj",
        "outputId": "016737af-58a9-4976-a91c-33ad25094824"
      },
      "outputs": [
        {
          "data": {
            "text/plain": [
              "(1560, 25)"
            ]
          },
          "execution_count": 87,
          "metadata": {},
          "output_type": "execute_result"
        }
      ],
      "source": [
        "df_train.shape"
      ]
    },
    {
      "cell_type": "code",
      "execution_count": 88,
      "metadata": {
        "colab": {
          "base_uri": "https://localhost:8080/"
        },
        "id": "GYL-9v2UV-dk",
        "outputId": "e0067908-d297-411e-f1b5-066b5f531ebc"
      },
      "outputs": [
        {
          "data": {
            "text/plain": [
              "<1560x1117 sparse matrix of type '<class 'numpy.int64'>'\n",
              "\twith 21862 stored elements in Compressed Sparse Row format>"
            ]
          },
          "execution_count": 88,
          "metadata": {},
          "output_type": "execute_result"
        }
      ],
      "source": [
        "vec_basic.fit_transform(text_vector)\n",
        "vec_alphanumeric.fit_transform(text_vector)"
      ]
    },
    {
      "cell_type": "code",
      "execution_count": 89,
      "metadata": {
        "colab": {
          "base_uri": "https://localhost:8080/"
        },
        "id": "eTK1tFUqV-dk",
        "outputId": "a3905fce-edbd-494b-ace4-768bdfbef057"
      },
      "outputs": [
        {
          "data": {
            "text/plain": [
              "array(['\"(year', '\"guidance,', '\"human', ..., 'yr', 'yrs', 'zuni'],\n",
              "      dtype=object)"
            ]
          },
          "execution_count": 89,
          "metadata": {},
          "output_type": "execute_result"
        }
      ],
      "source": [
        "vec_basic.get_feature_names_out()"
      ]
    },
    {
      "cell_type": "code",
      "execution_count": 90,
      "metadata": {
        "colab": {
          "base_uri": "https://localhost:8080/"
        },
        "id": "jD3oib0eV-dk",
        "outputId": "4aebf916-2a95-4f67-8137-489355ba59d4"
      },
      "outputs": [
        {
          "data": {
            "text/plain": [
              "array(['00a', '12', '1st', ..., 'yrs', 'yth', 'zuni'], dtype=object)"
            ]
          },
          "execution_count": 90,
          "metadata": {},
          "output_type": "execute_result"
        }
      ],
      "source": [
        "vec_alphanumeric.get_feature_names_out()"
      ]
    },
    {
      "cell_type": "code",
      "execution_count": 91,
      "metadata": {
        "colab": {
          "base_uri": "https://localhost:8080/"
        },
        "id": "uKmh-eVRV-dl",
        "outputId": "5c4970a2-94d8-4eb6-fe58-0da540ca7e62"
      },
      "outputs": [
        {
          "data": {
            "text/plain": [
              "Function                           Student Transportation\n",
              "Use                                              NO_LABEL\n",
              "Sharing                                   Shared Services\n",
              "Reporting                                      Non-School\n",
              "Student_Type                                     NO_LABEL\n",
              "Position_Type                                    NO_LABEL\n",
              "Object_Type                        Other Non-Compensation\n",
              "Pre_K                                            NO_LABEL\n",
              "Operating_Status                        PreK-12 Operating\n",
              "Object_Description        REPAIR AND MAINTENANCE SERVICES\n",
              "Text_2                                                NaN\n",
              "SubFund_Description                  PUPIL TRANSPORTATION\n",
              "Job_Title_Description                                 NaN\n",
              "Text_3                                                NaN\n",
              "Text_4                                                NaN\n",
              "Sub_Object_Description                                NaN\n",
              "Location_Description                      ADMIN. SERVICES\n",
              "FTE                                                   NaN\n",
              "Function_Description            STUDENT TRANSPORT SERVICE\n",
              "Facility_or_Department                                NaN\n",
              "Position_Extra                                           \n",
              "Total                                              618.29\n",
              "Program_Description                  PUPIL TRANSPORTATION\n",
              "Fund_Description                             General Fund\n",
              "Text_1                                                NaN\n",
              "Name: 209, dtype: object"
            ]
          },
          "execution_count": 91,
          "metadata": {},
          "output_type": "execute_result"
        }
      ],
      "source": [
        "df_train.iloc[1, :]"
      ]
    },
    {
      "cell_type": "code",
      "execution_count": 92,
      "metadata": {
        "colab": {
          "base_uri": "https://localhost:8080/"
        },
        "id": "tooz1xo8V-dl",
        "outputId": "922259e0-c1c2-47cd-ee4e-3f8d10bb9c1c"
      },
      "outputs": [
        {
          "data": {
            "text/plain": [
              "1404"
            ]
          },
          "execution_count": 92,
          "metadata": {},
          "output_type": "execute_result"
        }
      ],
      "source": [
        "len(vec_basic.get_feature_names_out())"
      ]
    },
    {
      "cell_type": "code",
      "execution_count": 93,
      "metadata": {
        "colab": {
          "base_uri": "https://localhost:8080/"
        },
        "id": "sebg4h0KV-dl",
        "outputId": "15e69656-0e3d-42ea-b40b-db5b13b3c912"
      },
      "outputs": [
        {
          "data": {
            "text/plain": [
              "1117"
            ]
          },
          "execution_count": 93,
          "metadata": {},
          "output_type": "execute_result"
        }
      ],
      "source": [
        "len(vec_alphanumeric.get_feature_names_out())"
      ]
    },
    {
      "cell_type": "markdown",
      "metadata": {
        "id": "jUlKm5seV-dl"
      },
      "source": [
        "Tokenizing on alpha-numeric tokens reduces the number of token. "
      ]
    },
    {
      "cell_type": "markdown",
      "metadata": {
        "id": "pdO8armxV-dl"
      },
      "source": [
        "### Let's build a pipeline\n",
        "\n",
        "The Pipeline workflow is a \n",
        "\n",
        "* Repeatable way to go from raw data to trained model\n",
        "\n",
        "* Pipieline object takes sequential list of steps\n",
        "\n",
        "* Output of one step is input to next step\n",
        "\n",
        "* Each step is a tuple with two elements -- the name which is a string, and an object that implements .fit() and .transform() methods\n",
        "\n",
        "* Pipeline are a flexible way to represent the workflow. In fact, a step can itself be another pipeline. \n",
        "\n",
        "The problem here is that the text and numeric data don't work together. For instance, CountVectorizer doesn't know what to do with numeric data and Imputer doesn't know how to imput on text columns. \n",
        "\n",
        "Solution: buid two different pipelines using FunctionTransformer and put them together using FeatureUnion. "
      ]
    },
    {
      "cell_type": "code",
      "execution_count": 94,
      "metadata": {
        "colab": {
          "base_uri": "https://localhost:8080/"
        },
        "id": "z8V9VrMKV-dl",
        "outputId": "b18f994b-58c5-41ae-a791-3adf3e4502d8"
      },
      "outputs": [
        {
          "data": {
            "text/plain": [
              "['FTE',\n",
              " 'Total',\n",
              " 'Function',\n",
              " 'Use',\n",
              " 'Sharing',\n",
              " 'Reporting',\n",
              " 'Student_Type',\n",
              " 'Position_Type',\n",
              " 'Object_Type',\n",
              " 'Pre_K',\n",
              " 'Operating_Status']"
            ]
          },
          "execution_count": 94,
          "metadata": {},
          "output_type": "execute_result"
        }
      ],
      "source": [
        "NUMERIC_COLUMNS + LABELS"
      ]
    },
    {
      "cell_type": "code",
      "execution_count": 95,
      "metadata": {
        "collapsed": true,
        "id": "lf-SHgt3V-dm"
      },
      "outputs": [],
      "source": [
        "ALL_COLUMNS = df_train.columns.tolist()"
      ]
    },
    {
      "cell_type": "code",
      "execution_count": 96,
      "metadata": {
        "collapsed": true,
        "id": "Q9J_EWyhV-dm"
      },
      "outputs": [],
      "source": [
        "TEXT_COLUMNS = list(np.setdiff1d(ALL_COLUMNS, NUMERIC_COLUMNS + LABELS))"
      ]
    },
    {
      "cell_type": "code",
      "execution_count": 97,
      "metadata": {
        "colab": {
          "base_uri": "https://localhost:8080/"
        },
        "id": "tA1MchvMV-dm",
        "outputId": "920ec4da-ba7a-42fb-95fb-b708928b8bbd"
      },
      "outputs": [
        {
          "data": {
            "text/plain": [
              "['Facility_or_Department',\n",
              " 'Function_Description',\n",
              " 'Fund_Description',\n",
              " 'Job_Title_Description',\n",
              " 'Location_Description',\n",
              " 'Object_Description',\n",
              " 'Position_Extra',\n",
              " 'Program_Description',\n",
              " 'SubFund_Description',\n",
              " 'Sub_Object_Description',\n",
              " 'Text_1',\n",
              " 'Text_2',\n",
              " 'Text_3',\n",
              " 'Text_4']"
            ]
          },
          "execution_count": 97,
          "metadata": {},
          "output_type": "execute_result"
        }
      ],
      "source": [
        "TEXT_COLUMNS"
      ]
    },
    {
      "cell_type": "markdown",
      "metadata": {
        "id": "q11L_jRLV-dm"
      },
      "source": [
        "Note we need to use the combine_text_columns function because our tokenizer accepts one string."
      ]
    },
    {
      "cell_type": "code",
      "execution_count": 98,
      "metadata": {
        "collapsed": true,
        "id": "yUSDKjEQV-dm"
      },
      "outputs": [],
      "source": [
        "get_text_data = FunctionTransformer(combine_text_columns, validate = False)"
      ]
    },
    {
      "cell_type": "markdown",
      "metadata": {
        "id": "MUzqGZXMV-dm"
      },
      "source": [
        "FunctionTransformer job is to take a Python function and turn it into an object that a scikit-learn pipeline can understand.\n",
        "\n",
        "The validate=False tells scikit-learn it doesn't need to check for NaNs or validate the dtypes of the input. We will do that work outselves."
      ]
    },
    {
      "cell_type": "code",
      "execution_count": 99,
      "metadata": {
        "collapsed": true,
        "id": "LLM04k8YV-dm"
      },
      "outputs": [],
      "source": [
        "get_numeric_data = FunctionTransformer(lambda x: x[NUMERIC_COLUMNS], validate = False)"
      ]
    },
    {
      "cell_type": "code",
      "execution_count": 100,
      "metadata": {
        "colab": {
          "base_uri": "https://localhost:8080/",
          "height": 74
        },
        "id": "mSZIPlh_V-dn",
        "outputId": "c11653b2-2e23-4e0e-9a38-fa5c7db13585"
      },
      "outputs": [
        {
          "data": {
            "text/html": [
              "<style>#sk-container-id-3 {color: black;background-color: white;}#sk-container-id-3 pre{padding: 0;}#sk-container-id-3 div.sk-toggleable {background-color: white;}#sk-container-id-3 label.sk-toggleable__label {cursor: pointer;display: block;width: 100%;margin-bottom: 0;padding: 0.3em;box-sizing: border-box;text-align: center;}#sk-container-id-3 label.sk-toggleable__label-arrow:before {content: \"▸\";float: left;margin-right: 0.25em;color: #696969;}#sk-container-id-3 label.sk-toggleable__label-arrow:hover:before {color: black;}#sk-container-id-3 div.sk-estimator:hover label.sk-toggleable__label-arrow:before {color: black;}#sk-container-id-3 div.sk-toggleable__content {max-height: 0;max-width: 0;overflow: hidden;text-align: left;background-color: #f0f8ff;}#sk-container-id-3 div.sk-toggleable__content pre {margin: 0.2em;color: black;border-radius: 0.25em;background-color: #f0f8ff;}#sk-container-id-3 input.sk-toggleable__control:checked~div.sk-toggleable__content {max-height: 200px;max-width: 100%;overflow: auto;}#sk-container-id-3 input.sk-toggleable__control:checked~label.sk-toggleable__label-arrow:before {content: \"▾\";}#sk-container-id-3 div.sk-estimator input.sk-toggleable__control:checked~label.sk-toggleable__label {background-color: #d4ebff;}#sk-container-id-3 div.sk-label input.sk-toggleable__control:checked~label.sk-toggleable__label {background-color: #d4ebff;}#sk-container-id-3 input.sk-hidden--visually {border: 0;clip: rect(1px 1px 1px 1px);clip: rect(1px, 1px, 1px, 1px);height: 1px;margin: -1px;overflow: hidden;padding: 0;position: absolute;width: 1px;}#sk-container-id-3 div.sk-estimator {font-family: monospace;background-color: #f0f8ff;border: 1px dotted black;border-radius: 0.25em;box-sizing: border-box;margin-bottom: 0.5em;}#sk-container-id-3 div.sk-estimator:hover {background-color: #d4ebff;}#sk-container-id-3 div.sk-parallel-item::after {content: \"\";width: 100%;border-bottom: 1px solid gray;flex-grow: 1;}#sk-container-id-3 div.sk-label:hover label.sk-toggleable__label {background-color: #d4ebff;}#sk-container-id-3 div.sk-serial::before {content: \"\";position: absolute;border-left: 1px solid gray;box-sizing: border-box;top: 0;bottom: 0;left: 50%;z-index: 0;}#sk-container-id-3 div.sk-serial {display: flex;flex-direction: column;align-items: center;background-color: white;padding-right: 0.2em;padding-left: 0.2em;position: relative;}#sk-container-id-3 div.sk-item {position: relative;z-index: 1;}#sk-container-id-3 div.sk-parallel {display: flex;align-items: stretch;justify-content: center;background-color: white;position: relative;}#sk-container-id-3 div.sk-item::before, #sk-container-id-3 div.sk-parallel-item::before {content: \"\";position: absolute;border-left: 1px solid gray;box-sizing: border-box;top: 0;bottom: 0;left: 50%;z-index: -1;}#sk-container-id-3 div.sk-parallel-item {display: flex;flex-direction: column;z-index: 1;position: relative;background-color: white;}#sk-container-id-3 div.sk-parallel-item:first-child::after {align-self: flex-end;width: 50%;}#sk-container-id-3 div.sk-parallel-item:last-child::after {align-self: flex-start;width: 50%;}#sk-container-id-3 div.sk-parallel-item:only-child::after {width: 0;}#sk-container-id-3 div.sk-dashed-wrapped {border: 1px dashed gray;margin: 0 0.4em 0.5em 0.4em;box-sizing: border-box;padding-bottom: 0.4em;background-color: white;}#sk-container-id-3 div.sk-label label {font-family: monospace;font-weight: bold;display: inline-block;line-height: 1.2em;}#sk-container-id-3 div.sk-label-container {text-align: center;}#sk-container-id-3 div.sk-container {/* jupyter's `normalize.less` sets `[hidden] { display: none; }` but bootstrap.min.css set `[hidden] { display: none !important; }` so we also need the `!important` here to be able to override the default hidden behavior on the sphinx rendered scikit-learn.org. See: https://github.com/scikit-learn/scikit-learn/issues/21755 */display: inline-block !important;position: relative;}#sk-container-id-3 div.sk-text-repr-fallback {display: none;}</style><div id=\"sk-container-id-3\" class=\"sk-top-container\"><div class=\"sk-text-repr-fallback\"><pre>FunctionTransformer(func=&lt;function &lt;lambda&gt; at 0x000001EA75980280&gt;)</pre><b>In a Jupyter environment, please rerun this cell to show the HTML representation or trust the notebook. <br />On GitHub, the HTML representation is unable to render, please try loading this page with nbviewer.org.</b></div><div class=\"sk-container\" hidden><div class=\"sk-item\"><div class=\"sk-estimator sk-toggleable\"><input class=\"sk-toggleable__control sk-hidden--visually\" id=\"sk-estimator-id-5\" type=\"checkbox\" checked><label for=\"sk-estimator-id-5\" class=\"sk-toggleable__label sk-toggleable__label-arrow\">FunctionTransformer</label><div class=\"sk-toggleable__content\"><pre>FunctionTransformer(func=&lt;function &lt;lambda&gt; at 0x000001EA75980280&gt;)</pre></div></div></div></div></div>"
            ],
            "text/plain": [
              "FunctionTransformer(func=<function <lambda> at 0x000001EA75980280>)"
            ]
          },
          "execution_count": 100,
          "metadata": {},
          "output_type": "execute_result"
        }
      ],
      "source": [
        "get_numeric_data"
      ]
    },
    {
      "cell_type": "code",
      "execution_count": 101,
      "metadata": {
        "colab": {
          "base_uri": "https://localhost:8080/",
          "height": 461
        },
        "id": "xVCodFutV-dn",
        "outputId": "065f0295-5ba8-45b7-fbd3-8bb112c4a4e3"
      },
      "outputs": [
        {
          "data": {
            "text/html": [
              "<div>\n",
              "<style scoped>\n",
              "    .dataframe tbody tr th:only-of-type {\n",
              "        vertical-align: middle;\n",
              "    }\n",
              "\n",
              "    .dataframe tbody tr th {\n",
              "        vertical-align: top;\n",
              "    }\n",
              "\n",
              "    .dataframe thead th {\n",
              "        text-align: right;\n",
              "    }\n",
              "</style>\n",
              "<table border=\"1\" class=\"dataframe\">\n",
              "  <thead>\n",
              "    <tr style=\"text-align: right;\">\n",
              "      <th></th>\n",
              "      <th>Facility_or_Department</th>\n",
              "      <th>Function_Description</th>\n",
              "      <th>Fund_Description</th>\n",
              "      <th>Job_Title_Description</th>\n",
              "      <th>Location_Description</th>\n",
              "      <th>Object_Description</th>\n",
              "      <th>Position_Extra</th>\n",
              "      <th>Program_Description</th>\n",
              "      <th>SubFund_Description</th>\n",
              "      <th>Sub_Object_Description</th>\n",
              "      <th>Text_1</th>\n",
              "      <th>Text_2</th>\n",
              "      <th>Text_3</th>\n",
              "      <th>Text_4</th>\n",
              "    </tr>\n",
              "  </thead>\n",
              "  <tbody>\n",
              "    <tr>\n",
              "      <th>198</th>\n",
              "      <td>NaN</td>\n",
              "      <td>Care and Upkeep of Building Services</td>\n",
              "      <td>Title I - Disadvantaged Children/Targeted Assi...</td>\n",
              "      <td>NaN</td>\n",
              "      <td>NaN</td>\n",
              "      <td>Supplemental *</td>\n",
              "      <td></td>\n",
              "      <td>NaN</td>\n",
              "      <td>Operation and Maintenance of Plant Services</td>\n",
              "      <td>Non-Certificated Salaries And Wages</td>\n",
              "      <td>TITLE I CARRYOVER</td>\n",
              "      <td>NaN</td>\n",
              "      <td>NaN</td>\n",
              "      <td>NaN</td>\n",
              "    </tr>\n",
              "    <tr>\n",
              "      <th>209</th>\n",
              "      <td>NaN</td>\n",
              "      <td>STUDENT TRANSPORT SERVICE</td>\n",
              "      <td>General Fund</td>\n",
              "      <td>NaN</td>\n",
              "      <td>ADMIN. SERVICES</td>\n",
              "      <td>REPAIR AND MAINTENANCE SERVICES</td>\n",
              "      <td></td>\n",
              "      <td>PUPIL TRANSPORTATION</td>\n",
              "      <td>PUPIL TRANSPORTATION</td>\n",
              "      <td>NaN</td>\n",
              "      <td>NaN</td>\n",
              "      <td>NaN</td>\n",
              "      <td>NaN</td>\n",
              "      <td>NaN</td>\n",
              "    </tr>\n",
              "    <tr>\n",
              "      <th>750</th>\n",
              "      <td>NaN</td>\n",
              "      <td>NaN</td>\n",
              "      <td>General Purpose School</td>\n",
              "      <td>TCHER 5TH GRADE</td>\n",
              "      <td>NaN</td>\n",
              "      <td>Personal Services - Teachers</td>\n",
              "      <td>TEACHER</td>\n",
              "      <td>Instruction - Regular</td>\n",
              "      <td>NaN</td>\n",
              "      <td>NaN</td>\n",
              "      <td>NaN</td>\n",
              "      <td>NaN</td>\n",
              "      <td>NaN</td>\n",
              "      <td>Regular Instruction</td>\n",
              "    </tr>\n",
              "    <tr>\n",
              "      <th>931</th>\n",
              "      <td>Instruction And Curriculum</td>\n",
              "      <td>Instruction</td>\n",
              "      <td>General Operating Fund</td>\n",
              "      <td>NaN</td>\n",
              "      <td>NaN</td>\n",
              "      <td>General Supplies</td>\n",
              "      <td></td>\n",
              "      <td>\"Title I, Part A Schoolwide Activities Related...</td>\n",
              "      <td>NaN</td>\n",
              "      <td>General Supplies</td>\n",
              "      <td>NaN</td>\n",
              "      <td>NaN</td>\n",
              "      <td>NaN</td>\n",
              "      <td>NaN</td>\n",
              "    </tr>\n",
              "    <tr>\n",
              "      <th>1524</th>\n",
              "      <td>NaN</td>\n",
              "      <td>Other Community Services *</td>\n",
              "      <td>Title I - Disadvantaged Children/Targeted Assi...</td>\n",
              "      <td>NaN</td>\n",
              "      <td>NaN</td>\n",
              "      <td>Supplies and Materials</td>\n",
              "      <td></td>\n",
              "      <td>NaN</td>\n",
              "      <td>Community Services</td>\n",
              "      <td>Supplies And Materials</td>\n",
              "      <td>TITLE I PI+HOMELESS</td>\n",
              "      <td>NaN</td>\n",
              "      <td>NaN</td>\n",
              "      <td>NaN</td>\n",
              "    </tr>\n",
              "  </tbody>\n",
              "</table>\n",
              "</div>"
            ],
            "text/plain": [
              "          Facility_or_Department                  Function_Description  \\\n",
              "198                          NaN  Care and Upkeep of Building Services   \n",
              "209                          NaN             STUDENT TRANSPORT SERVICE   \n",
              "750                          NaN                                   NaN   \n",
              "931   Instruction And Curriculum                           Instruction   \n",
              "1524                         NaN            Other Community Services *   \n",
              "\n",
              "                                       Fund_Description Job_Title_Description  \\\n",
              "198   Title I - Disadvantaged Children/Targeted Assi...                   NaN   \n",
              "209                                        General Fund                   NaN   \n",
              "750                              General Purpose School       TCHER 5TH GRADE   \n",
              "931                              General Operating Fund                   NaN   \n",
              "1524  Title I - Disadvantaged Children/Targeted Assi...                   NaN   \n",
              "\n",
              "     Location_Description               Object_Description Position_Extra  \\\n",
              "198                   NaN                   Supplemental *                  \n",
              "209       ADMIN. SERVICES  REPAIR AND MAINTENANCE SERVICES                  \n",
              "750                   NaN     Personal Services - Teachers        TEACHER   \n",
              "931                   NaN                 General Supplies                  \n",
              "1524                  NaN           Supplies and Materials                  \n",
              "\n",
              "                                    Program_Description  \\\n",
              "198                                                 NaN   \n",
              "209                                PUPIL TRANSPORTATION   \n",
              "750                               Instruction - Regular   \n",
              "931   \"Title I, Part A Schoolwide Activities Related...   \n",
              "1524                                                NaN   \n",
              "\n",
              "                              SubFund_Description  \\\n",
              "198   Operation and Maintenance of Plant Services   \n",
              "209                          PUPIL TRANSPORTATION   \n",
              "750                                           NaN   \n",
              "931                                           NaN   \n",
              "1524                           Community Services   \n",
              "\n",
              "                   Sub_Object_Description                Text_1 Text_2 Text_3  \\\n",
              "198   Non-Certificated Salaries And Wages    TITLE I CARRYOVER     NaN    NaN   \n",
              "209                                   NaN                   NaN    NaN    NaN   \n",
              "750                                   NaN                   NaN    NaN    NaN   \n",
              "931                      General Supplies                   NaN    NaN    NaN   \n",
              "1524               Supplies And Materials   TITLE I PI+HOMELESS    NaN    NaN   \n",
              "\n",
              "                   Text_4  \n",
              "198                   NaN  \n",
              "209                   NaN  \n",
              "750   Regular Instruction  \n",
              "931                   NaN  \n",
              "1524                  NaN  "
            ]
          },
          "execution_count": 101,
          "metadata": {},
          "output_type": "execute_result"
        }
      ],
      "source": [
        "df_train[TEXT_COLUMNS].head()"
      ]
    },
    {
      "cell_type": "code",
      "execution_count": 102,
      "metadata": {
        "collapsed": true,
        "id": "4CR9D7LjV-dn"
      },
      "outputs": [],
      "source": [
        "just_text_data = get_text_data.fit_transform(df_train)"
      ]
    },
    {
      "cell_type": "code",
      "execution_count": 103,
      "metadata": {
        "colab": {
          "base_uri": "https://localhost:8080/"
        },
        "id": "KYWPz12vV-do",
        "outputId": "61c06f42-fda9-441a-91bc-9867b258ef34"
      },
      "outputs": [
        {
          "data": {
            "text/plain": [
              "198     Supplemental *  Operation and Maintenance of P...\n",
              "209     REPAIR AND MAINTENANCE SERVICES  PUPIL TRANSPO...\n",
              "750     Personal Services - Teachers   TCHER 5TH GRADE...\n",
              "931     General Supplies      General Supplies  Instru...\n",
              "1524    Supplies and Materials  Community Services    ...\n",
              "dtype: object"
            ]
          },
          "execution_count": 103,
          "metadata": {},
          "output_type": "execute_result"
        }
      ],
      "source": [
        "just_text_data.head()"
      ]
    },
    {
      "cell_type": "code",
      "execution_count": 104,
      "metadata": {
        "colab": {
          "base_uri": "https://localhost:8080/"
        },
        "id": "VVXJVpV_V-do",
        "outputId": "ce2a1294-2b91-47c0-94dc-5bc29ae309a6"
      },
      "outputs": [
        {
          "data": {
            "text/plain": [
              "(1560,)"
            ]
          },
          "execution_count": 104,
          "metadata": {},
          "output_type": "execute_result"
        }
      ],
      "source": [
        "just_text_data.shape"
      ]
    },
    {
      "cell_type": "code",
      "execution_count": 105,
      "metadata": {
        "colab": {
          "base_uri": "https://localhost:8080/"
        },
        "id": "10WmmVUTV-do",
        "outputId": "2af2df12-880d-4826-dcfe-d166bd31026c"
      },
      "outputs": [
        {
          "data": {
            "text/plain": [
              "14"
            ]
          },
          "execution_count": 105,
          "metadata": {},
          "output_type": "execute_result"
        }
      ],
      "source": [
        "len(TEXT_COLUMNS)"
      ]
    },
    {
      "cell_type": "code",
      "execution_count": 106,
      "metadata": {
        "collapsed": true,
        "id": "0zeNSMICV-dp"
      },
      "outputs": [],
      "source": [
        "just_numeric_data = get_numeric_data.fit_transform(df_train)"
      ]
    },
    {
      "cell_type": "code",
      "execution_count": 107,
      "metadata": {
        "colab": {
          "base_uri": "https://localhost:8080/"
        },
        "id": "9f-dvwrDV-dp",
        "outputId": "187ed6f9-872b-4383-963d-86a79d9d3f82"
      },
      "outputs": [
        {
          "data": {
            "text/plain": [
              "(1560, 2)"
            ]
          },
          "execution_count": 107,
          "metadata": {},
          "output_type": "execute_result"
        }
      ],
      "source": [
        "just_numeric_data.shape"
      ]
    },
    {
      "cell_type": "markdown",
      "metadata": {
        "id": "W8aHqf1MV-dp"
      },
      "source": [
        "### Using FeatureUnion()\n",
        "\n",
        "We combine the multiple type of feature processing using the FeatureUnion utility for scikit-learn.\n",
        "\n",
        "Before that we use the multilabel_train_test_split() we defined above on all of the data set."
      ]
    },
    {
      "cell_type": "code",
      "execution_count": 108,
      "metadata": {
        "colab": {
          "base_uri": "https://localhost:8080/"
        },
        "collapsed": true,
        "id": "x4RvvaNXV-dp",
        "outputId": "d5d507b1-1f84-401f-b403-a46bee2db7b4"
      },
      "outputs": [
        {
          "name": "stderr",
          "output_type": "stream",
          "text": [
            "C:\\Users\\KrishnaBalram\\AppData\\Local\\Temp\\ipykernel_13912\\1498689033.py:22: UserWarning: Size less than number of columns * min_count, returning 520 items instead of 312.0.\n",
            "  warn(msg.format(y.shape[1] * min_count, size))\n"
          ]
        }
      ],
      "source": [
        "X_train, X_test, y_train, y_test = multilabel_train_test_split(df_train[NUMERIC_COLUMNS + TEXT_COLUMNS],\n",
        "                                                               pd.get_dummies(df_train[LABELS]),\n",
        "                                                               size=0.2, \n",
        "                                                               seed=123)"
      ]
    },
    {
      "cell_type": "markdown",
      "metadata": {
        "id": "62ziWM_qV-dp"
      },
      "source": [
        "** Create a FeatureUnion with nested pipeline **"
      ]
    },
    {
      "cell_type": "code",
      "execution_count": 109,
      "metadata": {
        "id": "Ow8iFdjmt5li"
      },
      "outputs": [],
      "source": [
        "from sklearn.impute import SimpleImputer"
      ]
    },
    {
      "cell_type": "code",
      "execution_count": 110,
      "metadata": {
        "collapsed": true,
        "id": "gEGGNfuiV-dp"
      },
      "outputs": [],
      "source": [
        "process_and_join_features = FeatureUnion(\n",
        "                            transformer_list = [\n",
        "                                ('numeric_features', Pipeline([\n",
        "                                    ('selector', get_numeric_data),\n",
        "                                    ('imputer', SimpleImputer())\n",
        "                                ])), \n",
        "                                ('text_features', Pipeline([\n",
        "                                    ('selector', get_text_data),\n",
        "                                    ('vectorizer', CountVectorizer())\n",
        "                                ]))\n",
        "                            ])"
      ]
    },
    {
      "cell_type": "code",
      "execution_count": 111,
      "metadata": {
        "collapsed": true,
        "id": "lu8OHdONV-dq"
      },
      "outputs": [],
      "source": [
        "process_and_join_features_alphanum = FeatureUnion(\n",
        "                            transformer_list = [\n",
        "                                ('numeric_features', Pipeline([\n",
        "                                    ('selector', get_numeric_data),\n",
        "                                    ('imputer', SimpleImputer())\n",
        "                                ])), \n",
        "                                ('text_features', Pipeline([\n",
        "                                    ('selector', get_text_data),\n",
        "                                    ('vectorizer', CountVectorizer(token_pattern=TOKENS_ALPHANUMERIC, ngram_range=(1, 2)))\n",
        "                                ]))\n",
        "                            ])"
      ]
    },
    {
      "cell_type": "code",
      "execution_count": 112,
      "metadata": {
        "collapsed": true,
        "id": "egW7sX_tV-dq"
      },
      "outputs": [],
      "source": [
        "process_and_join_features_basic = FeatureUnion(\n",
        "                            transformer_list = [\n",
        "                                ('numeric_features', Pipeline([\n",
        "                                    ('selector', get_numeric_data),\n",
        "                                    ('imputer', SimpleImputer())\n",
        "                                ])), \n",
        "                                ('text_features', Pipeline([\n",
        "                                    ('selector', get_text_data),\n",
        "                                    ('vectorizer', CountVectorizer(token_pattern=TOKENS_BASIC))\n",
        "                                ]))\n",
        "                            ])"
      ]
    },
    {
      "cell_type": "code",
      "execution_count": 113,
      "metadata": {
        "collapsed": true,
        "id": "oVtnHD9iV-dq"
      },
      "outputs": [],
      "source": [
        "pl = Pipeline([\n",
        "    ('union', process_and_join_features),\n",
        "    ('clf', OneVsRestClassifier(LogisticRegression()))\n",
        "])"
      ]
    },
    {
      "cell_type": "code",
      "execution_count": 114,
      "metadata": {
        "collapsed": true,
        "id": "J0RgwYpPV-dq"
      },
      "outputs": [],
      "source": [
        "pl_alphanum = Pipeline([\n",
        "    ('union', process_and_join_features_alphanum),\n",
        "    ('clf', OneVsRestClassifier(LogisticRegression()))\n",
        "])"
      ]
    },
    {
      "cell_type": "code",
      "execution_count": 115,
      "metadata": {
        "collapsed": true,
        "id": "aap_FlctV-dq"
      },
      "outputs": [],
      "source": [
        "pl_basic = Pipeline([\n",
        "    ('union', process_and_join_features_basic),\n",
        "    ('clf', OneVsRestClassifier(LogisticRegression()))\n",
        "])"
      ]
    },
    {
      "cell_type": "code",
      "execution_count": 116,
      "metadata": {
        "colab": {
          "base_uri": "https://localhost:8080/",
          "height": 443
        },
        "id": "khvEq-ogV-dq",
        "outputId": "1e8315a6-0fde-4507-ef71-797d22e2b1c1"
      },
      "outputs": [
        {
          "data": {
            "text/html": [
              "<div>\n",
              "<style scoped>\n",
              "    .dataframe tbody tr th:only-of-type {\n",
              "        vertical-align: middle;\n",
              "    }\n",
              "\n",
              "    .dataframe tbody tr th {\n",
              "        vertical-align: top;\n",
              "    }\n",
              "\n",
              "    .dataframe thead th {\n",
              "        text-align: right;\n",
              "    }\n",
              "</style>\n",
              "<table border=\"1\" class=\"dataframe\">\n",
              "  <thead>\n",
              "    <tr style=\"text-align: right;\">\n",
              "      <th></th>\n",
              "      <th>FTE</th>\n",
              "      <th>Total</th>\n",
              "      <th>Facility_or_Department</th>\n",
              "      <th>Function_Description</th>\n",
              "      <th>Fund_Description</th>\n",
              "      <th>Job_Title_Description</th>\n",
              "      <th>Location_Description</th>\n",
              "      <th>Object_Description</th>\n",
              "      <th>Position_Extra</th>\n",
              "      <th>Program_Description</th>\n",
              "      <th>SubFund_Description</th>\n",
              "      <th>Sub_Object_Description</th>\n",
              "      <th>Text_1</th>\n",
              "      <th>Text_2</th>\n",
              "      <th>Text_3</th>\n",
              "      <th>Text_4</th>\n",
              "    </tr>\n",
              "  </thead>\n",
              "  <tbody>\n",
              "    <tr>\n",
              "      <th>198</th>\n",
              "      <td>NaN</td>\n",
              "      <td>-8291.86</td>\n",
              "      <td>NaN</td>\n",
              "      <td>Care and Upkeep of Building Services</td>\n",
              "      <td>Title I - Disadvantaged Children/Targeted Assi...</td>\n",
              "      <td>NaN</td>\n",
              "      <td>NaN</td>\n",
              "      <td>Supplemental *</td>\n",
              "      <td></td>\n",
              "      <td>NaN</td>\n",
              "      <td>Operation and Maintenance of Plant Services</td>\n",
              "      <td>Non-Certificated Salaries And Wages</td>\n",
              "      <td>TITLE I CARRYOVER</td>\n",
              "      <td>NaN</td>\n",
              "      <td>NaN</td>\n",
              "      <td>NaN</td>\n",
              "    </tr>\n",
              "    <tr>\n",
              "      <th>750</th>\n",
              "      <td>1.0</td>\n",
              "      <td>49768.82</td>\n",
              "      <td>NaN</td>\n",
              "      <td>NaN</td>\n",
              "      <td>General Purpose School</td>\n",
              "      <td>TCHER 5TH GRADE</td>\n",
              "      <td>NaN</td>\n",
              "      <td>Personal Services - Teachers</td>\n",
              "      <td>TEACHER</td>\n",
              "      <td>Instruction - Regular</td>\n",
              "      <td>NaN</td>\n",
              "      <td>NaN</td>\n",
              "      <td>NaN</td>\n",
              "      <td>NaN</td>\n",
              "      <td>NaN</td>\n",
              "      <td>Regular Instruction</td>\n",
              "    </tr>\n",
              "    <tr>\n",
              "      <th>1524</th>\n",
              "      <td>NaN</td>\n",
              "      <td>2304.43</td>\n",
              "      <td>NaN</td>\n",
              "      <td>Other Community Services *</td>\n",
              "      <td>Title I - Disadvantaged Children/Targeted Assi...</td>\n",
              "      <td>NaN</td>\n",
              "      <td>NaN</td>\n",
              "      <td>Supplies and Materials</td>\n",
              "      <td></td>\n",
              "      <td>NaN</td>\n",
              "      <td>Community Services</td>\n",
              "      <td>Supplies And Materials</td>\n",
              "      <td>TITLE I PI+HOMELESS</td>\n",
              "      <td>NaN</td>\n",
              "      <td>NaN</td>\n",
              "      <td>NaN</td>\n",
              "    </tr>\n",
              "    <tr>\n",
              "      <th>1770</th>\n",
              "      <td>NaN</td>\n",
              "      <td>1505.85</td>\n",
              "      <td>NaN</td>\n",
              "      <td>BASIC (FEFP K-12)</td>\n",
              "      <td>GENERAL FUND</td>\n",
              "      <td>COACHING SUPPLEMENT PAY</td>\n",
              "      <td>School</td>\n",
              "      <td>ATHLETIC SUPPLEMENTS</td>\n",
              "      <td></td>\n",
              "      <td>NaN</td>\n",
              "      <td>NaN</td>\n",
              "      <td>NaN</td>\n",
              "      <td>NaN</td>\n",
              "      <td>NaN</td>\n",
              "      <td>NaN</td>\n",
              "      <td>NaN</td>\n",
              "    </tr>\n",
              "    <tr>\n",
              "      <th>1951</th>\n",
              "      <td>NaN</td>\n",
              "      <td>2400.59</td>\n",
              "      <td>NaN</td>\n",
              "      <td>INST STAFF TRAINING SVCS</td>\n",
              "      <td>GENERAL FUND</td>\n",
              "      <td>NaN</td>\n",
              "      <td>School</td>\n",
              "      <td>CONFERENCE REGISTRATION</td>\n",
              "      <td></td>\n",
              "      <td>NaN</td>\n",
              "      <td>NaN</td>\n",
              "      <td>NaN</td>\n",
              "      <td>SCHOOL OPERATING ACCOUNT</td>\n",
              "      <td>NaN</td>\n",
              "      <td>NaN</td>\n",
              "      <td>NaN</td>\n",
              "    </tr>\n",
              "  </tbody>\n",
              "</table>\n",
              "</div>"
            ],
            "text/plain": [
              "      FTE     Total Facility_or_Department  \\\n",
              "198   NaN  -8291.86                    NaN   \n",
              "750   1.0  49768.82                    NaN   \n",
              "1524  NaN   2304.43                    NaN   \n",
              "1770  NaN   1505.85                    NaN   \n",
              "1951  NaN   2400.59                    NaN   \n",
              "\n",
              "                      Function_Description  \\\n",
              "198   Care and Upkeep of Building Services   \n",
              "750                                    NaN   \n",
              "1524            Other Community Services *   \n",
              "1770        BASIC (FEFP K-12)                \n",
              "1951        INST STAFF TRAINING SVCS         \n",
              "\n",
              "                                       Fund_Description  \\\n",
              "198   Title I - Disadvantaged Children/Targeted Assi...   \n",
              "750                              General Purpose School   \n",
              "1524  Title I - Disadvantaged Children/Targeted Assi...   \n",
              "1770                     GENERAL FUND                     \n",
              "1951                     GENERAL FUND                     \n",
              "\n",
              "               Job_Title_Description Location_Description  \\\n",
              "198                              NaN                  NaN   \n",
              "750                  TCHER 5TH GRADE                  NaN   \n",
              "1524                             NaN                  NaN   \n",
              "1770  COACHING SUPPLEMENT PAY                     School    \n",
              "1951                             NaN              School    \n",
              "\n",
              "                  Object_Description Position_Extra    Program_Description  \\\n",
              "198                   Supplemental *                                   NaN   \n",
              "750     Personal Services - Teachers        TEACHER  Instruction - Regular   \n",
              "1524          Supplies and Materials                                   NaN   \n",
              "1770  ATHLETIC SUPPLEMENTS                                             NaN   \n",
              "1951  CONFERENCE REGISTRATION                                          NaN   \n",
              "\n",
              "                              SubFund_Description  \\\n",
              "198   Operation and Maintenance of Plant Services   \n",
              "750                                           NaN   \n",
              "1524                           Community Services   \n",
              "1770                                          NaN   \n",
              "1951                                          NaN   \n",
              "\n",
              "                   Sub_Object_Description                          Text_1  \\\n",
              "198   Non-Certificated Salaries And Wages              TITLE I CARRYOVER    \n",
              "750                                   NaN                             NaN   \n",
              "1524               Supplies And Materials             TITLE I PI+HOMELESS   \n",
              "1770                                  NaN                             NaN   \n",
              "1951                                  NaN  SCHOOL OPERATING ACCOUNT         \n",
              "\n",
              "     Text_2 Text_3               Text_4  \n",
              "198     NaN    NaN                  NaN  \n",
              "750     NaN    NaN  Regular Instruction  \n",
              "1524    NaN    NaN                  NaN  \n",
              "1770    NaN    NaN                  NaN  \n",
              "1951    NaN    NaN                  NaN  "
            ]
          },
          "execution_count": 116,
          "metadata": {},
          "output_type": "execute_result"
        }
      ],
      "source": [
        "X_train.head()"
      ]
    },
    {
      "cell_type": "code",
      "execution_count": 117,
      "metadata": {
        "colab": {
          "base_uri": "https://localhost:8080/",
          "height": 351
        },
        "id": "NsuwyfltV-dq",
        "outputId": "0f85e4f9-fbaa-4142-dd62-1bc6388807af"
      },
      "outputs": [
        {
          "data": {
            "text/html": [
              "<div>\n",
              "<style scoped>\n",
              "    .dataframe tbody tr th:only-of-type {\n",
              "        vertical-align: middle;\n",
              "    }\n",
              "\n",
              "    .dataframe tbody tr th {\n",
              "        vertical-align: top;\n",
              "    }\n",
              "\n",
              "    .dataframe thead th {\n",
              "        text-align: right;\n",
              "    }\n",
              "</style>\n",
              "<table border=\"1\" class=\"dataframe\">\n",
              "  <thead>\n",
              "    <tr style=\"text-align: right;\">\n",
              "      <th></th>\n",
              "      <th>Function_Aides Compensation</th>\n",
              "      <th>Function_Career &amp; Academic Counseling</th>\n",
              "      <th>Function_Communications</th>\n",
              "      <th>Function_Curriculum Development</th>\n",
              "      <th>Function_Data Processing &amp; Information Services</th>\n",
              "      <th>Function_Development &amp; Fundraising</th>\n",
              "      <th>Function_Enrichment</th>\n",
              "      <th>Function_Extended Time &amp; Tutoring</th>\n",
              "      <th>Function_Facilities &amp; Maintenance</th>\n",
              "      <th>Function_Facilities Planning</th>\n",
              "      <th>...</th>\n",
              "      <th>Object_Type_Rent/Utilities</th>\n",
              "      <th>Object_Type_Substitute Compensation</th>\n",
              "      <th>Object_Type_Supplies/Materials</th>\n",
              "      <th>Object_Type_Travel &amp; Conferences</th>\n",
              "      <th>Pre_K_NO_LABEL</th>\n",
              "      <th>Pre_K_Non PreK</th>\n",
              "      <th>Pre_K_PreK</th>\n",
              "      <th>Operating_Status_Non-Operating</th>\n",
              "      <th>Operating_Status_Operating, Not PreK-12</th>\n",
              "      <th>Operating_Status_PreK-12 Operating</th>\n",
              "    </tr>\n",
              "  </thead>\n",
              "  <tbody>\n",
              "    <tr>\n",
              "      <th>198</th>\n",
              "      <td>0</td>\n",
              "      <td>0</td>\n",
              "      <td>0</td>\n",
              "      <td>0</td>\n",
              "      <td>0</td>\n",
              "      <td>0</td>\n",
              "      <td>0</td>\n",
              "      <td>0</td>\n",
              "      <td>0</td>\n",
              "      <td>0</td>\n",
              "      <td>...</td>\n",
              "      <td>0</td>\n",
              "      <td>0</td>\n",
              "      <td>0</td>\n",
              "      <td>0</td>\n",
              "      <td>1</td>\n",
              "      <td>0</td>\n",
              "      <td>0</td>\n",
              "      <td>1</td>\n",
              "      <td>0</td>\n",
              "      <td>0</td>\n",
              "    </tr>\n",
              "    <tr>\n",
              "      <th>750</th>\n",
              "      <td>0</td>\n",
              "      <td>0</td>\n",
              "      <td>0</td>\n",
              "      <td>0</td>\n",
              "      <td>0</td>\n",
              "      <td>0</td>\n",
              "      <td>0</td>\n",
              "      <td>0</td>\n",
              "      <td>0</td>\n",
              "      <td>0</td>\n",
              "      <td>...</td>\n",
              "      <td>0</td>\n",
              "      <td>0</td>\n",
              "      <td>0</td>\n",
              "      <td>0</td>\n",
              "      <td>0</td>\n",
              "      <td>1</td>\n",
              "      <td>0</td>\n",
              "      <td>0</td>\n",
              "      <td>0</td>\n",
              "      <td>1</td>\n",
              "    </tr>\n",
              "    <tr>\n",
              "      <th>1524</th>\n",
              "      <td>0</td>\n",
              "      <td>0</td>\n",
              "      <td>0</td>\n",
              "      <td>0</td>\n",
              "      <td>0</td>\n",
              "      <td>0</td>\n",
              "      <td>0</td>\n",
              "      <td>0</td>\n",
              "      <td>0</td>\n",
              "      <td>0</td>\n",
              "      <td>...</td>\n",
              "      <td>0</td>\n",
              "      <td>0</td>\n",
              "      <td>0</td>\n",
              "      <td>0</td>\n",
              "      <td>1</td>\n",
              "      <td>0</td>\n",
              "      <td>0</td>\n",
              "      <td>1</td>\n",
              "      <td>0</td>\n",
              "      <td>0</td>\n",
              "    </tr>\n",
              "    <tr>\n",
              "      <th>1770</th>\n",
              "      <td>0</td>\n",
              "      <td>0</td>\n",
              "      <td>0</td>\n",
              "      <td>0</td>\n",
              "      <td>0</td>\n",
              "      <td>0</td>\n",
              "      <td>1</td>\n",
              "      <td>0</td>\n",
              "      <td>0</td>\n",
              "      <td>0</td>\n",
              "      <td>...</td>\n",
              "      <td>0</td>\n",
              "      <td>0</td>\n",
              "      <td>0</td>\n",
              "      <td>0</td>\n",
              "      <td>1</td>\n",
              "      <td>0</td>\n",
              "      <td>0</td>\n",
              "      <td>0</td>\n",
              "      <td>0</td>\n",
              "      <td>1</td>\n",
              "    </tr>\n",
              "    <tr>\n",
              "      <th>1951</th>\n",
              "      <td>0</td>\n",
              "      <td>0</td>\n",
              "      <td>0</td>\n",
              "      <td>0</td>\n",
              "      <td>0</td>\n",
              "      <td>0</td>\n",
              "      <td>0</td>\n",
              "      <td>0</td>\n",
              "      <td>0</td>\n",
              "      <td>0</td>\n",
              "      <td>...</td>\n",
              "      <td>0</td>\n",
              "      <td>0</td>\n",
              "      <td>0</td>\n",
              "      <td>1</td>\n",
              "      <td>1</td>\n",
              "      <td>0</td>\n",
              "      <td>0</td>\n",
              "      <td>0</td>\n",
              "      <td>0</td>\n",
              "      <td>1</td>\n",
              "    </tr>\n",
              "  </tbody>\n",
              "</table>\n",
              "<p>5 rows × 104 columns</p>\n",
              "</div>"
            ],
            "text/plain": [
              "      Function_Aides Compensation  Function_Career & Academic Counseling  \\\n",
              "198                             0                                      0   \n",
              "750                             0                                      0   \n",
              "1524                            0                                      0   \n",
              "1770                            0                                      0   \n",
              "1951                            0                                      0   \n",
              "\n",
              "      Function_Communications  Function_Curriculum Development  \\\n",
              "198                         0                                0   \n",
              "750                         0                                0   \n",
              "1524                        0                                0   \n",
              "1770                        0                                0   \n",
              "1951                        0                                0   \n",
              "\n",
              "      Function_Data Processing & Information Services  \\\n",
              "198                                                 0   \n",
              "750                                                 0   \n",
              "1524                                                0   \n",
              "1770                                                0   \n",
              "1951                                                0   \n",
              "\n",
              "      Function_Development & Fundraising  Function_Enrichment  \\\n",
              "198                                    0                    0   \n",
              "750                                    0                    0   \n",
              "1524                                   0                    0   \n",
              "1770                                   0                    1   \n",
              "1951                                   0                    0   \n",
              "\n",
              "      Function_Extended Time & Tutoring  Function_Facilities & Maintenance  \\\n",
              "198                                   0                                  0   \n",
              "750                                   0                                  0   \n",
              "1524                                  0                                  0   \n",
              "1770                                  0                                  0   \n",
              "1951                                  0                                  0   \n",
              "\n",
              "      Function_Facilities Planning  ...  Object_Type_Rent/Utilities  \\\n",
              "198                              0  ...                           0   \n",
              "750                              0  ...                           0   \n",
              "1524                             0  ...                           0   \n",
              "1770                             0  ...                           0   \n",
              "1951                             0  ...                           0   \n",
              "\n",
              "      Object_Type_Substitute Compensation  Object_Type_Supplies/Materials  \\\n",
              "198                                     0                               0   \n",
              "750                                     0                               0   \n",
              "1524                                    0                               0   \n",
              "1770                                    0                               0   \n",
              "1951                                    0                               0   \n",
              "\n",
              "      Object_Type_Travel & Conferences  Pre_K_NO_LABEL  Pre_K_Non PreK  \\\n",
              "198                                  0               1               0   \n",
              "750                                  0               0               1   \n",
              "1524                                 0               1               0   \n",
              "1770                                 0               1               0   \n",
              "1951                                 1               1               0   \n",
              "\n",
              "      Pre_K_PreK  Operating_Status_Non-Operating  \\\n",
              "198            0                               1   \n",
              "750            0                               0   \n",
              "1524           0                               1   \n",
              "1770           0                               0   \n",
              "1951           0                               0   \n",
              "\n",
              "      Operating_Status_Operating, Not PreK-12  \\\n",
              "198                                         0   \n",
              "750                                         0   \n",
              "1524                                        0   \n",
              "1770                                        0   \n",
              "1951                                        0   \n",
              "\n",
              "      Operating_Status_PreK-12 Operating  \n",
              "198                                    0  \n",
              "750                                    1  \n",
              "1524                                   0  \n",
              "1770                                   1  \n",
              "1951                                   1  \n",
              "\n",
              "[5 rows x 104 columns]"
            ]
          },
          "execution_count": 117,
          "metadata": {},
          "output_type": "execute_result"
        }
      ],
      "source": [
        "y_train.head()"
      ]
    },
    {
      "cell_type": "code",
      "execution_count": 118,
      "metadata": {
        "colab": {
          "base_uri": "https://localhost:8080/",
          "height": 557
        },
        "id": "miOlrzL1V-dr",
        "outputId": "03762394-1554-4338-c542-61dba127067b"
      },
      "outputs": [
        {
          "name": "stderr",
          "output_type": "stream",
          "text": [
            "C:\\Users\\KrishnaBalram\\AppData\\Roaming\\Python\\Python310\\site-packages\\sklearn\\linear_model\\_logistic.py:458: ConvergenceWarning: lbfgs failed to converge (status=1):\n",
            "STOP: TOTAL NO. of ITERATIONS REACHED LIMIT.\n",
            "\n",
            "Increase the number of iterations (max_iter) or scale the data as shown in:\n",
            "    https://scikit-learn.org/stable/modules/preprocessing.html\n",
            "Please also refer to the documentation for alternative solver options:\n",
            "    https://scikit-learn.org/stable/modules/linear_model.html#logistic-regression\n",
            "  n_iter_i = _check_optimize_result(\n",
            "C:\\Users\\KrishnaBalram\\AppData\\Roaming\\Python\\Python310\\site-packages\\sklearn\\linear_model\\_logistic.py:458: ConvergenceWarning: lbfgs failed to converge (status=1):\n",
            "STOP: TOTAL NO. of ITERATIONS REACHED LIMIT.\n",
            "\n",
            "Increase the number of iterations (max_iter) or scale the data as shown in:\n",
            "    https://scikit-learn.org/stable/modules/preprocessing.html\n",
            "Please also refer to the documentation for alternative solver options:\n",
            "    https://scikit-learn.org/stable/modules/linear_model.html#logistic-regression\n",
            "  n_iter_i = _check_optimize_result(\n"
          ]
        },
        {
          "data": {
            "text/html": [
              "<style>#sk-container-id-4 {color: black;background-color: white;}#sk-container-id-4 pre{padding: 0;}#sk-container-id-4 div.sk-toggleable {background-color: white;}#sk-container-id-4 label.sk-toggleable__label {cursor: pointer;display: block;width: 100%;margin-bottom: 0;padding: 0.3em;box-sizing: border-box;text-align: center;}#sk-container-id-4 label.sk-toggleable__label-arrow:before {content: \"▸\";float: left;margin-right: 0.25em;color: #696969;}#sk-container-id-4 label.sk-toggleable__label-arrow:hover:before {color: black;}#sk-container-id-4 div.sk-estimator:hover label.sk-toggleable__label-arrow:before {color: black;}#sk-container-id-4 div.sk-toggleable__content {max-height: 0;max-width: 0;overflow: hidden;text-align: left;background-color: #f0f8ff;}#sk-container-id-4 div.sk-toggleable__content pre {margin: 0.2em;color: black;border-radius: 0.25em;background-color: #f0f8ff;}#sk-container-id-4 input.sk-toggleable__control:checked~div.sk-toggleable__content {max-height: 200px;max-width: 100%;overflow: auto;}#sk-container-id-4 input.sk-toggleable__control:checked~label.sk-toggleable__label-arrow:before {content: \"▾\";}#sk-container-id-4 div.sk-estimator input.sk-toggleable__control:checked~label.sk-toggleable__label {background-color: #d4ebff;}#sk-container-id-4 div.sk-label input.sk-toggleable__control:checked~label.sk-toggleable__label {background-color: #d4ebff;}#sk-container-id-4 input.sk-hidden--visually {border: 0;clip: rect(1px 1px 1px 1px);clip: rect(1px, 1px, 1px, 1px);height: 1px;margin: -1px;overflow: hidden;padding: 0;position: absolute;width: 1px;}#sk-container-id-4 div.sk-estimator {font-family: monospace;background-color: #f0f8ff;border: 1px dotted black;border-radius: 0.25em;box-sizing: border-box;margin-bottom: 0.5em;}#sk-container-id-4 div.sk-estimator:hover {background-color: #d4ebff;}#sk-container-id-4 div.sk-parallel-item::after {content: \"\";width: 100%;border-bottom: 1px solid gray;flex-grow: 1;}#sk-container-id-4 div.sk-label:hover label.sk-toggleable__label {background-color: #d4ebff;}#sk-container-id-4 div.sk-serial::before {content: \"\";position: absolute;border-left: 1px solid gray;box-sizing: border-box;top: 0;bottom: 0;left: 50%;z-index: 0;}#sk-container-id-4 div.sk-serial {display: flex;flex-direction: column;align-items: center;background-color: white;padding-right: 0.2em;padding-left: 0.2em;position: relative;}#sk-container-id-4 div.sk-item {position: relative;z-index: 1;}#sk-container-id-4 div.sk-parallel {display: flex;align-items: stretch;justify-content: center;background-color: white;position: relative;}#sk-container-id-4 div.sk-item::before, #sk-container-id-4 div.sk-parallel-item::before {content: \"\";position: absolute;border-left: 1px solid gray;box-sizing: border-box;top: 0;bottom: 0;left: 50%;z-index: -1;}#sk-container-id-4 div.sk-parallel-item {display: flex;flex-direction: column;z-index: 1;position: relative;background-color: white;}#sk-container-id-4 div.sk-parallel-item:first-child::after {align-self: flex-end;width: 50%;}#sk-container-id-4 div.sk-parallel-item:last-child::after {align-self: flex-start;width: 50%;}#sk-container-id-4 div.sk-parallel-item:only-child::after {width: 0;}#sk-container-id-4 div.sk-dashed-wrapped {border: 1px dashed gray;margin: 0 0.4em 0.5em 0.4em;box-sizing: border-box;padding-bottom: 0.4em;background-color: white;}#sk-container-id-4 div.sk-label label {font-family: monospace;font-weight: bold;display: inline-block;line-height: 1.2em;}#sk-container-id-4 div.sk-label-container {text-align: center;}#sk-container-id-4 div.sk-container {/* jupyter's `normalize.less` sets `[hidden] { display: none; }` but bootstrap.min.css set `[hidden] { display: none !important; }` so we also need the `!important` here to be able to override the default hidden behavior on the sphinx rendered scikit-learn.org. See: https://github.com/scikit-learn/scikit-learn/issues/21755 */display: inline-block !important;position: relative;}#sk-container-id-4 div.sk-text-repr-fallback {display: none;}</style><div id=\"sk-container-id-4\" class=\"sk-top-container\"><div class=\"sk-text-repr-fallback\"><pre>Pipeline(steps=[(&#x27;union&#x27;,\n",
              "                 FeatureUnion(transformer_list=[(&#x27;numeric_features&#x27;,\n",
              "                                                 Pipeline(steps=[(&#x27;selector&#x27;,\n",
              "                                                                  FunctionTransformer(func=&lt;function &lt;lambda&gt; at 0x000001EA75980280&gt;)),\n",
              "                                                                 (&#x27;imputer&#x27;,\n",
              "                                                                  SimpleImputer())])),\n",
              "                                                (&#x27;text_features&#x27;,\n",
              "                                                 Pipeline(steps=[(&#x27;selector&#x27;,\n",
              "                                                                  FunctionTransformer(func=&lt;function combine_text_columns at 0x000001EA75B70820&gt;)),\n",
              "                                                                 (&#x27;vectorizer&#x27;,\n",
              "                                                                  CountVectorizer())]))])),\n",
              "                (&#x27;clf&#x27;, OneVsRestClassifier(estimator=LogisticRegression()))])</pre><b>In a Jupyter environment, please rerun this cell to show the HTML representation or trust the notebook. <br />On GitHub, the HTML representation is unable to render, please try loading this page with nbviewer.org.</b></div><div class=\"sk-container\" hidden><div class=\"sk-item sk-dashed-wrapped\"><div class=\"sk-label-container\"><div class=\"sk-label sk-toggleable\"><input class=\"sk-toggleable__control sk-hidden--visually\" id=\"sk-estimator-id-6\" type=\"checkbox\" ><label for=\"sk-estimator-id-6\" class=\"sk-toggleable__label sk-toggleable__label-arrow\">Pipeline</label><div class=\"sk-toggleable__content\"><pre>Pipeline(steps=[(&#x27;union&#x27;,\n",
              "                 FeatureUnion(transformer_list=[(&#x27;numeric_features&#x27;,\n",
              "                                                 Pipeline(steps=[(&#x27;selector&#x27;,\n",
              "                                                                  FunctionTransformer(func=&lt;function &lt;lambda&gt; at 0x000001EA75980280&gt;)),\n",
              "                                                                 (&#x27;imputer&#x27;,\n",
              "                                                                  SimpleImputer())])),\n",
              "                                                (&#x27;text_features&#x27;,\n",
              "                                                 Pipeline(steps=[(&#x27;selector&#x27;,\n",
              "                                                                  FunctionTransformer(func=&lt;function combine_text_columns at 0x000001EA75B70820&gt;)),\n",
              "                                                                 (&#x27;vectorizer&#x27;,\n",
              "                                                                  CountVectorizer())]))])),\n",
              "                (&#x27;clf&#x27;, OneVsRestClassifier(estimator=LogisticRegression()))])</pre></div></div></div><div class=\"sk-serial\"><div class=\"sk-item sk-dashed-wrapped\"><div class=\"sk-label-container\"><div class=\"sk-label sk-toggleable\"><input class=\"sk-toggleable__control sk-hidden--visually\" id=\"sk-estimator-id-7\" type=\"checkbox\" ><label for=\"sk-estimator-id-7\" class=\"sk-toggleable__label sk-toggleable__label-arrow\">union: FeatureUnion</label><div class=\"sk-toggleable__content\"><pre>FeatureUnion(transformer_list=[(&#x27;numeric_features&#x27;,\n",
              "                                Pipeline(steps=[(&#x27;selector&#x27;,\n",
              "                                                 FunctionTransformer(func=&lt;function &lt;lambda&gt; at 0x000001EA75980280&gt;)),\n",
              "                                                (&#x27;imputer&#x27;, SimpleImputer())])),\n",
              "                               (&#x27;text_features&#x27;,\n",
              "                                Pipeline(steps=[(&#x27;selector&#x27;,\n",
              "                                                 FunctionTransformer(func=&lt;function combine_text_columns at 0x000001EA75B70820&gt;)),\n",
              "                                                (&#x27;vectorizer&#x27;,\n",
              "                                                 CountVectorizer())]))])</pre></div></div></div><div class=\"sk-parallel\"><div class=\"sk-parallel-item\"><div class=\"sk-item\"><div class=\"sk-label-container\"><div class=\"sk-label sk-toggleable\"><label>numeric_features</label></div></div><div class=\"sk-serial\"><div class=\"sk-item\"><div class=\"sk-serial\"><div class=\"sk-item\"><div class=\"sk-estimator sk-toggleable\"><input class=\"sk-toggleable__control sk-hidden--visually\" id=\"sk-estimator-id-8\" type=\"checkbox\" ><label for=\"sk-estimator-id-8\" class=\"sk-toggleable__label sk-toggleable__label-arrow\">FunctionTransformer</label><div class=\"sk-toggleable__content\"><pre>FunctionTransformer(func=&lt;function &lt;lambda&gt; at 0x000001EA75980280&gt;)</pre></div></div></div><div class=\"sk-item\"><div class=\"sk-estimator sk-toggleable\"><input class=\"sk-toggleable__control sk-hidden--visually\" id=\"sk-estimator-id-9\" type=\"checkbox\" ><label for=\"sk-estimator-id-9\" class=\"sk-toggleable__label sk-toggleable__label-arrow\">SimpleImputer</label><div class=\"sk-toggleable__content\"><pre>SimpleImputer()</pre></div></div></div></div></div></div></div></div><div class=\"sk-parallel-item\"><div class=\"sk-item\"><div class=\"sk-label-container\"><div class=\"sk-label sk-toggleable\"><label>text_features</label></div></div><div class=\"sk-serial\"><div class=\"sk-item\"><div class=\"sk-serial\"><div class=\"sk-item\"><div class=\"sk-estimator sk-toggleable\"><input class=\"sk-toggleable__control sk-hidden--visually\" id=\"sk-estimator-id-10\" type=\"checkbox\" ><label for=\"sk-estimator-id-10\" class=\"sk-toggleable__label sk-toggleable__label-arrow\">FunctionTransformer</label><div class=\"sk-toggleable__content\"><pre>FunctionTransformer(func=&lt;function combine_text_columns at 0x000001EA75B70820&gt;)</pre></div></div></div><div class=\"sk-item\"><div class=\"sk-estimator sk-toggleable\"><input class=\"sk-toggleable__control sk-hidden--visually\" id=\"sk-estimator-id-11\" type=\"checkbox\" ><label for=\"sk-estimator-id-11\" class=\"sk-toggleable__label sk-toggleable__label-arrow\">CountVectorizer</label><div class=\"sk-toggleable__content\"><pre>CountVectorizer()</pre></div></div></div></div></div></div></div></div></div></div><div class=\"sk-item sk-dashed-wrapped\"><div class=\"sk-label-container\"><div class=\"sk-label sk-toggleable\"><input class=\"sk-toggleable__control sk-hidden--visually\" id=\"sk-estimator-id-12\" type=\"checkbox\" ><label for=\"sk-estimator-id-12\" class=\"sk-toggleable__label sk-toggleable__label-arrow\">clf: OneVsRestClassifier</label><div class=\"sk-toggleable__content\"><pre>OneVsRestClassifier(estimator=LogisticRegression())</pre></div></div></div><div class=\"sk-parallel\"><div class=\"sk-parallel-item\"><div class=\"sk-item\"><div class=\"sk-label-container\"><div class=\"sk-label sk-toggleable\"><input class=\"sk-toggleable__control sk-hidden--visually\" id=\"sk-estimator-id-13\" type=\"checkbox\" ><label for=\"sk-estimator-id-13\" class=\"sk-toggleable__label sk-toggleable__label-arrow\">estimator: LogisticRegression</label><div class=\"sk-toggleable__content\"><pre>LogisticRegression()</pre></div></div></div><div class=\"sk-serial\"><div class=\"sk-item\"><div class=\"sk-estimator sk-toggleable\"><input class=\"sk-toggleable__control sk-hidden--visually\" id=\"sk-estimator-id-14\" type=\"checkbox\" ><label for=\"sk-estimator-id-14\" class=\"sk-toggleable__label sk-toggleable__label-arrow\">LogisticRegression</label><div class=\"sk-toggleable__content\"><pre>LogisticRegression()</pre></div></div></div></div></div></div></div></div></div></div></div></div>"
            ],
            "text/plain": [
              "Pipeline(steps=[('union',\n",
              "                 FeatureUnion(transformer_list=[('numeric_features',\n",
              "                                                 Pipeline(steps=[('selector',\n",
              "                                                                  FunctionTransformer(func=<function <lambda> at 0x000001EA75980280>)),\n",
              "                                                                 ('imputer',\n",
              "                                                                  SimpleImputer())])),\n",
              "                                                ('text_features',\n",
              "                                                 Pipeline(steps=[('selector',\n",
              "                                                                  FunctionTransformer(func=<function combine_text_columns at 0x000001EA75B70820>)),\n",
              "                                                                 ('vectorizer',\n",
              "                                                                  CountVectorizer())]))])),\n",
              "                ('clf', OneVsRestClassifier(estimator=LogisticRegression()))])"
            ]
          },
          "execution_count": 118,
          "metadata": {},
          "output_type": "execute_result"
        }
      ],
      "source": [
        "pl.fit(X_train, y_train)"
      ]
    },
    {
      "cell_type": "code",
      "execution_count": 119,
      "metadata": {
        "colab": {
          "base_uri": "https://localhost:8080/"
        },
        "id": "aI81NPEcV-dr",
        "outputId": "24d1f70b-cb03-4f30-9807-5764762e68a9"
      },
      "outputs": [
        {
          "data": {
            "text/plain": [
              "0.0"
            ]
          },
          "execution_count": 119,
          "metadata": {},
          "output_type": "execute_result"
        }
      ],
      "source": [
        "pl.score(X_test, y_test)"
      ]
    },
    {
      "cell_type": "code",
      "execution_count": 120,
      "metadata": {
        "colab": {
          "base_uri": "https://localhost:8080/",
          "height": 1000
        },
        "id": "XDQ7B4OMV-dr",
        "outputId": "a4e02b8d-bf37-48ec-82f6-9812d77dca5f"
      },
      "outputs": [
        {
          "name": "stderr",
          "output_type": "stream",
          "text": [
            "C:\\Users\\KrishnaBalram\\AppData\\Roaming\\Python\\Python310\\site-packages\\sklearn\\linear_model\\_logistic.py:458: ConvergenceWarning: lbfgs failed to converge (status=1):\n",
            "STOP: TOTAL NO. of ITERATIONS REACHED LIMIT.\n",
            "\n",
            "Increase the number of iterations (max_iter) or scale the data as shown in:\n",
            "    https://scikit-learn.org/stable/modules/preprocessing.html\n",
            "Please also refer to the documentation for alternative solver options:\n",
            "    https://scikit-learn.org/stable/modules/linear_model.html#logistic-regression\n",
            "  n_iter_i = _check_optimize_result(\n",
            "C:\\Users\\KrishnaBalram\\AppData\\Roaming\\Python\\Python310\\site-packages\\sklearn\\linear_model\\_logistic.py:458: ConvergenceWarning: lbfgs failed to converge (status=1):\n",
            "STOP: TOTAL NO. of ITERATIONS REACHED LIMIT.\n",
            "\n",
            "Increase the number of iterations (max_iter) or scale the data as shown in:\n",
            "    https://scikit-learn.org/stable/modules/preprocessing.html\n",
            "Please also refer to the documentation for alternative solver options:\n",
            "    https://scikit-learn.org/stable/modules/linear_model.html#logistic-regression\n",
            "  n_iter_i = _check_optimize_result(\n",
            "C:\\Users\\KrishnaBalram\\AppData\\Roaming\\Python\\Python310\\site-packages\\sklearn\\linear_model\\_logistic.py:458: ConvergenceWarning: lbfgs failed to converge (status=1):\n",
            "STOP: TOTAL NO. of ITERATIONS REACHED LIMIT.\n",
            "\n",
            "Increase the number of iterations (max_iter) or scale the data as shown in:\n",
            "    https://scikit-learn.org/stable/modules/preprocessing.html\n",
            "Please also refer to the documentation for alternative solver options:\n",
            "    https://scikit-learn.org/stable/modules/linear_model.html#logistic-regression\n",
            "  n_iter_i = _check_optimize_result(\n",
            "C:\\Users\\KrishnaBalram\\AppData\\Roaming\\Python\\Python310\\site-packages\\sklearn\\linear_model\\_logistic.py:458: ConvergenceWarning: lbfgs failed to converge (status=1):\n",
            "STOP: TOTAL NO. of ITERATIONS REACHED LIMIT.\n",
            "\n",
            "Increase the number of iterations (max_iter) or scale the data as shown in:\n",
            "    https://scikit-learn.org/stable/modules/preprocessing.html\n",
            "Please also refer to the documentation for alternative solver options:\n",
            "    https://scikit-learn.org/stable/modules/linear_model.html#logistic-regression\n",
            "  n_iter_i = _check_optimize_result(\n",
            "C:\\Users\\KrishnaBalram\\AppData\\Roaming\\Python\\Python310\\site-packages\\sklearn\\linear_model\\_logistic.py:458: ConvergenceWarning: lbfgs failed to converge (status=1):\n",
            "STOP: TOTAL NO. of ITERATIONS REACHED LIMIT.\n",
            "\n",
            "Increase the number of iterations (max_iter) or scale the data as shown in:\n",
            "    https://scikit-learn.org/stable/modules/preprocessing.html\n",
            "Please also refer to the documentation for alternative solver options:\n",
            "    https://scikit-learn.org/stable/modules/linear_model.html#logistic-regression\n",
            "  n_iter_i = _check_optimize_result(\n",
            "C:\\Users\\KrishnaBalram\\AppData\\Roaming\\Python\\Python310\\site-packages\\sklearn\\linear_model\\_logistic.py:458: ConvergenceWarning: lbfgs failed to converge (status=1):\n",
            "STOP: TOTAL NO. of ITERATIONS REACHED LIMIT.\n",
            "\n",
            "Increase the number of iterations (max_iter) or scale the data as shown in:\n",
            "    https://scikit-learn.org/stable/modules/preprocessing.html\n",
            "Please also refer to the documentation for alternative solver options:\n",
            "    https://scikit-learn.org/stable/modules/linear_model.html#logistic-regression\n",
            "  n_iter_i = _check_optimize_result(\n",
            "C:\\Users\\KrishnaBalram\\AppData\\Roaming\\Python\\Python310\\site-packages\\sklearn\\linear_model\\_logistic.py:458: ConvergenceWarning: lbfgs failed to converge (status=1):\n",
            "STOP: TOTAL NO. of ITERATIONS REACHED LIMIT.\n",
            "\n",
            "Increase the number of iterations (max_iter) or scale the data as shown in:\n",
            "    https://scikit-learn.org/stable/modules/preprocessing.html\n",
            "Please also refer to the documentation for alternative solver options:\n",
            "    https://scikit-learn.org/stable/modules/linear_model.html#logistic-regression\n",
            "  n_iter_i = _check_optimize_result(\n",
            "C:\\Users\\KrishnaBalram\\AppData\\Roaming\\Python\\Python310\\site-packages\\sklearn\\linear_model\\_logistic.py:458: ConvergenceWarning: lbfgs failed to converge (status=1):\n",
            "STOP: TOTAL NO. of ITERATIONS REACHED LIMIT.\n",
            "\n",
            "Increase the number of iterations (max_iter) or scale the data as shown in:\n",
            "    https://scikit-learn.org/stable/modules/preprocessing.html\n",
            "Please also refer to the documentation for alternative solver options:\n",
            "    https://scikit-learn.org/stable/modules/linear_model.html#logistic-regression\n",
            "  n_iter_i = _check_optimize_result(\n",
            "C:\\Users\\KrishnaBalram\\AppData\\Roaming\\Python\\Python310\\site-packages\\sklearn\\linear_model\\_logistic.py:458: ConvergenceWarning: lbfgs failed to converge (status=1):\n",
            "STOP: TOTAL NO. of ITERATIONS REACHED LIMIT.\n",
            "\n",
            "Increase the number of iterations (max_iter) or scale the data as shown in:\n",
            "    https://scikit-learn.org/stable/modules/preprocessing.html\n",
            "Please also refer to the documentation for alternative solver options:\n",
            "    https://scikit-learn.org/stable/modules/linear_model.html#logistic-regression\n",
            "  n_iter_i = _check_optimize_result(\n",
            "C:\\Users\\KrishnaBalram\\AppData\\Roaming\\Python\\Python310\\site-packages\\sklearn\\linear_model\\_logistic.py:458: ConvergenceWarning: lbfgs failed to converge (status=1):\n",
            "STOP: TOTAL NO. of ITERATIONS REACHED LIMIT.\n",
            "\n",
            "Increase the number of iterations (max_iter) or scale the data as shown in:\n",
            "    https://scikit-learn.org/stable/modules/preprocessing.html\n",
            "Please also refer to the documentation for alternative solver options:\n",
            "    https://scikit-learn.org/stable/modules/linear_model.html#logistic-regression\n",
            "  n_iter_i = _check_optimize_result(\n",
            "C:\\Users\\KrishnaBalram\\AppData\\Roaming\\Python\\Python310\\site-packages\\sklearn\\linear_model\\_logistic.py:458: ConvergenceWarning: lbfgs failed to converge (status=1):\n",
            "STOP: TOTAL NO. of ITERATIONS REACHED LIMIT.\n",
            "\n",
            "Increase the number of iterations (max_iter) or scale the data as shown in:\n",
            "    https://scikit-learn.org/stable/modules/preprocessing.html\n",
            "Please also refer to the documentation for alternative solver options:\n",
            "    https://scikit-learn.org/stable/modules/linear_model.html#logistic-regression\n",
            "  n_iter_i = _check_optimize_result(\n",
            "C:\\Users\\KrishnaBalram\\AppData\\Roaming\\Python\\Python310\\site-packages\\sklearn\\linear_model\\_logistic.py:458: ConvergenceWarning: lbfgs failed to converge (status=1):\n",
            "STOP: TOTAL NO. of ITERATIONS REACHED LIMIT.\n",
            "\n",
            "Increase the number of iterations (max_iter) or scale the data as shown in:\n",
            "    https://scikit-learn.org/stable/modules/preprocessing.html\n",
            "Please also refer to the documentation for alternative solver options:\n",
            "    https://scikit-learn.org/stable/modules/linear_model.html#logistic-regression\n",
            "  n_iter_i = _check_optimize_result(\n",
            "C:\\Users\\KrishnaBalram\\AppData\\Roaming\\Python\\Python310\\site-packages\\sklearn\\linear_model\\_logistic.py:458: ConvergenceWarning: lbfgs failed to converge (status=1):\n",
            "STOP: TOTAL NO. of ITERATIONS REACHED LIMIT.\n",
            "\n",
            "Increase the number of iterations (max_iter) or scale the data as shown in:\n",
            "    https://scikit-learn.org/stable/modules/preprocessing.html\n",
            "Please also refer to the documentation for alternative solver options:\n",
            "    https://scikit-learn.org/stable/modules/linear_model.html#logistic-regression\n",
            "  n_iter_i = _check_optimize_result(\n",
            "C:\\Users\\KrishnaBalram\\AppData\\Roaming\\Python\\Python310\\site-packages\\sklearn\\linear_model\\_logistic.py:458: ConvergenceWarning: lbfgs failed to converge (status=1):\n",
            "STOP: TOTAL NO. of ITERATIONS REACHED LIMIT.\n",
            "\n",
            "Increase the number of iterations (max_iter) or scale the data as shown in:\n",
            "    https://scikit-learn.org/stable/modules/preprocessing.html\n",
            "Please also refer to the documentation for alternative solver options:\n",
            "    https://scikit-learn.org/stable/modules/linear_model.html#logistic-regression\n",
            "  n_iter_i = _check_optimize_result(\n"
          ]
        },
        {
          "data": {
            "text/html": [
              "<style>#sk-container-id-5 {color: black;background-color: white;}#sk-container-id-5 pre{padding: 0;}#sk-container-id-5 div.sk-toggleable {background-color: white;}#sk-container-id-5 label.sk-toggleable__label {cursor: pointer;display: block;width: 100%;margin-bottom: 0;padding: 0.3em;box-sizing: border-box;text-align: center;}#sk-container-id-5 label.sk-toggleable__label-arrow:before {content: \"▸\";float: left;margin-right: 0.25em;color: #696969;}#sk-container-id-5 label.sk-toggleable__label-arrow:hover:before {color: black;}#sk-container-id-5 div.sk-estimator:hover label.sk-toggleable__label-arrow:before {color: black;}#sk-container-id-5 div.sk-toggleable__content {max-height: 0;max-width: 0;overflow: hidden;text-align: left;background-color: #f0f8ff;}#sk-container-id-5 div.sk-toggleable__content pre {margin: 0.2em;color: black;border-radius: 0.25em;background-color: #f0f8ff;}#sk-container-id-5 input.sk-toggleable__control:checked~div.sk-toggleable__content {max-height: 200px;max-width: 100%;overflow: auto;}#sk-container-id-5 input.sk-toggleable__control:checked~label.sk-toggleable__label-arrow:before {content: \"▾\";}#sk-container-id-5 div.sk-estimator input.sk-toggleable__control:checked~label.sk-toggleable__label {background-color: #d4ebff;}#sk-container-id-5 div.sk-label input.sk-toggleable__control:checked~label.sk-toggleable__label {background-color: #d4ebff;}#sk-container-id-5 input.sk-hidden--visually {border: 0;clip: rect(1px 1px 1px 1px);clip: rect(1px, 1px, 1px, 1px);height: 1px;margin: -1px;overflow: hidden;padding: 0;position: absolute;width: 1px;}#sk-container-id-5 div.sk-estimator {font-family: monospace;background-color: #f0f8ff;border: 1px dotted black;border-radius: 0.25em;box-sizing: border-box;margin-bottom: 0.5em;}#sk-container-id-5 div.sk-estimator:hover {background-color: #d4ebff;}#sk-container-id-5 div.sk-parallel-item::after {content: \"\";width: 100%;border-bottom: 1px solid gray;flex-grow: 1;}#sk-container-id-5 div.sk-label:hover label.sk-toggleable__label {background-color: #d4ebff;}#sk-container-id-5 div.sk-serial::before {content: \"\";position: absolute;border-left: 1px solid gray;box-sizing: border-box;top: 0;bottom: 0;left: 50%;z-index: 0;}#sk-container-id-5 div.sk-serial {display: flex;flex-direction: column;align-items: center;background-color: white;padding-right: 0.2em;padding-left: 0.2em;position: relative;}#sk-container-id-5 div.sk-item {position: relative;z-index: 1;}#sk-container-id-5 div.sk-parallel {display: flex;align-items: stretch;justify-content: center;background-color: white;position: relative;}#sk-container-id-5 div.sk-item::before, #sk-container-id-5 div.sk-parallel-item::before {content: \"\";position: absolute;border-left: 1px solid gray;box-sizing: border-box;top: 0;bottom: 0;left: 50%;z-index: -1;}#sk-container-id-5 div.sk-parallel-item {display: flex;flex-direction: column;z-index: 1;position: relative;background-color: white;}#sk-container-id-5 div.sk-parallel-item:first-child::after {align-self: flex-end;width: 50%;}#sk-container-id-5 div.sk-parallel-item:last-child::after {align-self: flex-start;width: 50%;}#sk-container-id-5 div.sk-parallel-item:only-child::after {width: 0;}#sk-container-id-5 div.sk-dashed-wrapped {border: 1px dashed gray;margin: 0 0.4em 0.5em 0.4em;box-sizing: border-box;padding-bottom: 0.4em;background-color: white;}#sk-container-id-5 div.sk-label label {font-family: monospace;font-weight: bold;display: inline-block;line-height: 1.2em;}#sk-container-id-5 div.sk-label-container {text-align: center;}#sk-container-id-5 div.sk-container {/* jupyter's `normalize.less` sets `[hidden] { display: none; }` but bootstrap.min.css set `[hidden] { display: none !important; }` so we also need the `!important` here to be able to override the default hidden behavior on the sphinx rendered scikit-learn.org. See: https://github.com/scikit-learn/scikit-learn/issues/21755 */display: inline-block !important;position: relative;}#sk-container-id-5 div.sk-text-repr-fallback {display: none;}</style><div id=\"sk-container-id-5\" class=\"sk-top-container\"><div class=\"sk-text-repr-fallback\"><pre>Pipeline(steps=[(&#x27;union&#x27;,\n",
              "                 FeatureUnion(transformer_list=[(&#x27;numeric_features&#x27;,\n",
              "                                                 Pipeline(steps=[(&#x27;selector&#x27;,\n",
              "                                                                  FunctionTransformer(func=&lt;function &lt;lambda&gt; at 0x000001EA75980280&gt;)),\n",
              "                                                                 (&#x27;imputer&#x27;,\n",
              "                                                                  SimpleImputer())])),\n",
              "                                                (&#x27;text_features&#x27;,\n",
              "                                                 Pipeline(steps=[(&#x27;selector&#x27;,\n",
              "                                                                  FunctionTransformer(func=&lt;function combine_text_columns at 0x000001EA75B70820&gt;)),\n",
              "                                                                 (&#x27;vectorizer&#x27;,\n",
              "                                                                  CountVectorizer(ngram_range=(1,\n",
              "                                                                                               2),\n",
              "                                                                                  token_pattern=&#x27;[A-Za-z0-9]+(?=\\\\s+)&#x27;))]))])),\n",
              "                (&#x27;clf&#x27;, OneVsRestClassifier(estimator=LogisticRegression()))])</pre><b>In a Jupyter environment, please rerun this cell to show the HTML representation or trust the notebook. <br />On GitHub, the HTML representation is unable to render, please try loading this page with nbviewer.org.</b></div><div class=\"sk-container\" hidden><div class=\"sk-item sk-dashed-wrapped\"><div class=\"sk-label-container\"><div class=\"sk-label sk-toggleable\"><input class=\"sk-toggleable__control sk-hidden--visually\" id=\"sk-estimator-id-15\" type=\"checkbox\" ><label for=\"sk-estimator-id-15\" class=\"sk-toggleable__label sk-toggleable__label-arrow\">Pipeline</label><div class=\"sk-toggleable__content\"><pre>Pipeline(steps=[(&#x27;union&#x27;,\n",
              "                 FeatureUnion(transformer_list=[(&#x27;numeric_features&#x27;,\n",
              "                                                 Pipeline(steps=[(&#x27;selector&#x27;,\n",
              "                                                                  FunctionTransformer(func=&lt;function &lt;lambda&gt; at 0x000001EA75980280&gt;)),\n",
              "                                                                 (&#x27;imputer&#x27;,\n",
              "                                                                  SimpleImputer())])),\n",
              "                                                (&#x27;text_features&#x27;,\n",
              "                                                 Pipeline(steps=[(&#x27;selector&#x27;,\n",
              "                                                                  FunctionTransformer(func=&lt;function combine_text_columns at 0x000001EA75B70820&gt;)),\n",
              "                                                                 (&#x27;vectorizer&#x27;,\n",
              "                                                                  CountVectorizer(ngram_range=(1,\n",
              "                                                                                               2),\n",
              "                                                                                  token_pattern=&#x27;[A-Za-z0-9]+(?=\\\\s+)&#x27;))]))])),\n",
              "                (&#x27;clf&#x27;, OneVsRestClassifier(estimator=LogisticRegression()))])</pre></div></div></div><div class=\"sk-serial\"><div class=\"sk-item sk-dashed-wrapped\"><div class=\"sk-label-container\"><div class=\"sk-label sk-toggleable\"><input class=\"sk-toggleable__control sk-hidden--visually\" id=\"sk-estimator-id-16\" type=\"checkbox\" ><label for=\"sk-estimator-id-16\" class=\"sk-toggleable__label sk-toggleable__label-arrow\">union: FeatureUnion</label><div class=\"sk-toggleable__content\"><pre>FeatureUnion(transformer_list=[(&#x27;numeric_features&#x27;,\n",
              "                                Pipeline(steps=[(&#x27;selector&#x27;,\n",
              "                                                 FunctionTransformer(func=&lt;function &lt;lambda&gt; at 0x000001EA75980280&gt;)),\n",
              "                                                (&#x27;imputer&#x27;, SimpleImputer())])),\n",
              "                               (&#x27;text_features&#x27;,\n",
              "                                Pipeline(steps=[(&#x27;selector&#x27;,\n",
              "                                                 FunctionTransformer(func=&lt;function combine_text_columns at 0x000001EA75B70820&gt;)),\n",
              "                                                (&#x27;vectorizer&#x27;,\n",
              "                                                 CountVectorizer(ngram_range=(1,\n",
              "                                                                              2),\n",
              "                                                                 token_pattern=&#x27;[A-Za-z0-9]+(?=\\\\s+)&#x27;))]))])</pre></div></div></div><div class=\"sk-parallel\"><div class=\"sk-parallel-item\"><div class=\"sk-item\"><div class=\"sk-label-container\"><div class=\"sk-label sk-toggleable\"><label>numeric_features</label></div></div><div class=\"sk-serial\"><div class=\"sk-item\"><div class=\"sk-serial\"><div class=\"sk-item\"><div class=\"sk-estimator sk-toggleable\"><input class=\"sk-toggleable__control sk-hidden--visually\" id=\"sk-estimator-id-17\" type=\"checkbox\" ><label for=\"sk-estimator-id-17\" class=\"sk-toggleable__label sk-toggleable__label-arrow\">FunctionTransformer</label><div class=\"sk-toggleable__content\"><pre>FunctionTransformer(func=&lt;function &lt;lambda&gt; at 0x000001EA75980280&gt;)</pre></div></div></div><div class=\"sk-item\"><div class=\"sk-estimator sk-toggleable\"><input class=\"sk-toggleable__control sk-hidden--visually\" id=\"sk-estimator-id-18\" type=\"checkbox\" ><label for=\"sk-estimator-id-18\" class=\"sk-toggleable__label sk-toggleable__label-arrow\">SimpleImputer</label><div class=\"sk-toggleable__content\"><pre>SimpleImputer()</pre></div></div></div></div></div></div></div></div><div class=\"sk-parallel-item\"><div class=\"sk-item\"><div class=\"sk-label-container\"><div class=\"sk-label sk-toggleable\"><label>text_features</label></div></div><div class=\"sk-serial\"><div class=\"sk-item\"><div class=\"sk-serial\"><div class=\"sk-item\"><div class=\"sk-estimator sk-toggleable\"><input class=\"sk-toggleable__control sk-hidden--visually\" id=\"sk-estimator-id-19\" type=\"checkbox\" ><label for=\"sk-estimator-id-19\" class=\"sk-toggleable__label sk-toggleable__label-arrow\">FunctionTransformer</label><div class=\"sk-toggleable__content\"><pre>FunctionTransformer(func=&lt;function combine_text_columns at 0x000001EA75B70820&gt;)</pre></div></div></div><div class=\"sk-item\"><div class=\"sk-estimator sk-toggleable\"><input class=\"sk-toggleable__control sk-hidden--visually\" id=\"sk-estimator-id-20\" type=\"checkbox\" ><label for=\"sk-estimator-id-20\" class=\"sk-toggleable__label sk-toggleable__label-arrow\">CountVectorizer</label><div class=\"sk-toggleable__content\"><pre>CountVectorizer(ngram_range=(1, 2), token_pattern=&#x27;[A-Za-z0-9]+(?=\\\\s+)&#x27;)</pre></div></div></div></div></div></div></div></div></div></div><div class=\"sk-item sk-dashed-wrapped\"><div class=\"sk-label-container\"><div class=\"sk-label sk-toggleable\"><input class=\"sk-toggleable__control sk-hidden--visually\" id=\"sk-estimator-id-21\" type=\"checkbox\" ><label for=\"sk-estimator-id-21\" class=\"sk-toggleable__label sk-toggleable__label-arrow\">clf: OneVsRestClassifier</label><div class=\"sk-toggleable__content\"><pre>OneVsRestClassifier(estimator=LogisticRegression())</pre></div></div></div><div class=\"sk-parallel\"><div class=\"sk-parallel-item\"><div class=\"sk-item\"><div class=\"sk-label-container\"><div class=\"sk-label sk-toggleable\"><input class=\"sk-toggleable__control sk-hidden--visually\" id=\"sk-estimator-id-22\" type=\"checkbox\" ><label for=\"sk-estimator-id-22\" class=\"sk-toggleable__label sk-toggleable__label-arrow\">estimator: LogisticRegression</label><div class=\"sk-toggleable__content\"><pre>LogisticRegression()</pre></div></div></div><div class=\"sk-serial\"><div class=\"sk-item\"><div class=\"sk-estimator sk-toggleable\"><input class=\"sk-toggleable__control sk-hidden--visually\" id=\"sk-estimator-id-23\" type=\"checkbox\" ><label for=\"sk-estimator-id-23\" class=\"sk-toggleable__label sk-toggleable__label-arrow\">LogisticRegression</label><div class=\"sk-toggleable__content\"><pre>LogisticRegression()</pre></div></div></div></div></div></div></div></div></div></div></div></div>"
            ],
            "text/plain": [
              "Pipeline(steps=[('union',\n",
              "                 FeatureUnion(transformer_list=[('numeric_features',\n",
              "                                                 Pipeline(steps=[('selector',\n",
              "                                                                  FunctionTransformer(func=<function <lambda> at 0x000001EA75980280>)),\n",
              "                                                                 ('imputer',\n",
              "                                                                  SimpleImputer())])),\n",
              "                                                ('text_features',\n",
              "                                                 Pipeline(steps=[('selector',\n",
              "                                                                  FunctionTransformer(func=<function combine_text_columns at 0x000001EA75B70820>)),\n",
              "                                                                 ('vectorizer',\n",
              "                                                                  CountVectorizer(ngram_range=(1,\n",
              "                                                                                               2),\n",
              "                                                                                  token_pattern='[A-Za-z0-9]+(?=\\\\s+)'))]))])),\n",
              "                ('clf', OneVsRestClassifier(estimator=LogisticRegression()))])"
            ]
          },
          "execution_count": 120,
          "metadata": {},
          "output_type": "execute_result"
        }
      ],
      "source": [
        "pl_alphanum.fit(X_train, y_train)"
      ]
    },
    {
      "cell_type": "code",
      "execution_count": 121,
      "metadata": {
        "colab": {
          "base_uri": "https://localhost:8080/"
        },
        "id": "zRvWLZCnV-dr",
        "outputId": "83077791-e90b-4d60-b993-eb43493245e2"
      },
      "outputs": [
        {
          "data": {
            "text/plain": [
              "0.0"
            ]
          },
          "execution_count": 121,
          "metadata": {},
          "output_type": "execute_result"
        }
      ],
      "source": [
        "pl_alphanum.score(X_test, y_test)"
      ]
    },
    {
      "cell_type": "code",
      "execution_count": 122,
      "metadata": {
        "colab": {
          "base_uri": "https://localhost:8080/",
          "height": 973
        },
        "id": "hy_q6MZcV-dr",
        "outputId": "74643253-abf6-4dae-fe23-f0f4ed08fb5c"
      },
      "outputs": [
        {
          "name": "stderr",
          "output_type": "stream",
          "text": [
            "C:\\Users\\KrishnaBalram\\AppData\\Roaming\\Python\\Python310\\site-packages\\sklearn\\linear_model\\_logistic.py:458: ConvergenceWarning: lbfgs failed to converge (status=1):\n",
            "STOP: TOTAL NO. of ITERATIONS REACHED LIMIT.\n",
            "\n",
            "Increase the number of iterations (max_iter) or scale the data as shown in:\n",
            "    https://scikit-learn.org/stable/modules/preprocessing.html\n",
            "Please also refer to the documentation for alternative solver options:\n",
            "    https://scikit-learn.org/stable/modules/linear_model.html#logistic-regression\n",
            "  n_iter_i = _check_optimize_result(\n",
            "C:\\Users\\KrishnaBalram\\AppData\\Roaming\\Python\\Python310\\site-packages\\sklearn\\linear_model\\_logistic.py:458: ConvergenceWarning: lbfgs failed to converge (status=1):\n",
            "STOP: TOTAL NO. of ITERATIONS REACHED LIMIT.\n",
            "\n",
            "Increase the number of iterations (max_iter) or scale the data as shown in:\n",
            "    https://scikit-learn.org/stable/modules/preprocessing.html\n",
            "Please also refer to the documentation for alternative solver options:\n",
            "    https://scikit-learn.org/stable/modules/linear_model.html#logistic-regression\n",
            "  n_iter_i = _check_optimize_result(\n",
            "C:\\Users\\KrishnaBalram\\AppData\\Roaming\\Python\\Python310\\site-packages\\sklearn\\linear_model\\_logistic.py:458: ConvergenceWarning: lbfgs failed to converge (status=1):\n",
            "STOP: TOTAL NO. of ITERATIONS REACHED LIMIT.\n",
            "\n",
            "Increase the number of iterations (max_iter) or scale the data as shown in:\n",
            "    https://scikit-learn.org/stable/modules/preprocessing.html\n",
            "Please also refer to the documentation for alternative solver options:\n",
            "    https://scikit-learn.org/stable/modules/linear_model.html#logistic-regression\n",
            "  n_iter_i = _check_optimize_result(\n"
          ]
        },
        {
          "data": {
            "text/html": [
              "<style>#sk-container-id-6 {color: black;background-color: white;}#sk-container-id-6 pre{padding: 0;}#sk-container-id-6 div.sk-toggleable {background-color: white;}#sk-container-id-6 label.sk-toggleable__label {cursor: pointer;display: block;width: 100%;margin-bottom: 0;padding: 0.3em;box-sizing: border-box;text-align: center;}#sk-container-id-6 label.sk-toggleable__label-arrow:before {content: \"▸\";float: left;margin-right: 0.25em;color: #696969;}#sk-container-id-6 label.sk-toggleable__label-arrow:hover:before {color: black;}#sk-container-id-6 div.sk-estimator:hover label.sk-toggleable__label-arrow:before {color: black;}#sk-container-id-6 div.sk-toggleable__content {max-height: 0;max-width: 0;overflow: hidden;text-align: left;background-color: #f0f8ff;}#sk-container-id-6 div.sk-toggleable__content pre {margin: 0.2em;color: black;border-radius: 0.25em;background-color: #f0f8ff;}#sk-container-id-6 input.sk-toggleable__control:checked~div.sk-toggleable__content {max-height: 200px;max-width: 100%;overflow: auto;}#sk-container-id-6 input.sk-toggleable__control:checked~label.sk-toggleable__label-arrow:before {content: \"▾\";}#sk-container-id-6 div.sk-estimator input.sk-toggleable__control:checked~label.sk-toggleable__label {background-color: #d4ebff;}#sk-container-id-6 div.sk-label input.sk-toggleable__control:checked~label.sk-toggleable__label {background-color: #d4ebff;}#sk-container-id-6 input.sk-hidden--visually {border: 0;clip: rect(1px 1px 1px 1px);clip: rect(1px, 1px, 1px, 1px);height: 1px;margin: -1px;overflow: hidden;padding: 0;position: absolute;width: 1px;}#sk-container-id-6 div.sk-estimator {font-family: monospace;background-color: #f0f8ff;border: 1px dotted black;border-radius: 0.25em;box-sizing: border-box;margin-bottom: 0.5em;}#sk-container-id-6 div.sk-estimator:hover {background-color: #d4ebff;}#sk-container-id-6 div.sk-parallel-item::after {content: \"\";width: 100%;border-bottom: 1px solid gray;flex-grow: 1;}#sk-container-id-6 div.sk-label:hover label.sk-toggleable__label {background-color: #d4ebff;}#sk-container-id-6 div.sk-serial::before {content: \"\";position: absolute;border-left: 1px solid gray;box-sizing: border-box;top: 0;bottom: 0;left: 50%;z-index: 0;}#sk-container-id-6 div.sk-serial {display: flex;flex-direction: column;align-items: center;background-color: white;padding-right: 0.2em;padding-left: 0.2em;position: relative;}#sk-container-id-6 div.sk-item {position: relative;z-index: 1;}#sk-container-id-6 div.sk-parallel {display: flex;align-items: stretch;justify-content: center;background-color: white;position: relative;}#sk-container-id-6 div.sk-item::before, #sk-container-id-6 div.sk-parallel-item::before {content: \"\";position: absolute;border-left: 1px solid gray;box-sizing: border-box;top: 0;bottom: 0;left: 50%;z-index: -1;}#sk-container-id-6 div.sk-parallel-item {display: flex;flex-direction: column;z-index: 1;position: relative;background-color: white;}#sk-container-id-6 div.sk-parallel-item:first-child::after {align-self: flex-end;width: 50%;}#sk-container-id-6 div.sk-parallel-item:last-child::after {align-self: flex-start;width: 50%;}#sk-container-id-6 div.sk-parallel-item:only-child::after {width: 0;}#sk-container-id-6 div.sk-dashed-wrapped {border: 1px dashed gray;margin: 0 0.4em 0.5em 0.4em;box-sizing: border-box;padding-bottom: 0.4em;background-color: white;}#sk-container-id-6 div.sk-label label {font-family: monospace;font-weight: bold;display: inline-block;line-height: 1.2em;}#sk-container-id-6 div.sk-label-container {text-align: center;}#sk-container-id-6 div.sk-container {/* jupyter's `normalize.less` sets `[hidden] { display: none; }` but bootstrap.min.css set `[hidden] { display: none !important; }` so we also need the `!important` here to be able to override the default hidden behavior on the sphinx rendered scikit-learn.org. See: https://github.com/scikit-learn/scikit-learn/issues/21755 */display: inline-block !important;position: relative;}#sk-container-id-6 div.sk-text-repr-fallback {display: none;}</style><div id=\"sk-container-id-6\" class=\"sk-top-container\"><div class=\"sk-text-repr-fallback\"><pre>Pipeline(steps=[(&#x27;union&#x27;,\n",
              "                 FeatureUnion(transformer_list=[(&#x27;numeric_features&#x27;,\n",
              "                                                 Pipeline(steps=[(&#x27;selector&#x27;,\n",
              "                                                                  FunctionTransformer(func=&lt;function &lt;lambda&gt; at 0x000001EA75980280&gt;)),\n",
              "                                                                 (&#x27;imputer&#x27;,\n",
              "                                                                  SimpleImputer())])),\n",
              "                                                (&#x27;text_features&#x27;,\n",
              "                                                 Pipeline(steps=[(&#x27;selector&#x27;,\n",
              "                                                                  FunctionTransformer(func=&lt;function combine_text_columns at 0x000001EA75B70820&gt;)),\n",
              "                                                                 (&#x27;vectorizer&#x27;,\n",
              "                                                                  CountVectorizer(token_pattern=&#x27;\\\\S+(?=\\\\s+)&#x27;))]))])),\n",
              "                (&#x27;clf&#x27;, OneVsRestClassifier(estimator=LogisticRegression()))])</pre><b>In a Jupyter environment, please rerun this cell to show the HTML representation or trust the notebook. <br />On GitHub, the HTML representation is unable to render, please try loading this page with nbviewer.org.</b></div><div class=\"sk-container\" hidden><div class=\"sk-item sk-dashed-wrapped\"><div class=\"sk-label-container\"><div class=\"sk-label sk-toggleable\"><input class=\"sk-toggleable__control sk-hidden--visually\" id=\"sk-estimator-id-24\" type=\"checkbox\" ><label for=\"sk-estimator-id-24\" class=\"sk-toggleable__label sk-toggleable__label-arrow\">Pipeline</label><div class=\"sk-toggleable__content\"><pre>Pipeline(steps=[(&#x27;union&#x27;,\n",
              "                 FeatureUnion(transformer_list=[(&#x27;numeric_features&#x27;,\n",
              "                                                 Pipeline(steps=[(&#x27;selector&#x27;,\n",
              "                                                                  FunctionTransformer(func=&lt;function &lt;lambda&gt; at 0x000001EA75980280&gt;)),\n",
              "                                                                 (&#x27;imputer&#x27;,\n",
              "                                                                  SimpleImputer())])),\n",
              "                                                (&#x27;text_features&#x27;,\n",
              "                                                 Pipeline(steps=[(&#x27;selector&#x27;,\n",
              "                                                                  FunctionTransformer(func=&lt;function combine_text_columns at 0x000001EA75B70820&gt;)),\n",
              "                                                                 (&#x27;vectorizer&#x27;,\n",
              "                                                                  CountVectorizer(token_pattern=&#x27;\\\\S+(?=\\\\s+)&#x27;))]))])),\n",
              "                (&#x27;clf&#x27;, OneVsRestClassifier(estimator=LogisticRegression()))])</pre></div></div></div><div class=\"sk-serial\"><div class=\"sk-item sk-dashed-wrapped\"><div class=\"sk-label-container\"><div class=\"sk-label sk-toggleable\"><input class=\"sk-toggleable__control sk-hidden--visually\" id=\"sk-estimator-id-25\" type=\"checkbox\" ><label for=\"sk-estimator-id-25\" class=\"sk-toggleable__label sk-toggleable__label-arrow\">union: FeatureUnion</label><div class=\"sk-toggleable__content\"><pre>FeatureUnion(transformer_list=[(&#x27;numeric_features&#x27;,\n",
              "                                Pipeline(steps=[(&#x27;selector&#x27;,\n",
              "                                                 FunctionTransformer(func=&lt;function &lt;lambda&gt; at 0x000001EA75980280&gt;)),\n",
              "                                                (&#x27;imputer&#x27;, SimpleImputer())])),\n",
              "                               (&#x27;text_features&#x27;,\n",
              "                                Pipeline(steps=[(&#x27;selector&#x27;,\n",
              "                                                 FunctionTransformer(func=&lt;function combine_text_columns at 0x000001EA75B70820&gt;)),\n",
              "                                                (&#x27;vectorizer&#x27;,\n",
              "                                                 CountVectorizer(token_pattern=&#x27;\\\\S+(?=\\\\s+)&#x27;))]))])</pre></div></div></div><div class=\"sk-parallel\"><div class=\"sk-parallel-item\"><div class=\"sk-item\"><div class=\"sk-label-container\"><div class=\"sk-label sk-toggleable\"><label>numeric_features</label></div></div><div class=\"sk-serial\"><div class=\"sk-item\"><div class=\"sk-serial\"><div class=\"sk-item\"><div class=\"sk-estimator sk-toggleable\"><input class=\"sk-toggleable__control sk-hidden--visually\" id=\"sk-estimator-id-26\" type=\"checkbox\" ><label for=\"sk-estimator-id-26\" class=\"sk-toggleable__label sk-toggleable__label-arrow\">FunctionTransformer</label><div class=\"sk-toggleable__content\"><pre>FunctionTransformer(func=&lt;function &lt;lambda&gt; at 0x000001EA75980280&gt;)</pre></div></div></div><div class=\"sk-item\"><div class=\"sk-estimator sk-toggleable\"><input class=\"sk-toggleable__control sk-hidden--visually\" id=\"sk-estimator-id-27\" type=\"checkbox\" ><label for=\"sk-estimator-id-27\" class=\"sk-toggleable__label sk-toggleable__label-arrow\">SimpleImputer</label><div class=\"sk-toggleable__content\"><pre>SimpleImputer()</pre></div></div></div></div></div></div></div></div><div class=\"sk-parallel-item\"><div class=\"sk-item\"><div class=\"sk-label-container\"><div class=\"sk-label sk-toggleable\"><label>text_features</label></div></div><div class=\"sk-serial\"><div class=\"sk-item\"><div class=\"sk-serial\"><div class=\"sk-item\"><div class=\"sk-estimator sk-toggleable\"><input class=\"sk-toggleable__control sk-hidden--visually\" id=\"sk-estimator-id-28\" type=\"checkbox\" ><label for=\"sk-estimator-id-28\" class=\"sk-toggleable__label sk-toggleable__label-arrow\">FunctionTransformer</label><div class=\"sk-toggleable__content\"><pre>FunctionTransformer(func=&lt;function combine_text_columns at 0x000001EA75B70820&gt;)</pre></div></div></div><div class=\"sk-item\"><div class=\"sk-estimator sk-toggleable\"><input class=\"sk-toggleable__control sk-hidden--visually\" id=\"sk-estimator-id-29\" type=\"checkbox\" ><label for=\"sk-estimator-id-29\" class=\"sk-toggleable__label sk-toggleable__label-arrow\">CountVectorizer</label><div class=\"sk-toggleable__content\"><pre>CountVectorizer(token_pattern=&#x27;\\\\S+(?=\\\\s+)&#x27;)</pre></div></div></div></div></div></div></div></div></div></div><div class=\"sk-item sk-dashed-wrapped\"><div class=\"sk-label-container\"><div class=\"sk-label sk-toggleable\"><input class=\"sk-toggleable__control sk-hidden--visually\" id=\"sk-estimator-id-30\" type=\"checkbox\" ><label for=\"sk-estimator-id-30\" class=\"sk-toggleable__label sk-toggleable__label-arrow\">clf: OneVsRestClassifier</label><div class=\"sk-toggleable__content\"><pre>OneVsRestClassifier(estimator=LogisticRegression())</pre></div></div></div><div class=\"sk-parallel\"><div class=\"sk-parallel-item\"><div class=\"sk-item\"><div class=\"sk-label-container\"><div class=\"sk-label sk-toggleable\"><input class=\"sk-toggleable__control sk-hidden--visually\" id=\"sk-estimator-id-31\" type=\"checkbox\" ><label for=\"sk-estimator-id-31\" class=\"sk-toggleable__label sk-toggleable__label-arrow\">estimator: LogisticRegression</label><div class=\"sk-toggleable__content\"><pre>LogisticRegression()</pre></div></div></div><div class=\"sk-serial\"><div class=\"sk-item\"><div class=\"sk-estimator sk-toggleable\"><input class=\"sk-toggleable__control sk-hidden--visually\" id=\"sk-estimator-id-32\" type=\"checkbox\" ><label for=\"sk-estimator-id-32\" class=\"sk-toggleable__label sk-toggleable__label-arrow\">LogisticRegression</label><div class=\"sk-toggleable__content\"><pre>LogisticRegression()</pre></div></div></div></div></div></div></div></div></div></div></div></div>"
            ],
            "text/plain": [
              "Pipeline(steps=[('union',\n",
              "                 FeatureUnion(transformer_list=[('numeric_features',\n",
              "                                                 Pipeline(steps=[('selector',\n",
              "                                                                  FunctionTransformer(func=<function <lambda> at 0x000001EA75980280>)),\n",
              "                                                                 ('imputer',\n",
              "                                                                  SimpleImputer())])),\n",
              "                                                ('text_features',\n",
              "                                                 Pipeline(steps=[('selector',\n",
              "                                                                  FunctionTransformer(func=<function combine_text_columns at 0x000001EA75B70820>)),\n",
              "                                                                 ('vectorizer',\n",
              "                                                                  CountVectorizer(token_pattern='\\\\S+(?=\\\\s+)'))]))])),\n",
              "                ('clf', OneVsRestClassifier(estimator=LogisticRegression()))])"
            ]
          },
          "execution_count": 122,
          "metadata": {},
          "output_type": "execute_result"
        }
      ],
      "source": [
        "pl_basic.fit(X_train, y_train)"
      ]
    },
    {
      "cell_type": "code",
      "execution_count": 123,
      "metadata": {
        "colab": {
          "base_uri": "https://localhost:8080/"
        },
        "id": "08Ukzcw5V-dr",
        "outputId": "e0e64aab-7856-4d2c-9466-9c5b661acef8"
      },
      "outputs": [
        {
          "data": {
            "text/plain": [
              "0.0"
            ]
          },
          "execution_count": 123,
          "metadata": {},
          "output_type": "execute_result"
        }
      ],
      "source": [
        "pl_basic.score(X_test, y_test)"
      ]
    },
    {
      "cell_type": "markdown",
      "metadata": {
        "id": "shFgWuH5V-ds"
      },
      "source": [
        "When no parameter is passed to CountVectorizer, it uses the default value: From sklearn documentation:  The default regexp select tokens of 2 or more alphanumeric characters (punctuation is completely ignored and always treated as a token separator)"
      ]
    },
    {
      "cell_type": "markdown",
      "metadata": {
        "id": "QoweVJgyV-ds"
      },
      "source": [
        "Let's test another model. See how using pipeline makes it all very nifty."
      ]
    },
    {
      "cell_type": "code",
      "execution_count": 124,
      "metadata": {
        "collapsed": true,
        "id": "YQLaPtkiV-ds"
      },
      "outputs": [],
      "source": [
        "plRF = Pipeline([\n",
        "    ('union', process_and_join_features),\n",
        "    ('clf', OneVsRestClassifier(RandomForestClassifier()))\n",
        "])"
      ]
    },
    {
      "cell_type": "code",
      "execution_count": 125,
      "metadata": {
        "colab": {
          "base_uri": "https://localhost:8080/",
          "height": 279
        },
        "id": "jeXapHonV-ds",
        "outputId": "dfb0f234-5e4e-49c7-878c-38ae841f227d"
      },
      "outputs": [
        {
          "data": {
            "text/html": [
              "<style>#sk-container-id-7 {color: black;background-color: white;}#sk-container-id-7 pre{padding: 0;}#sk-container-id-7 div.sk-toggleable {background-color: white;}#sk-container-id-7 label.sk-toggleable__label {cursor: pointer;display: block;width: 100%;margin-bottom: 0;padding: 0.3em;box-sizing: border-box;text-align: center;}#sk-container-id-7 label.sk-toggleable__label-arrow:before {content: \"▸\";float: left;margin-right: 0.25em;color: #696969;}#sk-container-id-7 label.sk-toggleable__label-arrow:hover:before {color: black;}#sk-container-id-7 div.sk-estimator:hover label.sk-toggleable__label-arrow:before {color: black;}#sk-container-id-7 div.sk-toggleable__content {max-height: 0;max-width: 0;overflow: hidden;text-align: left;background-color: #f0f8ff;}#sk-container-id-7 div.sk-toggleable__content pre {margin: 0.2em;color: black;border-radius: 0.25em;background-color: #f0f8ff;}#sk-container-id-7 input.sk-toggleable__control:checked~div.sk-toggleable__content {max-height: 200px;max-width: 100%;overflow: auto;}#sk-container-id-7 input.sk-toggleable__control:checked~label.sk-toggleable__label-arrow:before {content: \"▾\";}#sk-container-id-7 div.sk-estimator input.sk-toggleable__control:checked~label.sk-toggleable__label {background-color: #d4ebff;}#sk-container-id-7 div.sk-label input.sk-toggleable__control:checked~label.sk-toggleable__label {background-color: #d4ebff;}#sk-container-id-7 input.sk-hidden--visually {border: 0;clip: rect(1px 1px 1px 1px);clip: rect(1px, 1px, 1px, 1px);height: 1px;margin: -1px;overflow: hidden;padding: 0;position: absolute;width: 1px;}#sk-container-id-7 div.sk-estimator {font-family: monospace;background-color: #f0f8ff;border: 1px dotted black;border-radius: 0.25em;box-sizing: border-box;margin-bottom: 0.5em;}#sk-container-id-7 div.sk-estimator:hover {background-color: #d4ebff;}#sk-container-id-7 div.sk-parallel-item::after {content: \"\";width: 100%;border-bottom: 1px solid gray;flex-grow: 1;}#sk-container-id-7 div.sk-label:hover label.sk-toggleable__label {background-color: #d4ebff;}#sk-container-id-7 div.sk-serial::before {content: \"\";position: absolute;border-left: 1px solid gray;box-sizing: border-box;top: 0;bottom: 0;left: 50%;z-index: 0;}#sk-container-id-7 div.sk-serial {display: flex;flex-direction: column;align-items: center;background-color: white;padding-right: 0.2em;padding-left: 0.2em;position: relative;}#sk-container-id-7 div.sk-item {position: relative;z-index: 1;}#sk-container-id-7 div.sk-parallel {display: flex;align-items: stretch;justify-content: center;background-color: white;position: relative;}#sk-container-id-7 div.sk-item::before, #sk-container-id-7 div.sk-parallel-item::before {content: \"\";position: absolute;border-left: 1px solid gray;box-sizing: border-box;top: 0;bottom: 0;left: 50%;z-index: -1;}#sk-container-id-7 div.sk-parallel-item {display: flex;flex-direction: column;z-index: 1;position: relative;background-color: white;}#sk-container-id-7 div.sk-parallel-item:first-child::after {align-self: flex-end;width: 50%;}#sk-container-id-7 div.sk-parallel-item:last-child::after {align-self: flex-start;width: 50%;}#sk-container-id-7 div.sk-parallel-item:only-child::after {width: 0;}#sk-container-id-7 div.sk-dashed-wrapped {border: 1px dashed gray;margin: 0 0.4em 0.5em 0.4em;box-sizing: border-box;padding-bottom: 0.4em;background-color: white;}#sk-container-id-7 div.sk-label label {font-family: monospace;font-weight: bold;display: inline-block;line-height: 1.2em;}#sk-container-id-7 div.sk-label-container {text-align: center;}#sk-container-id-7 div.sk-container {/* jupyter's `normalize.less` sets `[hidden] { display: none; }` but bootstrap.min.css set `[hidden] { display: none !important; }` so we also need the `!important` here to be able to override the default hidden behavior on the sphinx rendered scikit-learn.org. See: https://github.com/scikit-learn/scikit-learn/issues/21755 */display: inline-block !important;position: relative;}#sk-container-id-7 div.sk-text-repr-fallback {display: none;}</style><div id=\"sk-container-id-7\" class=\"sk-top-container\"><div class=\"sk-text-repr-fallback\"><pre>Pipeline(steps=[(&#x27;union&#x27;,\n",
              "                 FeatureUnion(transformer_list=[(&#x27;numeric_features&#x27;,\n",
              "                                                 Pipeline(steps=[(&#x27;selector&#x27;,\n",
              "                                                                  FunctionTransformer(func=&lt;function &lt;lambda&gt; at 0x000001EA75980280&gt;)),\n",
              "                                                                 (&#x27;imputer&#x27;,\n",
              "                                                                  SimpleImputer())])),\n",
              "                                                (&#x27;text_features&#x27;,\n",
              "                                                 Pipeline(steps=[(&#x27;selector&#x27;,\n",
              "                                                                  FunctionTransformer(func=&lt;function combine_text_columns at 0x000001EA75B70820&gt;)),\n",
              "                                                                 (&#x27;vectorizer&#x27;,\n",
              "                                                                  CountVectorizer())]))])),\n",
              "                (&#x27;clf&#x27;,\n",
              "                 OneVsRestClassifier(estimator=RandomForestClassifier()))])</pre><b>In a Jupyter environment, please rerun this cell to show the HTML representation or trust the notebook. <br />On GitHub, the HTML representation is unable to render, please try loading this page with nbviewer.org.</b></div><div class=\"sk-container\" hidden><div class=\"sk-item sk-dashed-wrapped\"><div class=\"sk-label-container\"><div class=\"sk-label sk-toggleable\"><input class=\"sk-toggleable__control sk-hidden--visually\" id=\"sk-estimator-id-33\" type=\"checkbox\" ><label for=\"sk-estimator-id-33\" class=\"sk-toggleable__label sk-toggleable__label-arrow\">Pipeline</label><div class=\"sk-toggleable__content\"><pre>Pipeline(steps=[(&#x27;union&#x27;,\n",
              "                 FeatureUnion(transformer_list=[(&#x27;numeric_features&#x27;,\n",
              "                                                 Pipeline(steps=[(&#x27;selector&#x27;,\n",
              "                                                                  FunctionTransformer(func=&lt;function &lt;lambda&gt; at 0x000001EA75980280&gt;)),\n",
              "                                                                 (&#x27;imputer&#x27;,\n",
              "                                                                  SimpleImputer())])),\n",
              "                                                (&#x27;text_features&#x27;,\n",
              "                                                 Pipeline(steps=[(&#x27;selector&#x27;,\n",
              "                                                                  FunctionTransformer(func=&lt;function combine_text_columns at 0x000001EA75B70820&gt;)),\n",
              "                                                                 (&#x27;vectorizer&#x27;,\n",
              "                                                                  CountVectorizer())]))])),\n",
              "                (&#x27;clf&#x27;,\n",
              "                 OneVsRestClassifier(estimator=RandomForestClassifier()))])</pre></div></div></div><div class=\"sk-serial\"><div class=\"sk-item sk-dashed-wrapped\"><div class=\"sk-label-container\"><div class=\"sk-label sk-toggleable\"><input class=\"sk-toggleable__control sk-hidden--visually\" id=\"sk-estimator-id-34\" type=\"checkbox\" ><label for=\"sk-estimator-id-34\" class=\"sk-toggleable__label sk-toggleable__label-arrow\">union: FeatureUnion</label><div class=\"sk-toggleable__content\"><pre>FeatureUnion(transformer_list=[(&#x27;numeric_features&#x27;,\n",
              "                                Pipeline(steps=[(&#x27;selector&#x27;,\n",
              "                                                 FunctionTransformer(func=&lt;function &lt;lambda&gt; at 0x000001EA75980280&gt;)),\n",
              "                                                (&#x27;imputer&#x27;, SimpleImputer())])),\n",
              "                               (&#x27;text_features&#x27;,\n",
              "                                Pipeline(steps=[(&#x27;selector&#x27;,\n",
              "                                                 FunctionTransformer(func=&lt;function combine_text_columns at 0x000001EA75B70820&gt;)),\n",
              "                                                (&#x27;vectorizer&#x27;,\n",
              "                                                 CountVectorizer())]))])</pre></div></div></div><div class=\"sk-parallel\"><div class=\"sk-parallel-item\"><div class=\"sk-item\"><div class=\"sk-label-container\"><div class=\"sk-label sk-toggleable\"><label>numeric_features</label></div></div><div class=\"sk-serial\"><div class=\"sk-item\"><div class=\"sk-serial\"><div class=\"sk-item\"><div class=\"sk-estimator sk-toggleable\"><input class=\"sk-toggleable__control sk-hidden--visually\" id=\"sk-estimator-id-35\" type=\"checkbox\" ><label for=\"sk-estimator-id-35\" class=\"sk-toggleable__label sk-toggleable__label-arrow\">FunctionTransformer</label><div class=\"sk-toggleable__content\"><pre>FunctionTransformer(func=&lt;function &lt;lambda&gt; at 0x000001EA75980280&gt;)</pre></div></div></div><div class=\"sk-item\"><div class=\"sk-estimator sk-toggleable\"><input class=\"sk-toggleable__control sk-hidden--visually\" id=\"sk-estimator-id-36\" type=\"checkbox\" ><label for=\"sk-estimator-id-36\" class=\"sk-toggleable__label sk-toggleable__label-arrow\">SimpleImputer</label><div class=\"sk-toggleable__content\"><pre>SimpleImputer()</pre></div></div></div></div></div></div></div></div><div class=\"sk-parallel-item\"><div class=\"sk-item\"><div class=\"sk-label-container\"><div class=\"sk-label sk-toggleable\"><label>text_features</label></div></div><div class=\"sk-serial\"><div class=\"sk-item\"><div class=\"sk-serial\"><div class=\"sk-item\"><div class=\"sk-estimator sk-toggleable\"><input class=\"sk-toggleable__control sk-hidden--visually\" id=\"sk-estimator-id-37\" type=\"checkbox\" ><label for=\"sk-estimator-id-37\" class=\"sk-toggleable__label sk-toggleable__label-arrow\">FunctionTransformer</label><div class=\"sk-toggleable__content\"><pre>FunctionTransformer(func=&lt;function combine_text_columns at 0x000001EA75B70820&gt;)</pre></div></div></div><div class=\"sk-item\"><div class=\"sk-estimator sk-toggleable\"><input class=\"sk-toggleable__control sk-hidden--visually\" id=\"sk-estimator-id-38\" type=\"checkbox\" ><label for=\"sk-estimator-id-38\" class=\"sk-toggleable__label sk-toggleable__label-arrow\">CountVectorizer</label><div class=\"sk-toggleable__content\"><pre>CountVectorizer()</pre></div></div></div></div></div></div></div></div></div></div><div class=\"sk-item sk-dashed-wrapped\"><div class=\"sk-label-container\"><div class=\"sk-label sk-toggleable\"><input class=\"sk-toggleable__control sk-hidden--visually\" id=\"sk-estimator-id-39\" type=\"checkbox\" ><label for=\"sk-estimator-id-39\" class=\"sk-toggleable__label sk-toggleable__label-arrow\">clf: OneVsRestClassifier</label><div class=\"sk-toggleable__content\"><pre>OneVsRestClassifier(estimator=RandomForestClassifier())</pre></div></div></div><div class=\"sk-parallel\"><div class=\"sk-parallel-item\"><div class=\"sk-item\"><div class=\"sk-label-container\"><div class=\"sk-label sk-toggleable\"><input class=\"sk-toggleable__control sk-hidden--visually\" id=\"sk-estimator-id-40\" type=\"checkbox\" ><label for=\"sk-estimator-id-40\" class=\"sk-toggleable__label sk-toggleable__label-arrow\">estimator: RandomForestClassifier</label><div class=\"sk-toggleable__content\"><pre>RandomForestClassifier()</pre></div></div></div><div class=\"sk-serial\"><div class=\"sk-item\"><div class=\"sk-estimator sk-toggleable\"><input class=\"sk-toggleable__control sk-hidden--visually\" id=\"sk-estimator-id-41\" type=\"checkbox\" ><label for=\"sk-estimator-id-41\" class=\"sk-toggleable__label sk-toggleable__label-arrow\">RandomForestClassifier</label><div class=\"sk-toggleable__content\"><pre>RandomForestClassifier()</pre></div></div></div></div></div></div></div></div></div></div></div></div>"
            ],
            "text/plain": [
              "Pipeline(steps=[('union',\n",
              "                 FeatureUnion(transformer_list=[('numeric_features',\n",
              "                                                 Pipeline(steps=[('selector',\n",
              "                                                                  FunctionTransformer(func=<function <lambda> at 0x000001EA75980280>)),\n",
              "                                                                 ('imputer',\n",
              "                                                                  SimpleImputer())])),\n",
              "                                                ('text_features',\n",
              "                                                 Pipeline(steps=[('selector',\n",
              "                                                                  FunctionTransformer(func=<function combine_text_columns at 0x000001EA75B70820>)),\n",
              "                                                                 ('vectorizer',\n",
              "                                                                  CountVectorizer())]))])),\n",
              "                ('clf',\n",
              "                 OneVsRestClassifier(estimator=RandomForestClassifier()))])"
            ]
          },
          "execution_count": 125,
          "metadata": {},
          "output_type": "execute_result"
        }
      ],
      "source": [
        "plRF.fit(X_train, y_train)"
      ]
    },
    {
      "cell_type": "code",
      "execution_count": 126,
      "metadata": {
        "colab": {
          "base_uri": "https://localhost:8080/"
        },
        "id": "mqbkHwfNV-dt",
        "outputId": "d556455e-de92-4cf1-8d02-3f893e586e04"
      },
      "outputs": [
        {
          "data": {
            "text/plain": [
              "0.36923076923076925"
            ]
          },
          "execution_count": 126,
          "metadata": {},
          "output_type": "execute_result"
        }
      ],
      "source": [
        "plRF.score(X_test, y_test)"
      ]
    },
    {
      "cell_type": "markdown",
      "metadata": {
        "id": "4rzBmgSEV-dt"
      },
      "source": [
        "Wow! Huge improvement on the score."
      ]
    },
    {
      "cell_type": "markdown",
      "metadata": {
        "collapsed": true,
        "id": "fpME7_iFV-dt"
      },
      "source": [
        "Evidently RandomForestClassifier() works with multiclass labels out of the box. "
      ]
    },
    {
      "cell_type": "markdown",
      "metadata": {
        "id": "NSSWrveLV-dt"
      },
      "source": [
        "** Using n-grams and MaxAbsScaler **"
      ]
    },
    {
      "cell_type": "code",
      "execution_count": 127,
      "metadata": {
        "collapsed": true,
        "id": "FExmy8TpV-dt"
      },
      "outputs": [],
      "source": [
        "from sklearn.preprocessing import MaxAbsScaler"
      ]
    },
    {
      "cell_type": "code",
      "execution_count": 128,
      "metadata": {
        "collapsed": true,
        "id": "2PFQqo3KV-du"
      },
      "outputs": [],
      "source": [
        "pl = Pipeline([\n",
        "        ('union', FeatureUnion(\n",
        "            transformer_list = [\n",
        "                ('numeric_features', Pipeline([\n",
        "                    ('selector', get_numeric_data),\n",
        "                    ('imputer',SimpleImputer())\n",
        "                ])),\n",
        "\n",
        "                ('text_features', Pipeline([\n",
        "                    ('selector', get_text_data),\n",
        "                    ('vectorizer', CountVectorizer(token_pattern=TOKENS_ALPHANUMERIC,\n",
        "                                                   ngram_range=(1,2)))\n",
        "                ]))\n",
        "             ]\n",
        "        )),\n",
        "        ('scale', MaxAbsScaler()),\n",
        "        ('clf', OneVsRestClassifier(LogisticRegression()))\n",
        "    ])"
      ]
    },
    {
      "cell_type": "code",
      "execution_count": 129,
      "metadata": {
        "colab": {
          "base_uri": "https://localhost:8080/",
          "height": 313
        },
        "id": "MtD2Xk6PV-du",
        "outputId": "24b19c5d-dfee-48de-ae82-d88678ff3fbc"
      },
      "outputs": [
        {
          "data": {
            "text/html": [
              "<style>#sk-container-id-8 {color: black;background-color: white;}#sk-container-id-8 pre{padding: 0;}#sk-container-id-8 div.sk-toggleable {background-color: white;}#sk-container-id-8 label.sk-toggleable__label {cursor: pointer;display: block;width: 100%;margin-bottom: 0;padding: 0.3em;box-sizing: border-box;text-align: center;}#sk-container-id-8 label.sk-toggleable__label-arrow:before {content: \"▸\";float: left;margin-right: 0.25em;color: #696969;}#sk-container-id-8 label.sk-toggleable__label-arrow:hover:before {color: black;}#sk-container-id-8 div.sk-estimator:hover label.sk-toggleable__label-arrow:before {color: black;}#sk-container-id-8 div.sk-toggleable__content {max-height: 0;max-width: 0;overflow: hidden;text-align: left;background-color: #f0f8ff;}#sk-container-id-8 div.sk-toggleable__content pre {margin: 0.2em;color: black;border-radius: 0.25em;background-color: #f0f8ff;}#sk-container-id-8 input.sk-toggleable__control:checked~div.sk-toggleable__content {max-height: 200px;max-width: 100%;overflow: auto;}#sk-container-id-8 input.sk-toggleable__control:checked~label.sk-toggleable__label-arrow:before {content: \"▾\";}#sk-container-id-8 div.sk-estimator input.sk-toggleable__control:checked~label.sk-toggleable__label {background-color: #d4ebff;}#sk-container-id-8 div.sk-label input.sk-toggleable__control:checked~label.sk-toggleable__label {background-color: #d4ebff;}#sk-container-id-8 input.sk-hidden--visually {border: 0;clip: rect(1px 1px 1px 1px);clip: rect(1px, 1px, 1px, 1px);height: 1px;margin: -1px;overflow: hidden;padding: 0;position: absolute;width: 1px;}#sk-container-id-8 div.sk-estimator {font-family: monospace;background-color: #f0f8ff;border: 1px dotted black;border-radius: 0.25em;box-sizing: border-box;margin-bottom: 0.5em;}#sk-container-id-8 div.sk-estimator:hover {background-color: #d4ebff;}#sk-container-id-8 div.sk-parallel-item::after {content: \"\";width: 100%;border-bottom: 1px solid gray;flex-grow: 1;}#sk-container-id-8 div.sk-label:hover label.sk-toggleable__label {background-color: #d4ebff;}#sk-container-id-8 div.sk-serial::before {content: \"\";position: absolute;border-left: 1px solid gray;box-sizing: border-box;top: 0;bottom: 0;left: 50%;z-index: 0;}#sk-container-id-8 div.sk-serial {display: flex;flex-direction: column;align-items: center;background-color: white;padding-right: 0.2em;padding-left: 0.2em;position: relative;}#sk-container-id-8 div.sk-item {position: relative;z-index: 1;}#sk-container-id-8 div.sk-parallel {display: flex;align-items: stretch;justify-content: center;background-color: white;position: relative;}#sk-container-id-8 div.sk-item::before, #sk-container-id-8 div.sk-parallel-item::before {content: \"\";position: absolute;border-left: 1px solid gray;box-sizing: border-box;top: 0;bottom: 0;left: 50%;z-index: -1;}#sk-container-id-8 div.sk-parallel-item {display: flex;flex-direction: column;z-index: 1;position: relative;background-color: white;}#sk-container-id-8 div.sk-parallel-item:first-child::after {align-self: flex-end;width: 50%;}#sk-container-id-8 div.sk-parallel-item:last-child::after {align-self: flex-start;width: 50%;}#sk-container-id-8 div.sk-parallel-item:only-child::after {width: 0;}#sk-container-id-8 div.sk-dashed-wrapped {border: 1px dashed gray;margin: 0 0.4em 0.5em 0.4em;box-sizing: border-box;padding-bottom: 0.4em;background-color: white;}#sk-container-id-8 div.sk-label label {font-family: monospace;font-weight: bold;display: inline-block;line-height: 1.2em;}#sk-container-id-8 div.sk-label-container {text-align: center;}#sk-container-id-8 div.sk-container {/* jupyter's `normalize.less` sets `[hidden] { display: none; }` but bootstrap.min.css set `[hidden] { display: none !important; }` so we also need the `!important` here to be able to override the default hidden behavior on the sphinx rendered scikit-learn.org. See: https://github.com/scikit-learn/scikit-learn/issues/21755 */display: inline-block !important;position: relative;}#sk-container-id-8 div.sk-text-repr-fallback {display: none;}</style><div id=\"sk-container-id-8\" class=\"sk-top-container\"><div class=\"sk-text-repr-fallback\"><pre>Pipeline(steps=[(&#x27;union&#x27;,\n",
              "                 FeatureUnion(transformer_list=[(&#x27;numeric_features&#x27;,\n",
              "                                                 Pipeline(steps=[(&#x27;selector&#x27;,\n",
              "                                                                  FunctionTransformer(func=&lt;function &lt;lambda&gt; at 0x000001EA75980280&gt;)),\n",
              "                                                                 (&#x27;imputer&#x27;,\n",
              "                                                                  SimpleImputer())])),\n",
              "                                                (&#x27;text_features&#x27;,\n",
              "                                                 Pipeline(steps=[(&#x27;selector&#x27;,\n",
              "                                                                  FunctionTransformer(func=&lt;function combine_text_columns at 0x000001EA75B70820&gt;)),\n",
              "                                                                 (&#x27;vectorizer&#x27;,\n",
              "                                                                  CountVectorizer(ngram_range=(1,\n",
              "                                                                                               2),\n",
              "                                                                                  token_pattern=&#x27;[A-Za-z0-9]+(?=\\\\s+)&#x27;))]))])),\n",
              "                (&#x27;scale&#x27;, MaxAbsScaler()),\n",
              "                (&#x27;clf&#x27;, OneVsRestClassifier(estimator=LogisticRegression()))])</pre><b>In a Jupyter environment, please rerun this cell to show the HTML representation or trust the notebook. <br />On GitHub, the HTML representation is unable to render, please try loading this page with nbviewer.org.</b></div><div class=\"sk-container\" hidden><div class=\"sk-item sk-dashed-wrapped\"><div class=\"sk-label-container\"><div class=\"sk-label sk-toggleable\"><input class=\"sk-toggleable__control sk-hidden--visually\" id=\"sk-estimator-id-42\" type=\"checkbox\" ><label for=\"sk-estimator-id-42\" class=\"sk-toggleable__label sk-toggleable__label-arrow\">Pipeline</label><div class=\"sk-toggleable__content\"><pre>Pipeline(steps=[(&#x27;union&#x27;,\n",
              "                 FeatureUnion(transformer_list=[(&#x27;numeric_features&#x27;,\n",
              "                                                 Pipeline(steps=[(&#x27;selector&#x27;,\n",
              "                                                                  FunctionTransformer(func=&lt;function &lt;lambda&gt; at 0x000001EA75980280&gt;)),\n",
              "                                                                 (&#x27;imputer&#x27;,\n",
              "                                                                  SimpleImputer())])),\n",
              "                                                (&#x27;text_features&#x27;,\n",
              "                                                 Pipeline(steps=[(&#x27;selector&#x27;,\n",
              "                                                                  FunctionTransformer(func=&lt;function combine_text_columns at 0x000001EA75B70820&gt;)),\n",
              "                                                                 (&#x27;vectorizer&#x27;,\n",
              "                                                                  CountVectorizer(ngram_range=(1,\n",
              "                                                                                               2),\n",
              "                                                                                  token_pattern=&#x27;[A-Za-z0-9]+(?=\\\\s+)&#x27;))]))])),\n",
              "                (&#x27;scale&#x27;, MaxAbsScaler()),\n",
              "                (&#x27;clf&#x27;, OneVsRestClassifier(estimator=LogisticRegression()))])</pre></div></div></div><div class=\"sk-serial\"><div class=\"sk-item sk-dashed-wrapped\"><div class=\"sk-label-container\"><div class=\"sk-label sk-toggleable\"><input class=\"sk-toggleable__control sk-hidden--visually\" id=\"sk-estimator-id-43\" type=\"checkbox\" ><label for=\"sk-estimator-id-43\" class=\"sk-toggleable__label sk-toggleable__label-arrow\">union: FeatureUnion</label><div class=\"sk-toggleable__content\"><pre>FeatureUnion(transformer_list=[(&#x27;numeric_features&#x27;,\n",
              "                                Pipeline(steps=[(&#x27;selector&#x27;,\n",
              "                                                 FunctionTransformer(func=&lt;function &lt;lambda&gt; at 0x000001EA75980280&gt;)),\n",
              "                                                (&#x27;imputer&#x27;, SimpleImputer())])),\n",
              "                               (&#x27;text_features&#x27;,\n",
              "                                Pipeline(steps=[(&#x27;selector&#x27;,\n",
              "                                                 FunctionTransformer(func=&lt;function combine_text_columns at 0x000001EA75B70820&gt;)),\n",
              "                                                (&#x27;vectorizer&#x27;,\n",
              "                                                 CountVectorizer(ngram_range=(1,\n",
              "                                                                              2),\n",
              "                                                                 token_pattern=&#x27;[A-Za-z0-9]+(?=\\\\s+)&#x27;))]))])</pre></div></div></div><div class=\"sk-parallel\"><div class=\"sk-parallel-item\"><div class=\"sk-item\"><div class=\"sk-label-container\"><div class=\"sk-label sk-toggleable\"><label>numeric_features</label></div></div><div class=\"sk-serial\"><div class=\"sk-item\"><div class=\"sk-serial\"><div class=\"sk-item\"><div class=\"sk-estimator sk-toggleable\"><input class=\"sk-toggleable__control sk-hidden--visually\" id=\"sk-estimator-id-44\" type=\"checkbox\" ><label for=\"sk-estimator-id-44\" class=\"sk-toggleable__label sk-toggleable__label-arrow\">FunctionTransformer</label><div class=\"sk-toggleable__content\"><pre>FunctionTransformer(func=&lt;function &lt;lambda&gt; at 0x000001EA75980280&gt;)</pre></div></div></div><div class=\"sk-item\"><div class=\"sk-estimator sk-toggleable\"><input class=\"sk-toggleable__control sk-hidden--visually\" id=\"sk-estimator-id-45\" type=\"checkbox\" ><label for=\"sk-estimator-id-45\" class=\"sk-toggleable__label sk-toggleable__label-arrow\">SimpleImputer</label><div class=\"sk-toggleable__content\"><pre>SimpleImputer()</pre></div></div></div></div></div></div></div></div><div class=\"sk-parallel-item\"><div class=\"sk-item\"><div class=\"sk-label-container\"><div class=\"sk-label sk-toggleable\"><label>text_features</label></div></div><div class=\"sk-serial\"><div class=\"sk-item\"><div class=\"sk-serial\"><div class=\"sk-item\"><div class=\"sk-estimator sk-toggleable\"><input class=\"sk-toggleable__control sk-hidden--visually\" id=\"sk-estimator-id-46\" type=\"checkbox\" ><label for=\"sk-estimator-id-46\" class=\"sk-toggleable__label sk-toggleable__label-arrow\">FunctionTransformer</label><div class=\"sk-toggleable__content\"><pre>FunctionTransformer(func=&lt;function combine_text_columns at 0x000001EA75B70820&gt;)</pre></div></div></div><div class=\"sk-item\"><div class=\"sk-estimator sk-toggleable\"><input class=\"sk-toggleable__control sk-hidden--visually\" id=\"sk-estimator-id-47\" type=\"checkbox\" ><label for=\"sk-estimator-id-47\" class=\"sk-toggleable__label sk-toggleable__label-arrow\">CountVectorizer</label><div class=\"sk-toggleable__content\"><pre>CountVectorizer(ngram_range=(1, 2), token_pattern=&#x27;[A-Za-z0-9]+(?=\\\\s+)&#x27;)</pre></div></div></div></div></div></div></div></div></div></div><div class=\"sk-item\"><div class=\"sk-estimator sk-toggleable\"><input class=\"sk-toggleable__control sk-hidden--visually\" id=\"sk-estimator-id-48\" type=\"checkbox\" ><label for=\"sk-estimator-id-48\" class=\"sk-toggleable__label sk-toggleable__label-arrow\">MaxAbsScaler</label><div class=\"sk-toggleable__content\"><pre>MaxAbsScaler()</pre></div></div></div><div class=\"sk-item sk-dashed-wrapped\"><div class=\"sk-label-container\"><div class=\"sk-label sk-toggleable\"><input class=\"sk-toggleable__control sk-hidden--visually\" id=\"sk-estimator-id-49\" type=\"checkbox\" ><label for=\"sk-estimator-id-49\" class=\"sk-toggleable__label sk-toggleable__label-arrow\">clf: OneVsRestClassifier</label><div class=\"sk-toggleable__content\"><pre>OneVsRestClassifier(estimator=LogisticRegression())</pre></div></div></div><div class=\"sk-parallel\"><div class=\"sk-parallel-item\"><div class=\"sk-item\"><div class=\"sk-label-container\"><div class=\"sk-label sk-toggleable\"><input class=\"sk-toggleable__control sk-hidden--visually\" id=\"sk-estimator-id-50\" type=\"checkbox\" ><label for=\"sk-estimator-id-50\" class=\"sk-toggleable__label sk-toggleable__label-arrow\">estimator: LogisticRegression</label><div class=\"sk-toggleable__content\"><pre>LogisticRegression()</pre></div></div></div><div class=\"sk-serial\"><div class=\"sk-item\"><div class=\"sk-estimator sk-toggleable\"><input class=\"sk-toggleable__control sk-hidden--visually\" id=\"sk-estimator-id-51\" type=\"checkbox\" ><label for=\"sk-estimator-id-51\" class=\"sk-toggleable__label sk-toggleable__label-arrow\">LogisticRegression</label><div class=\"sk-toggleable__content\"><pre>LogisticRegression()</pre></div></div></div></div></div></div></div></div></div></div></div></div>"
            ],
            "text/plain": [
              "Pipeline(steps=[('union',\n",
              "                 FeatureUnion(transformer_list=[('numeric_features',\n",
              "                                                 Pipeline(steps=[('selector',\n",
              "                                                                  FunctionTransformer(func=<function <lambda> at 0x000001EA75980280>)),\n",
              "                                                                 ('imputer',\n",
              "                                                                  SimpleImputer())])),\n",
              "                                                ('text_features',\n",
              "                                                 Pipeline(steps=[('selector',\n",
              "                                                                  FunctionTransformer(func=<function combine_text_columns at 0x000001EA75B70820>)),\n",
              "                                                                 ('vectorizer',\n",
              "                                                                  CountVectorizer(ngram_range=(1,\n",
              "                                                                                               2),\n",
              "                                                                                  token_pattern='[A-Za-z0-9]+(?=\\\\s+)'))]))])),\n",
              "                ('scale', MaxAbsScaler()),\n",
              "                ('clf', OneVsRestClassifier(estimator=LogisticRegression()))])"
            ]
          },
          "execution_count": 129,
          "metadata": {},
          "output_type": "execute_result"
        }
      ],
      "source": [
        "pl.fit(X_train, y_train)"
      ]
    },
    {
      "cell_type": "code",
      "execution_count": 130,
      "metadata": {
        "colab": {
          "base_uri": "https://localhost:8080/"
        },
        "id": "TtGVE3kHV-dv",
        "outputId": "a8b4bf3e-4648-4701-fc5c-5fb1d0de290d"
      },
      "outputs": [
        {
          "data": {
            "text/plain": [
              "0.3596153846153846"
            ]
          },
          "execution_count": 130,
          "metadata": {},
          "output_type": "execute_result"
        }
      ],
      "source": [
        "pl.score(X_test, y_test)"
      ]
    },
    {
      "cell_type": "markdown",
      "metadata": {
        "id": "bYpvhhXZV-dv"
      },
      "source": [
        "SparseInteractions code from https://github.com/drivendataorg/box-plots-sklearn/blob/master/src/features/SparseInteractions.py\n",
        "\n",
        "SparseInteractions does the same thing as sklearn.preprocessing.PolynomialFeatures, but it uses sparse matrices to do so."
      ]
    },
    {
      "cell_type": "code",
      "execution_count": 131,
      "metadata": {
        "collapsed": true,
        "id": "FKepQF27V-dv"
      },
      "outputs": [],
      "source": [
        "from itertools import combinations\n",
        "\n",
        "import numpy as np\n",
        "from scipy import sparse\n",
        "from sklearn.base import BaseEstimator, TransformerMixin\n",
        "\n",
        "\n",
        "class SparseInteractions(BaseEstimator, TransformerMixin):\n",
        "    def __init__(self, degree=2, feature_name_separator=\"_\"):\n",
        "        self.degree = degree\n",
        "        self.feature_name_separator = feature_name_separator\n",
        "\n",
        "    def fit(self, X, y=None):\n",
        "        return self\n",
        "\n",
        "    def transform(self, X):\n",
        "        if not sparse.isspmatrix_csc(X):\n",
        "            X = sparse.csc_matrix(X)\n",
        "\n",
        "        if hasattr(X, \"columns\"):\n",
        "            self.orig_col_names = X.columns\n",
        "        else:\n",
        "            self.orig_col_names = np.array([str(i) for i in range(X.shape[1])])\n",
        "\n",
        "        spi = self._create_sparse_interactions(X)\n",
        "        return spi\n",
        "\n",
        "    def get_feature_names(self):\n",
        "        return self.feature_names\n",
        "\n",
        "    def _create_sparse_interactions(self, X):\n",
        "        out_mat = []\n",
        "        self.feature_names = self.orig_col_names.tolist()\n",
        "\n",
        "        for sub_degree in range(2, self.degree + 1):\n",
        "            for col_ixs in combinations(range(X.shape[1]), sub_degree):\n",
        "                # add name for new column\n",
        "                name = self.feature_name_separator.join(self.orig_col_names[list(col_ixs)])\n",
        "                self.feature_names.append(name)\n",
        "\n",
        "                # get column multiplications value\n",
        "                out = X[:, col_ixs[0]]\n",
        "                for j in col_ixs[1:]:\n",
        "                    out = out.multiply(X[:, j])\n",
        "\n",
        "                out_mat.append(out)\n",
        "\n",
        "        return sparse.hstack([X] + out_mat)"
      ]
    },
    {
      "cell_type": "markdown",
      "metadata": {
        "id": "g5qb5tnfV-dw"
      },
      "source": [
        "Implementing the interaction model"
      ]
    },
    {
      "cell_type": "code",
      "execution_count": 133,
      "metadata": {
        "colab": {
          "base_uri": "https://localhost:8080/",
          "height": 235
        },
        "id": "c38-tQZgV-dx",
        "outputId": "90cee4d5-fce5-43f1-c233-4e1faf2a676d"
      },
      "outputs": [],
      "source": [
        "pl = Pipeline([\n",
        "        ('union', FeatureUnion(\n",
        "            transformer_list = [\n",
        "                ('numeric_features', Pipeline([\n",
        "                    ('selector', get_numeric_data),\n",
        "                    ('imputer', SimpleImputer())\n",
        "                ])),\n",
        "                ('text_features', Pipeline([\n",
        "                    ('selector', get_text_data),\n",
        "                    ('vectorizer', CountVectorizer(token_pattern=TOKENS_ALPHANUMERIC,\n",
        "                                                   ngram_range=(1, 2)))\n",
        "                ]))\n",
        "             ]\n",
        "        )),\n",
        "        ('int', SparseInteractions(degree=2)),\n",
        "        ('scale', MaxAbsScaler()),\n",
        "        ('clf', OneVsRestClassifier(LogisticRegression()))\n",
        "    ])"
      ]
    },
    {
      "cell_type": "markdown",
      "metadata": {
        "id": "j_se7tEZV-dx"
      },
      "source": [
        "Using HashingVectorizer to speed things up"
      ]
    },
    {
      "cell_type": "code",
      "execution_count": 134,
      "metadata": {
        "collapsed": true,
        "id": "mgAhBQptV-dx"
      },
      "outputs": [],
      "source": [
        "# Import HashingVectorizer\n",
        "from sklearn.feature_extraction.text import HashingVectorizer\n",
        "\n",
        "# Get text data: text_data\n",
        "text_data = combine_text_columns(X_train)\n",
        "\n",
        "# Create the token pattern: TOKENS_ALPHANUMERIC\n",
        "TOKENS_ALPHANUMERIC = '[A-Za-z0-9]+(?=\\\\s+)' \n",
        "\n",
        "# Instantiate the HashingVectorizer: hashing_vec\n",
        "hashing_vec = HashingVectorizer(token_pattern = TOKENS_ALPHANUMERIC)\n",
        "\n",
        "# Fit and transform the Hashing Vectorizer\n",
        "hashed_text = hashing_vec.fit_transform(text_data)\n",
        "\n",
        "# Create DataFrame and print the head\n",
        "hashed_df = pd.DataFrame(hashed_text.data)"
      ]
    },
    {
      "cell_type": "code",
      "execution_count": 135,
      "metadata": {
        "colab": {
          "base_uri": "https://localhost:8080/"
        },
        "id": "eVYzodzkV-dx",
        "outputId": "9dbe3d5a-1e22-41bf-bf56-5991ed3d5ec4"
      },
      "outputs": [
        {
          "data": {
            "text/plain": [
              "<1040x1048576 sparse matrix of type '<class 'numpy.float64'>'\n",
              "\twith 14986 stored elements in Compressed Sparse Row format>"
            ]
          },
          "execution_count": 135,
          "metadata": {},
          "output_type": "execute_result"
        }
      ],
      "source": [
        "hashed_text"
      ]
    },
    {
      "cell_type": "code",
      "execution_count": 136,
      "metadata": {
        "colab": {
          "base_uri": "https://localhost:8080/"
        },
        "id": "sBGs6mYLV-dx",
        "outputId": "5a4c7993-8858-4636-ee95-b60562b7110a"
      },
      "outputs": [
        {
          "data": {
            "text/plain": [
              "array([-0.16012815,  0.16012815, -0.48038446, ..., -0.19611614,\n",
              "        0.58834841, -0.19611614])"
            ]
          },
          "execution_count": 136,
          "metadata": {},
          "output_type": "execute_result"
        }
      ],
      "source": [
        "hashed_text.data"
      ]
    },
    {
      "cell_type": "code",
      "execution_count": 137,
      "metadata": {
        "colab": {
          "base_uri": "https://localhost:8080/",
          "height": 206
        },
        "id": "g3o2znygV-dy",
        "outputId": "a50640ff-bdc7-426e-b2f9-d764bd699237"
      },
      "outputs": [
        {
          "data": {
            "text/html": [
              "<div>\n",
              "<style scoped>\n",
              "    .dataframe tbody tr th:only-of-type {\n",
              "        vertical-align: middle;\n",
              "    }\n",
              "\n",
              "    .dataframe tbody tr th {\n",
              "        vertical-align: top;\n",
              "    }\n",
              "\n",
              "    .dataframe thead th {\n",
              "        text-align: right;\n",
              "    }\n",
              "</style>\n",
              "<table border=\"1\" class=\"dataframe\">\n",
              "  <thead>\n",
              "    <tr style=\"text-align: right;\">\n",
              "      <th></th>\n",
              "      <th>0</th>\n",
              "    </tr>\n",
              "  </thead>\n",
              "  <tbody>\n",
              "    <tr>\n",
              "      <th>0</th>\n",
              "      <td>-0.160128</td>\n",
              "    </tr>\n",
              "    <tr>\n",
              "      <th>1</th>\n",
              "      <td>0.160128</td>\n",
              "    </tr>\n",
              "    <tr>\n",
              "      <th>2</th>\n",
              "      <td>-0.480384</td>\n",
              "    </tr>\n",
              "    <tr>\n",
              "      <th>3</th>\n",
              "      <td>-0.320256</td>\n",
              "    </tr>\n",
              "    <tr>\n",
              "      <th>4</th>\n",
              "      <td>0.160128</td>\n",
              "    </tr>\n",
              "  </tbody>\n",
              "</table>\n",
              "</div>"
            ],
            "text/plain": [
              "          0\n",
              "0 -0.160128\n",
              "1  0.160128\n",
              "2 -0.480384\n",
              "3 -0.320256\n",
              "4  0.160128"
            ]
          },
          "execution_count": 137,
          "metadata": {},
          "output_type": "execute_result"
        }
      ],
      "source": [
        "hashed_df.head()"
      ]
    },
    {
      "cell_type": "code",
      "execution_count": 138,
      "metadata": {
        "colab": {
          "base_uri": "https://localhost:8080/"
        },
        "id": "hYmZQcwcV-dy",
        "outputId": "dca68933-00ee-43db-9f0e-b1c239d28e75"
      },
      "outputs": [
        {
          "data": {
            "text/plain": [
              "198      Care and Upkeep of Building Services Title I ...\n",
              "750       General Purpose School TCHER 5TH GRADE  Pers...\n",
              "1524     Other Community Services * Title I - Disadvan...\n",
              "1770     BASIC (FEFP K-12)              GENERAL FUND  ...\n",
              "1951     INST STAFF TRAINING SVCS       GENERAL FUND  ...\n",
              "dtype: object"
            ]
          },
          "execution_count": 138,
          "metadata": {},
          "output_type": "execute_result"
        }
      ],
      "source": [
        "text_data.head()"
      ]
    },
    {
      "cell_type": "code",
      "execution_count": null,
      "metadata": {
        "collapsed": true,
        "id": "uEnlwqUiV-dy"
      },
      "outputs": [],
      "source": []
    },
    {
      "cell_type": "code",
      "execution_count": null,
      "metadata": {},
      "outputs": [],
      "source": []
    }
  ],
  "metadata": {
    "colab": {
      "provenance": []
    },
    "kernelspec": {
      "display_name": "Python 3",
      "language": "python",
      "name": "python3"
    },
    "language_info": {
      "codemirror_mode": {
        "name": "ipython",
        "version": 3
      },
      "file_extension": ".py",
      "mimetype": "text/x-python",
      "name": "python",
      "nbconvert_exporter": "python",
      "pygments_lexer": "ipython3",
      "version": "3.10.10"
    }
  },
  "nbformat": 4,
  "nbformat_minor": 0
}
